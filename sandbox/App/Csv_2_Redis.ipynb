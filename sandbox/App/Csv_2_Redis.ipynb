{
 "cells": [
  {
   "cell_type": "code",
   "execution_count": 79,
   "metadata": {
    "collapsed": true
   },
   "outputs": [],
   "source": [
    "#http://stackoverflow.com/questions/15850112/redis-how-to-parse-a-list-result\n",
    "#from redisworks import Root\n",
    "import re \n",
    "import pandas as pd \n",
    "from redis import Redis\n",
    "r=Redis()"
   ]
  },
  {
   "cell_type": "code",
   "execution_count": 80,
   "metadata": {
    "collapsed": true
   },
   "outputs": [],
   "source": [
    "f=open('inference_rules_database.csv','r')\n",
    "data=f.readlines()"
   ]
  },
  {
   "cell_type": "code",
   "execution_count": 82,
   "metadata": {
    "collapsed": true
   },
   "outputs": [],
   "source": [
    "for line in data:\n",
    "    entry=line.split(',')\n",
    "    key=entry[0].strip()\n",
    "    value=entry[1:]\n",
    "    r.set(key,value)\n",
    "    #print pd.Series(value)"
   ]
  },
  {
   "cell_type": "code",
   "execution_count": 77,
   "metadata": {},
   "outputs": [
    {
     "ename": "TypeError",
     "evalue": "'LazyDot' object is not callable",
     "traceback": [
      "\u001b[0;31m---------------------------------------------------------------------------\u001b[0m",
      "\u001b[0;31mTypeError\u001b[0m                                 Traceback (most recent call last)",
      "\u001b[0;32m<ipython-input-77-7853965396e3>\u001b[0m in \u001b[0;36m<module>\u001b[0;34m()\u001b[0m\n\u001b[0;32m----> 1\u001b[0;31m \u001b[0;32mprint\u001b[0m \u001b[0mr\u001b[0m\u001b[0;34m.\u001b[0m\u001b[0mkeys\u001b[0m\u001b[0;34m(\u001b[0m\u001b[0;34m)\u001b[0m\u001b[0;34m\u001b[0m\u001b[0m\n\u001b[0m",
      "\u001b[0;31mTypeError\u001b[0m: 'LazyDot' object is not callable"
     ],
     "output_type": "error"
    }
   ],
   "source": [
    ""
   ]
  },
  {
   "cell_type": "code",
   "execution_count": 29,
   "metadata": {
    "collapsed": true
   },
   "outputs": [],
   "source": [
    "f=open('symbols_database.csv','r')\n",
    "data=f.readlines()\n",
    "for line in data:\n",
    "    entry=line.split(',')\n",
    "    key=entry[0].strip()\n",
    "    value=entry[1:]\n",
    "    r.set(key,value)\n",
    "    #print pd.Series(value)"
   ]
  },
  {
   "cell_type": "code",
   "execution_count": 30,
   "metadata": {},
   "outputs": [
    {
     "data": {
      "text/plain": [
       "'[\\'k\\', \\'            \"variable\"\\', \\'\"none\"\\', \\'         \"1/length\"\\', \\'     \"wave number\"\\', \"          k = sympy.Symbol(\\'k\\')\\\\n\"]'"
      ]
     },
     "execution_count": 30,
     "metadata": {},
     "output_type": "execute_result"
    }
   ],
   "source": [
    "r.get('948588392938481')"
   ]
  },
  {
   "cell_type": "code",
   "execution_count": 31,
   "metadata": {
    "collapsed": true
   },
   "outputs": [],
   "source": [
    "f=open('feed_database.csv','r')\n",
    "data=f.readlines()\n",
    "for line in data:\n",
    "    entry=line.split(',')\n",
    "    key=entry[0].strip()\n",
    "    value=entry[1:]\n",
    "    r.set(key,value)\n",
    "    #print pd.Series(value)"
   ]
  },
  {
   "cell_type": "code",
   "execution_count": 32,
   "metadata": {},
   "outputs": [
    {
     "data": {
      "text/plain": [
       "\"['x\\\\n']\""
      ]
     },
     "execution_count": 32,
     "metadata": {},
     "output_type": "execute_result"
    }
   ],
   "source": [
    "r.get('2393922')"
   ]
  },
  {
   "cell_type": "code",
   "execution_count": 33,
   "metadata": {
    "collapsed": true
   },
   "outputs": [],
   "source": [
    "f=open('expressions_database.csv','r')\n",
    "data=f.readlines()\n",
    "for line in data:\n",
    "    entry=line.split(',')\n",
    "    key=entry[0].strip()\n",
    "    value=entry[1:]\n",
    "    r.set(key,value)"
   ]
  },
  {
   "cell_type": "code",
   "execution_count": 34,
   "metadata": {},
   "outputs": [
    {
     "data": {
      "text/plain": [
       "\"['\\\\\\\\langle a \\\\\\\\rangle^*=\\\\\\\\langle a \\\\\\\\rangle\\\\n']\""
      ]
     },
     "execution_count": 34,
     "metadata": {},
     "output_type": "execute_result"
    }
   ],
   "source": [
    "r.get('2848934890')"
   ]
  },
  {
   "cell_type": "code",
   "execution_count": 35,
   "metadata": {
    "collapsed": true
   },
   "outputs": [],
   "source": [
    "################# Needs a uniqe string as the key ######################\n",
    "f=open('connections_database.csv','r')\n",
    "data=f.readlines()\n",
    "for line in data:\n",
    "    entry=line.split(',')\n",
    "    key=entry[0].strip()\n",
    "    value=entry[1:]\n",
    "    r.set(key,value)"
   ]
  },
  {
   "cell_type": "code",
   "execution_count": null,
   "metadata": {
    "collapsed": true
   },
   "outputs": [],
   "source": [
    ""
   ]
  },
  {
   "cell_type": "code",
   "execution_count": 36,
   "metadata": {
    "collapsed": true
   },
   "outputs": [],
   "source": [
    "f=open('comments_database.csv','r')\n",
    "data=f.readlines()\n",
    "for line in data:\n",
    "    entry=line.split(',')\n",
    "    key=entry[0].strip()\n",
    "    value=entry[1:]\n",
    "    r.set(key,value)"
   ]
  },
  {
   "cell_type": "code",
   "execution_count": 37,
   "metadata": {},
   "outputs": [
    {
     "data": {
      "text/plain": [
       "'[\"\\\\\\\\href{http://en.wikipedia.org/wiki/Amp%C3%A8re%27s_circuital_law}; part of \\\\\\\\href{http://en.wikipedia.org/wiki/Maxwell\\'s_equations}{Ampere\\'s circuital law}{Maxwell\\'s equations}\\\\n\"]'"
      ]
     },
     "execution_count": 37,
     "metadata": {},
     "output_type": "execute_result"
    }
   ],
   "source": [
    "r.get('9999999978')"
   ]
  },
  {
   "cell_type": "code",
   "execution_count": 42,
   "metadata": {},
   "outputs": [
    {
     "data": {
      "text/plain": [
       "3L"
      ]
     },
     "execution_count": 42,
     "metadata": {},
     "output_type": "execute_result"
    }
   ],
   "source": [
    "r.rpush('test',[1,2,3,4])"
   ]
  },
  {
   "cell_type": "code",
   "execution_count": 52,
   "metadata": {},
   "outputs": [
    {
     "name": "stdout",
     "output_type": "stream",
     "text": [
      "1\n",
      "[1]\n",
      "[1, 2, 3, 4]\n"
     ]
    }
   ],
   "source": [
    "for ix in range(r.llen('test')):\n",
    "    print r.lindex('test',ix)"
   ]
  },
  {
   "cell_type": "code",
   "execution_count": 11,
   "metadata": {},
   "outputs": [
    {
     "data": {
      "text/plain": [
       "u'/home/user/proofofconcept/v3_CSV/databases'"
      ]
     },
     "execution_count": 11,
     "metadata": {},
     "output_type": "execute_result"
    }
   ],
   "source": [
    "pwd"
   ]
  },
  {
   "cell_type": "code",
   "execution_count": 1,
   "metadata": {},
   "outputs": [
    {
     "ename": "IOError",
     "evalue": "[Errno 2] No such file or directory: 'ast_test.py'",
     "traceback": [
      "\u001b[0;31m---------------------------------------------------------------------------\u001b[0m",
      "\u001b[0;31mIOError\u001b[0m                                   Traceback (most recent call last)",
      "\u001b[0;32m<ipython-input-1-f5f3d1bd51fb>\u001b[0m in \u001b[0;36m<module>\u001b[0;34m()\u001b[0m\n\u001b[1;32m      1\u001b[0m \u001b[0;32mimport\u001b[0m \u001b[0mast\u001b[0m\u001b[0;34m\u001b[0m\u001b[0m\n\u001b[1;32m      2\u001b[0m \u001b[0;32mfrom\u001b[0m \u001b[0mastmonkey\u001b[0m \u001b[0;32mimport\u001b[0m \u001b[0mtransformers\u001b[0m\u001b[0;34m\u001b[0m\u001b[0m\n\u001b[0;32m----> 3\u001b[0;31m \u001b[0mf\u001b[0m\u001b[0;34m=\u001b[0m\u001b[0mopen\u001b[0m\u001b[0;34m(\u001b[0m\u001b[0;34m'ast_test.py'\u001b[0m\u001b[0;34m)\u001b[0m\u001b[0;34m\u001b[0m\u001b[0m\n\u001b[0m\u001b[1;32m      4\u001b[0m \u001b[0mnode\u001b[0m \u001b[0;34m=\u001b[0m \u001b[0mast\u001b[0m\u001b[0;34m.\u001b[0m\u001b[0mparse\u001b[0m\u001b[0;34m(\u001b[0m\u001b[0mf\u001b[0m\u001b[0;34m.\u001b[0m\u001b[0mread\u001b[0m\u001b[0;34m(\u001b[0m\u001b[0;34m)\u001b[0m\u001b[0;34m)\u001b[0m\u001b[0;34m\u001b[0m\u001b[0m\n\u001b[1;32m      5\u001b[0m \u001b[0mnode\u001b[0m \u001b[0;34m=\u001b[0m \u001b[0mtransformers\u001b[0m\u001b[0;34m.\u001b[0m\u001b[0mParentNodeTransformer\u001b[0m\u001b[0;34m(\u001b[0m\u001b[0;34m)\u001b[0m\u001b[0;34m.\u001b[0m\u001b[0mvisit\u001b[0m\u001b[0;34m(\u001b[0m\u001b[0mnode\u001b[0m\u001b[0;34m)\u001b[0m\u001b[0;34m\u001b[0m\u001b[0m\n",
      "\u001b[0;31mIOError\u001b[0m: [Errno 2] No such file or directory: 'ast_test.py'"
     ],
     "output_type": "error"
    }
   ],
   "source": [
    "import ast\n",
    "from astmonkey import transformers\n",
    "f=open()\n",
    "node = ast.parse(f.read())\n",
    "node = transformers.ParentNodeTransformer().visit(node)\n",
    "visitor = visitors.GraphNodeVisitor()\n",
    "visitor.visit(node)\n",
    "visitor.graph.write_dot('test')\n",
    "#assert(node == node.body[0].parent)\n",
    "#assert(node.body[0].parent_field == 'body')\n",
    "#assert(node.body[0].parent_field_index == 0)"
   ]
  },
  {
   "cell_type": "code",
   "execution_count": 2,
   "metadata": {},
   "outputs": [
    {
     "ename": "Exception",
     "evalue": "\"dot\" not found in path.",
     "traceback": [
      "\u001b[0;31m---------------------------------------------------------------------------\u001b[0m",
      "\u001b[0;31mException\u001b[0m                                 Traceback (most recent call last)",
      "\u001b[0;32m<ipython-input-2-c20c509494d5>\u001b[0m in \u001b[0;36m<module>\u001b[0;34m()\u001b[0m\n\u001b[1;32m      8\u001b[0m \u001b[0mvisitor\u001b[0m \u001b[0;34m=\u001b[0m \u001b[0mvisitors\u001b[0m\u001b[0;34m.\u001b[0m\u001b[0mGraphNodeVisitor\u001b[0m\u001b[0;34m(\u001b[0m\u001b[0;34m)\u001b[0m\u001b[0;34m\u001b[0m\u001b[0m\n\u001b[1;32m      9\u001b[0m \u001b[0mvisitor\u001b[0m\u001b[0;34m.\u001b[0m\u001b[0mvisit\u001b[0m\u001b[0;34m(\u001b[0m\u001b[0mnode\u001b[0m\u001b[0;34m)\u001b[0m\u001b[0;34m\u001b[0m\u001b[0m\n\u001b[0;32m---> 10\u001b[0;31m \u001b[0mvisitor\u001b[0m\u001b[0;34m.\u001b[0m\u001b[0mgraph\u001b[0m\u001b[0;34m.\u001b[0m\u001b[0mwrite_dot\u001b[0m\u001b[0;34m(\u001b[0m\u001b[0;34m'test'\u001b[0m\u001b[0;34m)\u001b[0m\u001b[0;34m\u001b[0m\u001b[0m\n\u001b[0m\u001b[1;32m     11\u001b[0m \u001b[0mf\u001b[0m\u001b[0;34m=\u001b[0m\u001b[0mopen\u001b[0m\u001b[0;34m(\u001b[0m\u001b[0;34m'test'\u001b[0m\u001b[0;34m)\u001b[0m\u001b[0;34m\u001b[0m\u001b[0m\n\u001b[1;32m     12\u001b[0m \u001b[0mdata\u001b[0m\u001b[0;34m=\u001b[0m\u001b[0mf\u001b[0m\u001b[0;34m.\u001b[0m\u001b[0mreadlines\u001b[0m\u001b[0;34m(\u001b[0m\u001b[0;34m)\u001b[0m\u001b[0;34m\u001b[0m\u001b[0m\n",
      "\u001b[0;32m/usr/local/lib/python2.7/dist-packages/pydot.pyc\u001b[0m in \u001b[0;36m<lambda>\u001b[0;34m(path, f, prog)\u001b[0m\n\u001b[1;32m   1689\u001b[0m                 \u001b[0;34m'write_'\u001b[0m\u001b[0;34m+\u001b[0m\u001b[0mfrmt\u001b[0m\u001b[0;34m,\u001b[0m\u001b[0;34m\u001b[0m\u001b[0m\n\u001b[1;32m   1690\u001b[0m                 \u001b[0;32mlambda\u001b[0m \u001b[0mpath\u001b[0m\u001b[0;34m,\u001b[0m \u001b[0mf\u001b[0m\u001b[0;34m=\u001b[0m\u001b[0mfrmt\u001b[0m\u001b[0;34m,\u001b[0m \u001b[0mprog\u001b[0m\u001b[0;34m=\u001b[0m\u001b[0mself\u001b[0m\u001b[0;34m.\u001b[0m\u001b[0mprog\u001b[0m\u001b[0;34m:\u001b[0m\u001b[0;34m\u001b[0m\u001b[0m\n\u001b[0;32m-> 1691\u001b[0;31m                     self.write(path, format=f, prog=prog))\n\u001b[0m\u001b[1;32m   1692\u001b[0m \u001b[0;34m\u001b[0m\u001b[0m\n\u001b[1;32m   1693\u001b[0m             \u001b[0mf\u001b[0m \u001b[0;34m=\u001b[0m \u001b[0mself\u001b[0m\u001b[0;34m.\u001b[0m\u001b[0m__dict__\u001b[0m\u001b[0;34m[\u001b[0m\u001b[0;34m'write_'\u001b[0m\u001b[0;34m+\u001b[0m\u001b[0mfrmt\u001b[0m\u001b[0;34m]\u001b[0m\u001b[0;34m\u001b[0m\u001b[0m\n",
      "\u001b[0;32m/usr/local/lib/python2.7/dist-packages/pydot.pyc\u001b[0m in \u001b[0;36mwrite\u001b[0;34m(self, path, prog, format)\u001b[0m\n\u001b[1;32m   1772\u001b[0m                 \u001b[0ms\u001b[0m \u001b[0;34m=\u001b[0m \u001b[0municode\u001b[0m\u001b[0;34m(\u001b[0m\u001b[0ms\u001b[0m\u001b[0;34m)\u001b[0m\u001b[0;34m\u001b[0m\u001b[0m\n\u001b[1;32m   1773\u001b[0m         \u001b[0;32melse\u001b[0m\u001b[0;34m:\u001b[0m\u001b[0;34m\u001b[0m\u001b[0m\n\u001b[0;32m-> 1774\u001b[0;31m             \u001b[0ms\u001b[0m \u001b[0;34m=\u001b[0m \u001b[0mself\u001b[0m\u001b[0;34m.\u001b[0m\u001b[0mcreate\u001b[0m\u001b[0;34m(\u001b[0m\u001b[0mprog\u001b[0m\u001b[0;34m,\u001b[0m \u001b[0mformat\u001b[0m\u001b[0;34m)\u001b[0m\u001b[0;34m\u001b[0m\u001b[0m\n\u001b[0m\u001b[1;32m   1775\u001b[0m             \u001b[0mmode\u001b[0m \u001b[0;34m=\u001b[0m \u001b[0;34m'wb'\u001b[0m\u001b[0;34m\u001b[0m\u001b[0m\n\u001b[1;32m   1776\u001b[0m         \u001b[0;32mwith\u001b[0m \u001b[0mio\u001b[0m\u001b[0;34m.\u001b[0m\u001b[0mopen\u001b[0m\u001b[0;34m(\u001b[0m\u001b[0mpath\u001b[0m\u001b[0;34m,\u001b[0m \u001b[0mmode\u001b[0m\u001b[0;34m=\u001b[0m\u001b[0mmode\u001b[0m\u001b[0;34m)\u001b[0m \u001b[0;32mas\u001b[0m \u001b[0mf\u001b[0m\u001b[0;34m:\u001b[0m\u001b[0;34m\u001b[0m\u001b[0m\n",
      "\u001b[0;32m/usr/local/lib/python2.7/dist-packages/pydot.pyc\u001b[0m in \u001b[0;36mcreate\u001b[0;34m(self, prog, format)\u001b[0m\n\u001b[1;32m   1881\u001b[0m                 raise Exception(\n\u001b[1;32m   1882\u001b[0m                     '\"{prog}\" not found in path.'.format(\n\u001b[0;32m-> 1883\u001b[0;31m                         prog=prog))\n\u001b[0m\u001b[1;32m   1884\u001b[0m             \u001b[0;32melse\u001b[0m\u001b[0;34m:\u001b[0m\u001b[0;34m\u001b[0m\u001b[0m\n\u001b[1;32m   1885\u001b[0m                 \u001b[0;32mraise\u001b[0m\u001b[0;34m\u001b[0m\u001b[0m\n",
      "\u001b[0;31mException\u001b[0m: \"dot\" not found in path."
     ],
     "output_type": "error"
    }
   ],
   "source": [
    "import ast\n",
    "import re\n",
    "from astmonkey import visitors, transformers\n",
    "\n",
    "node = ast.parse('5-2')\n",
    "                 \n",
    "node = transformers.ParentNodeTransformer().visit(node)\n",
    "visitor = visitors.GraphNodeVisitor()\n",
    "visitor.visit(node)\n",
    "visitor.graph.write_dot('test')\n",
    "f=open('test')\n",
    "data=f.readlines()\n",
    "g=open('final','w')\n",
    "\n",
    "for line in data:\n",
    "    if 'label' in line:\n",
    "        g.write(re.sub(r'ast.','',line))\n",
    "    else:\n",
    "        g.write(str(line))\n",
    "        \n",
    "\n",
    "g.close()\n",
    "\n",
    "\n",
    "#visitor.graph.write_png('graph.png')"
   ]
  },
  {
   "cell_type": "code",
   "execution_count": 8,
   "metadata": {},
   "outputs": [
    {
     "data": {
      "text/plain": [
       "['graph G {\\n',\n",
       " '\\tgraph [bb=\"0,0,248,297\"];\\n',\n",
       " '\\tnode [label=\"\\\\N\"];\\n',\n",
       " '\\t<_ast.Module object at 0x7fb2088f46d0>\\t [fontname=Curier,\\n',\n",
       " '\\t\\theight=0.5,\\n',\n",
       " '\\t\\tlabel=\"ast.Module()\",\\n',\n",
       " '\\t\\tpos=\"123.5,279\",\\n',\n",
       " '\\t\\tshape=box,\\n',\n",
       " '\\t\\twidth=1.4167];\\n',\n",
       " '\\t<_ast.Expr object at 0x7fb2088f4650>\\t [fontname=Curier,\\n',\n",
       " '\\t\\theight=0.5,\\n',\n",
       " '\\t\\tlabel=\"ast.Expr()\",\\n',\n",
       " '\\t\\tpos=\"123.5,192\",\\n',\n",
       " '\\t\\tshape=box,\\n',\n",
       " '\\t\\twidth=1.1667];\\n',\n",
       " '\\t<_ast.Module object at 0x7fb2088f46d0> -- <_ast.Expr object at 0x7fb2088f4650>\\t [fontname=Curier,\\n',\n",
       " '\\t\\tlabel=\"body[0]\",\\n',\n",
       " '\\t\\tlp=\"150,235.5\",\\n',\n",
       " '\\t\\tpos=\"123.5,260.8 123.5,246.05 123.5,224.92 123.5,210.18\"];\\n',\n",
       " '\\t<_ast.BinOp object at 0x7fb2088f4710>\\t [fontname=Curier,\\n',\n",
       " '\\t\\theight=0.5,\\n',\n",
       " '\\t\\tlabel=\"ast.BinOp(op=ast.Sub())\",\\n',\n",
       " '\\t\\tpos=\"123.5,105\",\\n',\n",
       " '\\t\\tshape=box,\\n',\n",
       " '\\t\\twidth=2.5694];\\n',\n",
       " '\\t<_ast.Expr object at 0x7fb2088f4650> -- <_ast.BinOp object at 0x7fb2088f4710>\\t [fontname=Curier,\\n',\n",
       " '\\t\\tlabel=value,\\n',\n",
       " '\\t\\tlp=\"142.5,148.5\",\\n',\n",
       " '\\t\\tpos=\"123.5,173.8 123.5,159.05 123.5,137.92 123.5,123.18\"];\\n',\n",
       " '\\t<_ast.Num object at 0x7fb2088f4750>\\t [fontname=Curier,\\n',\n",
       " '\\t\\theight=0.5,\\n',\n",
       " '\\t\\tlabel=\"ast.Num(n=5)\",\\n',\n",
       " '\\t\\tpos=\"57.5,18\",\\n',\n",
       " '\\t\\tshape=box,\\n',\n",
       " '\\t\\twidth=1.5972];\\n',\n",
       " '\\t<_ast.BinOp object at 0x7fb2088f4710> -- <_ast.Num object at 0x7fb2088f4750>\\t [fontname=Curier,\\n',\n",
       " '\\t\\tlabel=left,\\n',\n",
       " '\\t\\tlp=\"106,61.5\",\\n',\n",
       " '\\t\\tpos=\"110.14,86.799 98.693,72.052 82.281,50.915 70.836,36.175\"];\\n',\n",
       " '\\t<_ast.Num object at 0x7fb2088f4790>\\t [fontname=Curier,\\n',\n",
       " '\\t\\theight=0.5,\\n',\n",
       " '\\t\\tlabel=\"ast.Num(n=2)\",\\n',\n",
       " '\\t\\tpos=\"190.5,18\",\\n',\n",
       " '\\t\\tshape=box,\\n',\n",
       " '\\t\\twidth=1.5972];\\n',\n",
       " '\\t<_ast.BinOp object at 0x7fb2088f4710> -- <_ast.Num object at 0x7fb2088f4790>\\t [fontname=Curier,\\n',\n",
       " '\\t\\tlabel=right,\\n',\n",
       " '\\t\\tlp=\"177.5,61.5\",\\n',\n",
       " '\\t\\tpos=\"137.06,86.799 148.68,72.052 165.34,50.915 176.96,36.175\"];\\n',\n",
       " '}\\n']"
      ]
     },
     "execution_count": 8,
     "metadata": {},
     "output_type": "execute_result"
    }
   ],
   "source": [
    "data"
   ]
  },
  {
   "cell_type": "code",
   "execution_count": 181,
   "metadata": {},
   "outputs": [
    {
     "data": {
      "text/plain": [
       "True"
      ]
     },
     "execution_count": 181,
     "metadata": {},
     "output_type": "execute_result"
    }
   ],
   "source": [
    "import pydot\n",
    "\n",
    "(graph,) = pydot.graph_from_dot_file('final')\n",
    "graph.write_png('somefile.png')"
   ]
  },
  {
   "cell_type": "code",
   "execution_count": null,
   "metadata": {
    "collapsed": true
   },
   "outputs": [],
   "source": [
    ""
   ]
  },
  {
   "cell_type": "code",
   "execution_count": null,
   "metadata": {
    "collapsed": true
   },
   "outputs": [],
   "source": [
    ""
   ]
  },
  {
   "cell_type": "code",
   "execution_count": null,
   "metadata": {
    "collapsed": true
   },
   "outputs": [],
   "source": [
    ""
   ]
  },
  {
   "cell_type": "code",
   "execution_count": 162,
   "metadata": {},
   "outputs": [
    {
     "data": {
      "text/plain": [
       "True"
      ]
     },
     "execution_count": 162,
     "metadata": {},
     "output_type": "execute_result"
    }
   ],
   "source": [
    ""
   ]
  },
  {
   "cell_type": "code",
   "execution_count": 168,
   "metadata": {
    "collapsed": true
   },
   "outputs": [],
   "source": [
    ""
   ]
  },
  {
   "cell_type": "code",
   "execution_count": 169,
   "metadata": {
    "collapsed": true
   },
   "outputs": [],
   "source": [
    ""
   ]
  },
  {
   "cell_type": "code",
   "execution_count": null,
   "metadata": {
    "collapsed": true
   },
   "outputs": [],
   "source": [
    ""
   ]
  },
  {
   "cell_type": "code",
   "execution_count": 173,
   "metadata": {},
   "outputs": [
    {
     "data": {
      "text/plain": [
       "True"
      ]
     },
     "execution_count": 173,
     "metadata": {},
     "output_type": "execute_result"
    }
   ],
   "source": [
    ""
   ]
  },
  {
   "cell_type": "code",
   "execution_count": null,
   "metadata": {
    "collapsed": true
   },
   "outputs": [],
   "source": [
    ""
   ]
  }
 ],
 "metadata": {
  "kernelspec": {
   "display_name": "Python 2",
   "language": "python",
   "name": "python2"
  },
  "language_info": {
   "codemirror_mode": {
    "name": "ipython",
    "version": 2.0
   },
   "file_extension": ".py",
   "mimetype": "text/x-python",
   "name": "python",
   "nbconvert_exporter": "python",
   "pygments_lexer": "ipython2",
   "version": "2.7.9"
  }
 },
 "nbformat": 4,
 "nbformat_minor": 0
}
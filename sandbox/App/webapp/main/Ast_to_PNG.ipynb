{
 "cells": [
  {
   "cell_type": "code",
   "execution_count": 19,
   "metadata": {},
   "outputs": [
    {
     "data": {
      "text/plain": [
       "True"
      ]
     },
     "execution_count": 19,
     "metadata": {},
     "output_type": "execute_result"
    }
   ],
   "source": [
    "import ast\n",
    "from astmonkey import visitors, transformers\n",
    "import re\n",
    "import pydot\n",
    "\n",
    "node = ast.parse('x=1\\ny=2\\nz=x+y')\n",
    "node = transformers.ParentNodeTransformer().visit(node)\n",
    "visitor = visitors.GraphNodeVisitor()\n",
    "visitor.visit(node)\n",
    "\n",
    "visitor.graph.write_png('graph.png')\n",
    "\n",
    "\n",
    "visitor.graph.write_dot('d')\n",
    "\n",
    "f=open('d')\n",
    "data=f.read()\n",
    "\n",
    "\n",
    "\n",
    "\n",
    "g=open('parsed_ast','w')\n",
    "\n",
    "\n",
    "data2=re.sub('ast.','',data)\n",
    "g.write(data2)\n",
    "g.close()\n",
    "#http://stackoverflow.com/questions/5316206/converting-dot-to-png-in-python\n",
    "(graph,) = pydot.graph_from_dot_file('parsed_ast')\n",
    "graph.write_png('somefile.png')"
   ]
  },
  {
   "cell_type": "code",
   "execution_count": 20,
   "metadata": {},
   "outputs": [],
   "source": [
    "from PIL import Image\n",
    "f = Image.open(\"somefile.png\").show()"
   ]
  },
  {
   "cell_type": "code",
   "execution_count": null,
   "metadata": {
    "collapsed": true
   },
   "outputs": [],
   "source": [
    ""
   ]
  }
 ],
 "metadata": {
  "kernelspec": {
   "display_name": "Python 2",
   "language": "python",
   "name": "python2"
  },
  "language_info": {
   "codemirror_mode": {
    "name": "ipython",
    "version": 2.0
   },
   "file_extension": ".py",
   "mimetype": "text/x-python",
   "name": "python",
   "nbconvert_exporter": "python",
   "pygments_lexer": "ipython2",
   "version": "2.7.9"
  }
 },
 "nbformat": 4,
 "nbformat_minor": 0
}
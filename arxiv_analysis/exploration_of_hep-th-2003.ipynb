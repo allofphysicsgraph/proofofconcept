{
 "cells": [
  {
   "cell_type": "markdown",
   "metadata": {},
   "source": [
    "https://www.cs.cornell.edu/projects/kddcup/datasets.html"
   ]
  },
  {
   "cell_type": "raw",
   "metadata": {},
   "source": [
    "!tar xzvf hep-th-2003.tar.gz"
   ]
  },
  {
   "cell_type": "raw",
   "metadata": {},
   "source": [
    "!ls -hal 2003/ | wc -l"
   ]
  },
  {
   "cell_type": "markdown",
   "metadata": {},
   "source": [
    "# identify equations in Latex\n",
    "\n",
    "options: \n",
    "* regex\n",
    "* http://plastex.sourceforge.net/plastex/sect0025.html\n",
    "* tex2py\n",
    "* texsoup"
   ]
  },
  {
   "cell_type": "markdown",
   "metadata": {},
   "source": [
    "### load libraries"
   ]
  },
  {
   "cell_type": "code",
   "execution_count": 1,
   "metadata": {
    "tags": []
   },
   "outputs": [
    {
     "name": "stdout",
     "output_type": "stream",
     "text": [
      "Requirement already satisfied: tex2py in /opt/conda/lib/python3.9/site-packages (0.0.5)\n",
      "Requirement already satisfied: coveralls==1.1 in /opt/conda/lib/python3.9/site-packages (from tex2py) (1.1)\n",
      "Requirement already satisfied: coverage==3.7.1 in /opt/conda/lib/python3.9/site-packages (from tex2py) (3.7.1)\n",
      "Requirement already satisfied: pytest in /opt/conda/lib/python3.9/site-packages (from tex2py) (7.1.2)\n",
      "Requirement already satisfied: pptree==2.0 in /opt/conda/lib/python3.9/site-packages (from tex2py) (2.0)\n",
      "Requirement already satisfied: TexSoup==0.1.4 in /opt/conda/lib/python3.9/site-packages (from tex2py) (0.1.4)\n",
      "Requirement already satisfied: pytest-cov==2.5.1 in /opt/conda/lib/python3.9/site-packages (from tex2py) (2.5.1)\n",
      "Requirement already satisfied: requests>=1.0.0 in /opt/conda/lib/python3.9/site-packages (from coveralls==1.1->tex2py) (2.26.0)\n",
      "Requirement already satisfied: docopt>=0.6.1 in /opt/conda/lib/python3.9/site-packages (from coveralls==1.1->tex2py) (0.6.2)\n",
      "Requirement already satisfied: packaging in /opt/conda/lib/python3.9/site-packages (from pytest->tex2py) (21.0)\n",
      "Requirement already satisfied: iniconfig in /opt/conda/lib/python3.9/site-packages (from pytest->tex2py) (1.1.1)\n",
      "Requirement already satisfied: tomli>=1.0.0 in /opt/conda/lib/python3.9/site-packages (from pytest->tex2py) (2.0.1)\n",
      "Requirement already satisfied: attrs>=19.2.0 in /opt/conda/lib/python3.9/site-packages (from pytest->tex2py) (21.2.0)\n",
      "Requirement already satisfied: pluggy<2.0,>=0.12 in /opt/conda/lib/python3.9/site-packages (from pytest->tex2py) (1.0.0)\n",
      "Requirement already satisfied: py>=1.8.2 in /opt/conda/lib/python3.9/site-packages (from pytest->tex2py) (1.11.0)\n",
      "Requirement already satisfied: urllib3<1.27,>=1.21.1 in /opt/conda/lib/python3.9/site-packages (from requests>=1.0.0->coveralls==1.1->tex2py) (1.26.6)\n",
      "Requirement already satisfied: certifi>=2017.4.17 in /opt/conda/lib/python3.9/site-packages (from requests>=1.0.0->coveralls==1.1->tex2py) (2021.5.30)\n",
      "Requirement already satisfied: charset-normalizer~=2.0.0 in /opt/conda/lib/python3.9/site-packages (from requests>=1.0.0->coveralls==1.1->tex2py) (2.0.0)\n",
      "Requirement already satisfied: idna<4,>=2.5 in /opt/conda/lib/python3.9/site-packages (from requests>=1.0.0->coveralls==1.1->tex2py) (3.1)\n",
      "Requirement already satisfied: pyparsing>=2.0.2 in /opt/conda/lib/python3.9/site-packages (from packaging->pytest->tex2py) (2.4.7)\n"
     ]
    }
   ],
   "source": [
    "# https://github.com/alvinwan/tex2py\n",
    "!pip install tex2py"
   ]
  },
  {
   "cell_type": "code",
   "execution_count": 2,
   "metadata": {
    "tags": []
   },
   "outputs": [
    {
     "name": "stdout",
     "output_type": "stream",
     "text": [
      "Requirement already satisfied: texsoup in /opt/conda/lib/python3.9/site-packages (0.1.4)\n",
      "Requirement already satisfied: coveralls==1.1 in /opt/conda/lib/python3.9/site-packages (from texsoup) (1.1)\n",
      "Requirement already satisfied: coverage==3.7.1 in /opt/conda/lib/python3.9/site-packages (from texsoup) (3.7.1)\n",
      "Requirement already satisfied: pytest-cov==2.5.1 in /opt/conda/lib/python3.9/site-packages (from texsoup) (2.5.1)\n",
      "Requirement already satisfied: pytest in /opt/conda/lib/python3.9/site-packages (from texsoup) (7.1.2)\n",
      "Requirement already satisfied: requests>=1.0.0 in /opt/conda/lib/python3.9/site-packages (from coveralls==1.1->texsoup) (2.26.0)\n",
      "Requirement already satisfied: docopt>=0.6.1 in /opt/conda/lib/python3.9/site-packages (from coveralls==1.1->texsoup) (0.6.2)\n",
      "Requirement already satisfied: attrs>=19.2.0 in /opt/conda/lib/python3.9/site-packages (from pytest->texsoup) (21.2.0)\n",
      "Requirement already satisfied: iniconfig in /opt/conda/lib/python3.9/site-packages (from pytest->texsoup) (1.1.1)\n",
      "Requirement already satisfied: packaging in /opt/conda/lib/python3.9/site-packages (from pytest->texsoup) (21.0)\n",
      "Requirement already satisfied: tomli>=1.0.0 in /opt/conda/lib/python3.9/site-packages (from pytest->texsoup) (2.0.1)\n",
      "Requirement already satisfied: pluggy<2.0,>=0.12 in /opt/conda/lib/python3.9/site-packages (from pytest->texsoup) (1.0.0)\n",
      "Requirement already satisfied: py>=1.8.2 in /opt/conda/lib/python3.9/site-packages (from pytest->texsoup) (1.11.0)\n",
      "Requirement already satisfied: idna<4,>=2.5 in /opt/conda/lib/python3.9/site-packages (from requests>=1.0.0->coveralls==1.1->texsoup) (3.1)\n",
      "Requirement already satisfied: charset-normalizer~=2.0.0 in /opt/conda/lib/python3.9/site-packages (from requests>=1.0.0->coveralls==1.1->texsoup) (2.0.0)\n",
      "Requirement already satisfied: certifi>=2017.4.17 in /opt/conda/lib/python3.9/site-packages (from requests>=1.0.0->coveralls==1.1->texsoup) (2021.5.30)\n",
      "Requirement already satisfied: urllib3<1.27,>=1.21.1 in /opt/conda/lib/python3.9/site-packages (from requests>=1.0.0->coveralls==1.1->texsoup) (1.26.6)\n",
      "Requirement already satisfied: pyparsing>=2.0.2 in /opt/conda/lib/python3.9/site-packages (from packaging->pytest->texsoup) (2.4.7)\n"
     ]
    }
   ],
   "source": [
    "# https://github.com/alvinwan/TexSoup\n",
    "!pip install texsoup"
   ]
  },
  {
   "cell_type": "code",
   "execution_count": 3,
   "metadata": {},
   "outputs": [
    {
     "name": "stdout",
     "output_type": "stream",
     "text": [
      "Requirement already satisfied: plastex in /opt/conda/lib/python3.9/site-packages (2.1)\n"
     ]
    }
   ],
   "source": [
    "!pip install plastex"
   ]
  },
  {
   "cell_type": "code",
   "execution_count": 4,
   "metadata": {},
   "outputs": [],
   "source": [
    "import re\n",
    "import time\n",
    "import pickle # https://docs.python.org/3/library/pickle.html\n",
    "import glob\n",
    "import matplotlib.pyplot as plt"
   ]
  },
  {
   "cell_type": "markdown",
   "metadata": {},
   "source": [
    "### load data"
   ]
  },
  {
   "cell_type": "code",
   "execution_count": 5,
   "metadata": {},
   "outputs": [],
   "source": [
    "list_of_files = glob.glob('hep-th/2003/*')"
   ]
  },
  {
   "cell_type": "code",
   "execution_count": 6,
   "metadata": {},
   "outputs": [
    {
     "data": {
      "text/plain": [
       "1019"
      ]
     },
     "execution_count": 6,
     "metadata": {},
     "output_type": "execute_result"
    }
   ],
   "source": [
    "len(list_of_files)"
   ]
  },
  {
   "cell_type": "markdown",
   "metadata": {},
   "source": [
    "# find relevant tags for equations in latex using regex\n",
    "\n",
    "regex likely won't work for complex latex equations. \n",
    "\n",
    "regex will have trouble with inline math like \\\\$x\\\\$"
   ]
  },
  {
   "cell_type": "code",
   "execution_count": 7,
   "metadata": {},
   "outputs": [
    {
     "name": "stdout",
     "output_type": "stream",
     "text": [
      "6.25 seconds\n"
     ]
    }
   ],
   "source": [
    "start_time=time.time()\n",
    "reslts={}\n",
    "number_of_eq=0\n",
    "for this_file in list_of_files:\n",
    "    with open(this_file,'rb') as f:\n",
    "        data = f.read()\n",
    "    \n",
    "    resp = re.findall('\\\\\\\\begin{(?:eqnarray|equation|multiline)}.*?end{(?:eqnarray|equation|multiline)}',str(data),re.DOTALL)\n",
    "#    print(this_file)\n",
    "    for eq in resp:\n",
    "        number_of_eq+=1\n",
    "        try:\n",
    "            reslts[this_file].append(eq)\n",
    "        except KeyError:\n",
    "            reslts[this_file]=[]\n",
    "            reslts[this_file].append(eq)\n",
    "#        print('  ',eq,'\\n')\n",
    "\n",
    "print(round(time.time()-start_time,2),'seconds')"
   ]
  },
  {
   "cell_type": "markdown",
   "metadata": {},
   "source": [
    "How many equations were found?"
   ]
  },
  {
   "cell_type": "code",
   "execution_count": 8,
   "metadata": {},
   "outputs": [
    {
     "data": {
      "text/plain": [
       "29481"
      ]
     },
     "execution_count": 8,
     "metadata": {},
     "output_type": "execute_result"
    }
   ],
   "source": [
    "number_of_eq"
   ]
  },
  {
   "cell_type": "markdown",
   "metadata": {},
   "source": [
    "Of the files, how many have equations present?"
   ]
  },
  {
   "cell_type": "code",
   "execution_count": 9,
   "metadata": {},
   "outputs": [
    {
     "name": "stdout",
     "output_type": "stream",
     "text": [
      "929 files have equations\n",
      "1019 files\n"
     ]
    }
   ],
   "source": [
    "print(len(reslts.keys()),\"files have equations\")\n",
    "print(len(list_of_files),\"files\")"
   ]
  },
  {
   "cell_type": "markdown",
   "metadata": {},
   "source": [
    "what is an example of equations found in the first paper?"
   ]
  },
  {
   "cell_type": "code",
   "execution_count": 10,
   "metadata": {},
   "outputs": [
    {
     "data": {
      "text/plain": [
       "['\\\\begin{equation}}\\\\n\\\\\\\\newcommand{\\\\\\\\eeq}{\\\\\\\\end{equation}',\n",
       " '\\\\begin{eqnarray}}\\\\n\\\\\\\\newcommand{\\\\\\\\eeqa}{\\\\\\\\end{eqnarray}']"
      ]
     },
     "execution_count": 10,
     "metadata": {},
     "output_type": "execute_result"
    }
   ],
   "source": [
    "reslts[list(reslts.keys())[0]]"
   ]
  },
  {
   "cell_type": "markdown",
   "metadata": {},
   "source": [
    "What is the first equation in the second paper?"
   ]
  },
  {
   "cell_type": "code",
   "execution_count": 11,
   "metadata": {},
   "outputs": [
    {
     "data": {
      "text/plain": [
       "'\\\\begin{equation} \\\\\\\\eqalign{#2} \\\\\\\\label{#1} \\\\\\\\end{equation}'"
      ]
     },
     "execution_count": 11,
     "metadata": {},
     "output_type": "execute_result"
    }
   ],
   "source": [
    "reslts[list(reslts.keys())[1]][0]"
   ]
  },
  {
   "cell_type": "markdown",
   "metadata": {},
   "source": [
    "## visualize results"
   ]
  },
  {
   "cell_type": "code",
   "execution_count": 12,
   "metadata": {},
   "outputs": [],
   "source": [
    "number_of_eq_per_file=[]\n",
    "for k,v in reslts.items():\n",
    "    number_of_eq_per_file.append(len(v))"
   ]
  },
  {
   "cell_type": "code",
   "execution_count": 13,
   "metadata": {},
   "outputs": [
    {
     "data": {
      "image/png": "[encoded data removed]",
      "text/plain": [
       "<Figure size 432x288 with 1 Axes>"
      ]
     },
     "metadata": {
      "needs_background": "light"
     },
     "output_type": "display_data"
    }
   ],
   "source": [
    "_=plt.hist(number_of_eq_per_file,bins=100)\n",
    "_=plt.ylabel('number of expressions')\n",
    "_=plt.xlabel('number of documents')\n",
    "_=plt.title(\"number of expressions per paper\")"
   ]
  },
  {
   "cell_type": "code",
   "execution_count": 14,
   "metadata": {},
   "outputs": [
    {
     "data": {
      "image/png": "[encoded data removed]",
      "text/plain": [
       "<Figure size 432x288 with 1 Axes>"
      ]
     },
     "metadata": {
      "needs_background": "light"
     },
     "output_type": "display_data"
    }
   ],
   "source": [
    "_=plt.hist(number_of_eq_per_file,bins=100)\n",
    "_=plt.yscale('log', nonpositive='clip')\n",
    "_=plt.ylabel('number of expressions')\n",
    "_=plt.xlabel('number of documents')\n",
    "_=plt.title(\"number of expressions per paper, log-y axis\")"
   ]
  },
  {
   "cell_type": "markdown",
   "metadata": {},
   "source": [
    "## plastex\n",
    "\n",
    "http://plastex.sourceforge.net/plastex/sect0025.html\n",
    "\n",
    "http://plastex.sourceforge.net/plastex/index.html\n",
    "\n",
    "http://plastex.github.io/plastex/"
   ]
  },
  {
   "cell_type": "code",
   "execution_count": 15,
   "metadata": {},
   "outputs": [
    {
     "name": "stderr",
     "output_type": "stream",
     "text": [
      "WARNING: Cannot find unidecode lib. Expect issues with index sorting\n"
     ]
    }
   ],
   "source": [
    "from plasTeX.TeX import TeX\n",
    "from plasTeX.Renderers.XHTML import Renderer"
   ]
  },
  {
   "cell_type": "code",
   "execution_count": 16,
   "metadata": {},
   "outputs": [],
   "source": [
    "with open(list_of_files[1]) as f: data = f.read()"
   ]
  },
  {
   "cell_type": "code",
   "execution_count": 17,
   "metadata": {},
   "outputs": [
    {
     "data": {
      "text/plain": [
       "<plasTeX.TeX.TeX at 0x7f9bdbbf1940>"
      ]
     },
     "execution_count": 17,
     "metadata": {},
     "output_type": "execute_result"
    }
   ],
   "source": [
    "TeX(data)"
   ]
  },
  {
   "cell_type": "raw",
   "metadata": {
    "tags": []
   },
   "source": [
    "Renderer().render(TeX(data).parse())"
   ]
  },
  {
   "cell_type": "markdown",
   "metadata": {},
   "source": [
    "## tex2py\n",
    "\n",
    "Tex2py converts LaTeX into a Python parse tree.\n",
    "\n",
    "`tex2py` uses `TexSoup` on the backend"
   ]
  },
  {
   "cell_type": "code",
   "execution_count": 18,
   "metadata": {},
   "outputs": [],
   "source": [
    "# https://github.com/alvinwan/tex2py\n",
    "from tex2py import tex2py"
   ]
  },
  {
   "cell_type": "code",
   "execution_count": 19,
   "metadata": {},
   "outputs": [
    {
     "data": {
      "text/plain": [
       "'hep-th/2003/0301003'"
      ]
     },
     "execution_count": 19,
     "metadata": {},
     "output_type": "execute_result"
    }
   ],
   "source": [
    "list_of_files[2]"
   ]
  },
  {
   "cell_type": "code",
   "execution_count": 20,
   "metadata": {},
   "outputs": [],
   "source": [
    "with open(list_of_files[1]) as f: data = f.read()\n",
    "toc = tex2py(data)"
   ]
  },
  {
   "cell_type": "raw",
   "metadata": {
    "tags": []
   },
   "source": [
    "toc.valid_tags"
   ]
  },
  {
   "cell_type": "code",
   "execution_count": 21,
   "metadata": {},
   "outputs": [
    {
     "data": {
      "text/plain": [
       "[Introduction,\n",
       " Thermodynamic considerations,\n",
       " Universality classes and the general problem,\n",
       " Crossing the threshold of stability: non-dilatonic\\\\ branes,\n",
       " Conclusions]"
      ]
     },
     "execution_count": 21,
     "metadata": {},
     "output_type": "execute_result"
    }
   ],
   "source": [
    "toc.branches"
   ]
  },
  {
   "cell_type": "markdown",
   "metadata": {},
   "source": [
    "Not clear to me how to extract equations from the parse tree"
   ]
  },
  {
   "cell_type": "markdown",
   "metadata": {},
   "source": [
    "## TexSoup\n",
    "\n",
    "https://github.com/alvinwan/TexSoup\n",
    "\n",
    "https://texsoup.alvinwan.com/docs/navigation.html"
   ]
  },
  {
   "cell_type": "code",
   "execution_count": 22,
   "metadata": {},
   "outputs": [],
   "source": [
    "from TexSoup import TexSoup"
   ]
  },
  {
   "cell_type": "markdown",
   "metadata": {},
   "source": [
    "### single file"
   ]
  },
  {
   "cell_type": "code",
   "execution_count": 23,
   "metadata": {},
   "outputs": [
    {
     "name": "stdout",
     "output_type": "stream",
     "text": [
      "hep-th/2003/0301004\n"
     ]
    }
   ],
   "source": [
    "file_to_open = list_of_files[3]\n",
    "print(file_to_open)"
   ]
  },
  {
   "cell_type": "markdown",
   "metadata": {},
   "source": [
    "https://arxiv.org/abs/hep-th/0301004"
   ]
  },
  {
   "cell_type": "code",
   "execution_count": 24,
   "metadata": {},
   "outputs": [],
   "source": [
    "with open(file_to_open) as f: data = f.read()"
   ]
  },
  {
   "cell_type": "code",
   "execution_count": 25,
   "metadata": {},
   "outputs": [],
   "source": [
    "soup = TexSoup(data)"
   ]
  },
  {
   "cell_type": "raw",
   "metadata": {
    "jupyter": {
     "outputs_hidden": true
    },
    "tags": []
   },
   "source": [
    "for entry in soup.children:\n",
    "    print(\"==and==\")\n",
    "    print(entry)"
   ]
  },
  {
   "cell_type": "raw",
   "metadata": {
    "jupyter": {
     "outputs_hidden": true
    },
    "tags": []
   },
   "source": [
    "for entry in soup.document.children:\n",
    "    print(\"==and==\")\n",
    "    print(entry)"
   ]
  },
  {
   "cell_type": "raw",
   "metadata": {
    "jupyter": {
     "outputs_hidden": true
    },
    "tags": []
   },
   "source": [
    "for entry in soup.find_all(\"$\"):\n",
    "    print(\"== inside $ $ ==\")\n",
    "    for this in entry.contents:\n",
    "        print(this)"
   ]
  },
  {
   "cell_type": "code",
   "execution_count": 26,
   "metadata": {
    "tags": []
   },
   "outputs": [],
   "source": [
    "list_of_math_entries = []\n",
    "for entry in soup.find_all(\"$\"):\n",
    "    for this in entry.contents:\n",
    "        #print(this)\n",
    "        list_of_math_entries.append(this)"
   ]
  },
  {
   "cell_type": "raw",
   "metadata": {},
   "source": [
    "list(list_of_math_entries)"
   ]
  },
  {
   "cell_type": "code",
   "execution_count": 27,
   "metadata": {},
   "outputs": [
    {
     "data": {
      "text/plain": [
       "\\begin{equation}\n",
       " \\rho_N^D = \\left(\\prod_{i=1}^N\\int d\\Omega_{p_i}\\right)(2\\pi)^D\\delta^D\n",
       " (p-\\sum_{i=1}^N p_i)\n",
       "\\end{equation}"
      ]
     },
     "execution_count": 27,
     "metadata": {},
     "output_type": "execute_result"
    }
   ],
   "source": [
    "soup.equation"
   ]
  },
  {
   "cell_type": "code",
   "execution_count": 28,
   "metadata": {},
   "outputs": [],
   "source": [
    "lst = list(soup.find_all('equation'))"
   ]
  },
  {
   "cell_type": "code",
   "execution_count": 29,
   "metadata": {},
   "outputs": [
    {
     "data": {
      "text/plain": [
       "22"
      ]
     },
     "execution_count": 29,
     "metadata": {},
     "output_type": "execute_result"
    }
   ],
   "source": [
    "len(lst) # how many equations are in the document?"
   ]
  },
  {
   "cell_type": "code",
   "execution_count": 30,
   "metadata": {},
   "outputs": [
    {
     "data": {
      "text/plain": [
       "\\begin{equation}\n",
       " \\rho_N^D = \\left(\\prod_{i=1}^N\\int d\\Omega_{p_i}\\right)(2\\pi)^D\\delta^D\n",
       " (p-\\sum_{i=1}^N p_i)\n",
       "\\end{equation}"
      ]
     },
     "execution_count": 30,
     "metadata": {},
     "output_type": "execute_result"
    }
   ],
   "source": [
    "lst[0] # show the first match"
   ]
  },
  {
   "cell_type": "code",
   "execution_count": 31,
   "metadata": {},
   "outputs": [
    {
     "data": {
      "text/plain": [
       "'\\n \\\\rho_N^D = \\\\left(\\\\prod_{i=1}^N\\\\int d\\\\Omega_{p_i}\\\\right)(2\\\\pi)^D\\\\delta^D\\n (p-\\\\sum_{i=1}^N p_i)\\n'"
      ]
     },
     "execution_count": 31,
     "metadata": {},
     "output_type": "execute_result"
    }
   ],
   "source": [
    "lst[0][0] # what is the string inside the \"begin{equation}\"?"
   ]
  },
  {
   "cell_type": "code",
   "execution_count": 32,
   "metadata": {},
   "outputs": [
    {
     "data": {
      "text/plain": [
       "\\begin{equation}\n",
       " \\Phi({\\bf{x}},y)=\\sum_{k=-\\infty}^\\infty \\phi_k({\\bf{x}})\n",
       " \\exp(iky/R)/\\sqrt{2\\pi R}; \\quad \\phi_k^*({\\bf{x}}) = \\phi_{-k}({\\bf{x}}).\n",
       "\\end{equation}"
      ]
     },
     "execution_count": 32,
     "metadata": {},
     "output_type": "execute_result"
    }
   ],
   "source": [
    "lst[1]"
   ]
  },
  {
   "cell_type": "code",
   "execution_count": 33,
   "metadata": {},
   "outputs": [
    {
     "data": {
      "text/plain": [
       "'\\n \\\\Phi({\\\\bf{x}},y)=\\\\sum_{k=-\\\\infty}^\\\\infty \\\\phi_k({\\\\bf{x}})\\n \\\\exp(iky/R)/\\\\sqrt{2\\\\pi R}; \\\\quad \\\\phi_k^*({\\\\bf{x}}) = \\\\phi_{-k}({\\\\bf{x}}).\\n'"
      ]
     },
     "execution_count": 33,
     "metadata": {},
     "output_type": "execute_result"
    }
   ],
   "source": [
    "lst[1][0]"
   ]
  },
  {
   "cell_type": "raw",
   "metadata": {},
   "source": [
    "for this_eq in soup.find_all('equation'):\n",
    "    print(this_eq[0])"
   ]
  },
  {
   "cell_type": "markdown",
   "metadata": {},
   "source": [
    "### loop over files"
   ]
  },
  {
   "cell_type": "code",
   "execution_count": null,
   "metadata": {
    "collapsed": true,
    "jupyter": {
     "outputs_hidden": true
    },
    "tags": []
   },
   "outputs": [
    {
     "name": "stdout",
     "output_type": "stream",
     "text": [
      "\n",
      "TypeError non-renderable file: hep-th/2003/0301001\n",
      "Malformed argument. First and last elements must match a valid argument format. In this case, TexSoup could not find matching punctuation for: ['[', '\\\\mu', '}'].\n",
      "Common issues include: Unescaped special characters, mistyped closing punctuation, misalignment.\n",
      "\n",
      "TypeError non-renderable file: hep-th/2003/0301003\n",
      "Malformed argument. First and last elements must match a valid argument format. In this case, TexSoup could not find matching punctuation for: ['[', '}'].\n",
      "Common issues include: Unescaped special characters, mistyped closing punctuation, misalignment.\n",
      "\n",
      "TypeError non-renderable file: hep-th/2003/0301006\n",
      "Malformed argument. First and last elements must match a valid argument format. In this case, TexSoup could not find matching punctuation for: ['{', '\\\\right}', '\\n', '\\\\def', '\\\\da', RArg(RArg('\\\\dot', '\\\\alpha')), '\\n', '\\\\def', '\\\\mapr', RArg('\\\\mathop', RArg('\\\\longrightarrow'), '\\\\limits'), '\\n\n",
      "\n",
      "TypeError non-renderable file: hep-th/2003/0301007\n",
      "Malformed argument. First and last elements must match a valid argument format. In this case, TexSoup could not find matching punctuation for: ['[', RArg('\\\\@tempswatrue', '\\\\@citexr'), RArg('\\\\@tempswafalse', '\\\\@citexr', OArg()), '}'].\n",
      "Common issues include: Unescaped special characters, mistyped \n",
      "\n",
      "unable to decode using utf-8: hep-th/2003/0301008\n",
      "\n",
      "TypeError non-renderable file: hep-th/2003/0301018\n",
      "Malformed argument. First and last elements must match a valid argument format. In this case, TexSoup could not find matching punctuation for: ['{', '\\\\ref', RArg('eqlasta'), ') we can compute\\nexplicitly the 4-particle amplitude. The difficult part is to\\ncompute the ghost contributions and this ha\n",
      "\n",
      "EOFError non-renderable file: hep-th/2003/0301020\n",
      "Expecting \\end{{}. Reached end of file.\n",
      "\n",
      "TypeError non-renderable file: hep-th/2003/0301021\n",
      "Malformed argument. First and last elements must match a valid argument format. In this case, TexSoup could not find matching punctuation for: ['[', '\\\\m', '}'].\n",
      "Common issues include: Unescaped special characters, mistyped closing punctuation, misalignment.\n",
      "\n",
      "TypeError non-renderable file: hep-th/2003/0301027\n",
      "Malformed argument. First and last elements must match a valid argument format. In this case, TexSoup could not find matching punctuation for: ['{', '\\\\ref', RArg('metric1'), ') becomes regular everywhere\\nif  ', TexEnv('$'), ' is compactified on a circle with radius ', TexEnv('$'), '.\\nThis solutio\n",
      "\n",
      "TypeError non-renderable file: hep-th/2003/0301036\n",
      "Malformed argument. First and last elements must match a valid argument format. In this case, TexSoup could not find matching punctuation for: ['[', ' #1 , #2 \\\\}', '}'].\n",
      "Common issues include: Unescaped special characters, mistyped closing punctuation, misalignment.\n",
      "\n",
      "unable to decode using utf-8: hep-th/2003/0301044\n",
      "\n",
      "TypeError non-renderable file: hep-th/2003/0301048\n",
      "Malformed argument. First and last elements must match a valid argument format. In this case, TexSoup could not find matching punctuation for: ['{', '\\\\right', ' ', ']'].\n",
      "Common issues include: Unescaped special characters, mistyped closing punctuation, misalignment.\n",
      "\n",
      "TypeError non-renderable file: hep-th/2003/0301049\n",
      "Malformed argument. First and last elements must match a valid argument format. In this case, TexSoup could not find matching punctuation for: ['{', '\\\\right}', '\\n', '\\\\def', '\\\\d', RArg(RArg('\\\\rm', ' d')), '\\n\\n', '\\\\renewcommand', RArg('\\\\theequation'), RArg('\\\\arabic', RArg('section'), '.', '\\\\\n",
      "\n",
      "TypeError non-renderable file: hep-th/2003/0301050\n",
      "Malformed argument. First and last elements must match a valid argument format. In this case, TexSoup could not find matching punctuation for: ['[', RArg('\\\\@stitle'), RArg('\\\\@ftitle'), '}'].\n",
      "Common issues include: Unescaped special characters, mistyped closing punctuation, misalignment.\n",
      "\n",
      "TypeError non-renderable file: hep-th/2003/0301054\n",
      "Malformed argument. First and last elements must match a valid argument format. In this case, TexSoup could not find matching punctuation for: ['[', '}'].\n",
      "Common issues include: Unescaped special characters, mistyped closing punctuation, misalignment.\n",
      "\n",
      "unable to decode using utf-8: hep-th/2003/0301057\n",
      "\n",
      "TypeError non-renderable file: hep-th/2003/0301059\n",
      "Malformed argument. First and last elements must match a valid argument format. In this case, TexSoup could not find matching punctuation for: ['{', '\\\\right}', '\\n', '\\\\newcommand', RArg('\\\\h'), RArg('\\\\frac', RArg('1'), RArg('2')), '\\n\\n', '%\\\\DeclareMathOperator*{\\\\Tr}{Tr}', '\\n', '\\\\newcommand',\n",
      "\n",
      "unable to decode using utf-8: hep-th/2003/0301061\n",
      "\n",
      "EOFError non-renderable file: hep-th/2003/0301063\n",
      "Expecting \\end{{}. Reached end of file.\n",
      "\n",
      "unable to decode using utf-8: hep-th/2003/0301067\n",
      "\n",
      "TypeError non-renderable file: hep-th/2003/0301068\n",
      "Malformed argument. First and last elements must match a valid argument format. In this case, TexSoup could not find matching punctuation for: ['{', '\\\\small', '\\n', '\\\\begin', RArg('quote'), \"\\n\\nWe present a simple group representation analysis of massive, and \\nparticularly ``partially massless''\n",
      "\n",
      "unable to decode using utf-8: hep-th/2003/0301069\n",
      "\n",
      "TypeError non-renderable file: hep-th/2003/0301074\n",
      "Malformed argument. First and last elements must match a valid argument format. In this case, TexSoup could not find matching punctuation for: ['[', '}'].\n",
      "Common issues include: Unescaped special characters, mistyped closing punctuation, misalignment.\n",
      "\n",
      "unable to decode using utf-8: hep-th/2003/0301077\n",
      "\n",
      "EOFError non-renderable file: hep-th/2003/0301078\n",
      "Expecting \\end{defi}. Reached end of file.\n",
      "\n",
      "TypeError non-renderable file: hep-th/2003/0301080\n",
      "Malformed argument. First and last elements must match a valid argument format. In this case, TexSoup could not find matching punctuation for: ['[', 'I', '}'].\n",
      "Common issues include: Unescaped special characters, mistyped closing punctuation, misalignment.\n",
      "\n",
      "TypeError non-renderable file: hep-th/2003/0301083\n",
      "Malformed argument. First and last elements must match a valid argument format. In this case, TexSoup could not find matching punctuation for: ['[', '}'].\n",
      "Common issues include: Unescaped special characters, mistyped closing punctuation, misalignment.\n",
      "\n",
      "TypeError non-renderable file: hep-th/2003/0301090\n",
      "Malformed argument. First and last elements must match a valid argument format. In this case, TexSoup could not find matching punctuation for: ['[', 'N', '}'].\n",
      "Common issues include: Unescaped special characters, mistyped closing punctuation, misalignment.\n",
      "\n",
      "EOFError non-renderable file: hep-th/2003/0301091\n",
      "Expecting \\end{equation}. Reached end of file.\n",
      "\n",
      "TypeError non-renderable file: hep-th/2003/0301092\n",
      "Malformed argument. First and last elements must match a valid argument format. In this case, TexSoup could not find matching punctuation for: ['[', 'lj', '}'].\n",
      "Common issues include: Unescaped special characters, mistyped closing punctuation, misalignment.\n",
      "\n",
      "TypeError non-renderable file: hep-th/2003/0301095\n",
      "Malformed argument. First and last elements must match a valid argument format. In this case, TexSoup could not find matching punctuation for: ['[', '\\\\mu', '}'].\n",
      "Common issues include: Unescaped special characters, mistyped closing punctuation, misalignment.\n",
      "\n",
      "TypeError non-renderable file: hep-th/2003/0301098\n",
      "Malformed argument. First and last elements must match a valid argument format. In this case, TexSoup could not find matching punctuation for: ['[', '\\\\alpha', '}'].\n",
      "Common issues include: Unescaped special characters, mistyped closing punctuation, misalignment.\n",
      "\n",
      "TypeError non-renderable file: hep-th/2003/0301104\n",
      "Malformed argument. First and last elements must match a valid argument format. In this case, TexSoup could not find matching punctuation for: ['[', 'j', '}'].\n",
      "Common issues include: Unescaped special characters, mistyped closing punctuation, misalignment.\n",
      "\n",
      "unable to decode using utf-8: hep-th/2003/0301107\n",
      "\n",
      "EOFError non-renderable file: hep-th/2003/0301118\n",
      "Expecting $. Reached end of file.\n",
      "\n",
      "TypeError non-renderable file: hep-th/2003/0301122\n",
      "Malformed argument. First and last elements must match a valid argument format. In this case, TexSoup could not find matching punctuation for: ['{', \"\\nWe thank S.-J. Rey for a very  enjoyable collaboration. We  thank\\nR. Myers, G. Gibbons, D. Easson, F. Gavriil and P.K. Townsend for\\n interesting c\n",
      "\n",
      "TypeError non-renderable file: hep-th/2003/0301125\n",
      "Malformed argument. First and last elements must match a valid argument format. In this case, TexSoup could not find matching punctuation for: ['[', 'arXiv:hep-th/9605154.\\n', '%', '\\n', '\\\\bibitem', RArg('KleStr:00'), '\\nI.~R.~Klebanov and M.~J.~Strassler, ``Supergravity and a Confining\\nGauge Theo\n",
      "\n",
      "EOFError non-renderable file: hep-th/2003/0301126\n",
      "Expecting \\end{{}. Reached end of file.\n",
      "\n",
      "unable to decode using utf-8: hep-th/2003/0301128\n",
      "\n",
      "TypeError non-renderable file: hep-th/2003/0301134\n",
      "Malformed argument. First and last elements must match a valid argument format. In this case, TexSoup could not find matching punctuation for: ['[', '}'].\n",
      "Common issues include: Unescaped special characters, mistyped closing punctuation, misalignment.\n",
      "\n",
      "TypeError non-renderable file: hep-th/2003/0301143\n",
      "Malformed argument. First and last elements must match a valid argument format. In this case, TexSoup could not find matching punctuation for: ['{', '\\\\pref', RArg('Camporesi'), ']'].\n",
      "Common issues include: Unescaped special characters, mistyped closing punctuation, misalignment.\n",
      "\n",
      "TypeError non-renderable file: hep-th/2003/0301148\n",
      "Malformed argument. First and last elements must match a valid argument format. In this case, TexSoup could not find matching punctuation for: ['[', '1,', '\\\\infty', ') ', '\\\\eeq', ' lying on the curve\\n', TexEnv('$'), ' in ', TexEnv('$'), ' (so\\n', TexEnv('$'), ' as in section ', '\\\\ref', RArg('sec\n",
      "\n",
      "unable to decode using utf-8: hep-th/2003/0301150\n",
      "\n",
      "unable to decode using utf-8: hep-th/2003/0301152\n",
      "\n",
      "TypeError non-renderable file: hep-th/2003/0301161\n",
      "Malformed argument. First and last elements must match a valid argument format. In this case, TexSoup could not find matching punctuation for: ['[', 'm', '}'].\n",
      "Common issues include: Unescaped special characters, mistyped closing punctuation, misalignment.\n",
      "\n",
      "TypeError non-renderable file: hep-th/2003/0301167\n",
      "Malformed argument. First and last elements must match a valid argument format. In this case, TexSoup could not find matching punctuation for: ['{', '\\\\em', ' Moscow State University, physical faculty,\\\\\\\\\\ndepartment of theoretical physics.\\\\\\\\'].\n",
      "Common issues include: Unescaped special characters\n",
      "\n",
      "unable to decode using utf-8: hep-th/2003/0301168\n",
      "\n",
      "EOFError non-renderable file: hep-th/2003/0301169\n",
      "Expecting \\end{{}. Reached end of file.\n",
      "\n",
      "unable to decode using utf-8: hep-th/2003/0301174\n",
      "\n",
      "unable to decode using utf-8: hep-th/2003/0301178\n",
      "\n",
      "TypeError non-renderable file: hep-th/2003/0301180\n",
      "Malformed argument. First and last elements must match a valid argument format. In this case, TexSoup could not find matching punctuation for: ['[', 'see the case (a) in\\nfig.~', '\\\\ref', RArg('small'), ').  This means that the radius ', TexEnv('$'), ' can grow in the presence of\\nthe massive states\n",
      "\n",
      "EOFError non-renderable file: hep-th/2003/0301193\n",
      "Expecting \\end{eqnarray}. Reached end of file.\n",
      "\n",
      "TypeError non-renderable file: hep-th/2003/0301194\n",
      "Malformed argument. First and last elements must match a valid argument format. In this case, TexSoup could not find matching punctuation for: ['{', '\\\\ref', RArg('69'), ')\\n', TexEnv('$'), '\\n(obviously accompanied with an integration over ', TexEnv('$'), ').\\nRecalling that ', TexEnv('$'), ', one\\\n",
      "\n",
      "EOFError non-renderable file: hep-th/2003/0301196\n",
      "Expecting \\end{{}. Reached end of file.\n",
      "\n",
      "TypeError non-renderable file: hep-th/2003/0301198\n",
      "Malformed argument. First and last elements must match a valid argument format. In this case, TexSoup could not find matching punctuation for: ['{', '\\\\ref', RArg('e:Psi-eqn'), '), namely ', TexEnv('$'), ', vanishes by the use of the background Einstein\\nequations~(', '\\\\ref', RArg('e:Friedmann1'), \n",
      "\n",
      "unable to decode using utf-8: hep-th/2003/0301200\n",
      "\n",
      "TypeError non-renderable file: hep-th/2003/0301209\n",
      "Malformed argument. First and last elements must match a valid argument format. In this case, TexSoup could not find matching punctuation for: ['[', '}'].\n",
      "Common issues include: Unescaped special characters, mistyped closing punctuation, misalignment.\n",
      "\n",
      "unable to decode using utf-8: hep-th/2003/0301215\n",
      "\n",
      "TypeError non-renderable file: hep-th/2003/0301218\n",
      "Malformed argument. First and last elements must match a valid argument format. In this case, TexSoup could not find matching punctuation for: ['[', ' ', '}'].\n",
      "Common issues include: Unescaped special characters, mistyped closing punctuation, misalignment.\n",
      "\n",
      "unable to decode using utf-8: hep-th/2003/0301220\n",
      "\n",
      "TypeError non-renderable file: hep-th/2003/0301222\n",
      "Malformed argument. First and last elements must match a valid argument format. In this case, TexSoup could not find matching punctuation for: ['[', '}'].\n",
      "Common issues include: Unescaped special characters, mistyped closing punctuation, misalignment.\n",
      "\n",
      "TypeError non-renderable file: hep-th/2003/0301224\n",
      "Malformed argument. First and last elements must match a valid argument format. In this case, TexSoup could not find matching punctuation for: ['{', 'H. Belich Jr.', TexEnv('$'), ', M.M. Ferreira Jr.', TexEnv('$'), ', J.A. Helay', '\\\\\"', RArg('e'), 'l-Neto', TexEnv('$'), ' and M.T.D. Orlando', TexEn\n",
      "\n",
      "EOFError non-renderable file: hep-th/2003/0301226\n",
      "Expecting \\end{center}. Reached end of file.\n",
      "\n",
      "TypeError non-renderable file: hep-th/2003/0301236\n",
      "Malformed argument. First and last elements must match a valid argument format. In this case, TexSoup could not find matching punctuation for: ['[', TexEnv('$'), '\\ndenoting ', TexEnv('$'), 'For ', TexEnv('$'), ' one can chose the following\\nrepresentation\\n\\n', '\\\\begin', RArg('equation'), '\\nH=', \n",
      "\n",
      "TypeError non-renderable file: hep-th/2003/0301237\n",
      "Malformed argument. First and last elements must match a valid argument format. In this case, TexSoup could not find matching punctuation for: ['[', '\\\\frac', RArg('e^', RArg('- i', '\\\\left[', 'Et - ', '\\\\left(', '\\\\vec', RArg('p'), '_', RArg('\\\\perp'), ' ', '\\\\times', ' ', '\\\\vec', RArg('p'), '\\\\,'\n",
      "\n",
      "EOFError non-renderable file: hep-th/2003/0301238\n",
      "Expecting \\end{{}. Reached end of file.\n",
      "\n",
      "TypeError non-renderable file: hep-th/2003/0301241\n",
      "Malformed argument. First and last elements must match a valid argument format. In this case, TexSoup could not find matching punctuation for: ['[', 'i_1', '}'].\n",
      "Common issues include: Unescaped special characters, mistyped closing punctuation, misalignment.\n",
      "\n",
      "TypeError non-renderable file: hep-th/2003/0301243\n",
      "Malformed argument. First and last elements must match a valid argument format. In this case, TexSoup could not find matching punctuation for: ['[', '\\\\m', '_1', '}'].\n",
      "Common issues include: Unescaped special characters, mistyped closing punctuation, misalignment.\n",
      "\n",
      "TypeError non-renderable file: hep-th/2003/0301246\n",
      "Malformed argument. First and last elements must match a valid argument format. In this case, TexSoup could not find matching punctuation for: ['[', 'T_', RArg('--'), '\\\\right]', '_P=', '\\\\kappa', '_', RArg('11'), '^2p^+', '\\\\prod', '_', RArg('A=1'), '^9', '\\\\delta', '(x^A) ', '\\\\EE', ' where\\n', Te\n",
      "\n",
      "unable to decode using utf-8: hep-th/2003/0301247\n",
      "\n",
      "TypeError non-renderable file: hep-th/2003/0302001\n",
      "Malformed argument. First and last elements must match a valid argument format. In this case, TexSoup could not find matching punctuation for: ['[', '}'].\n",
      "Common issues include: Unescaped special characters, mistyped closing punctuation, misalignment.\n",
      "\n",
      "TypeError non-renderable file: hep-th/2003/0302002\n",
      "Malformed argument. First and last elements must match a valid argument format. In this case, TexSoup could not find matching punctuation for: ['[', '}'].\n",
      "Common issues include: Unescaped special characters, mistyped closing punctuation, misalignment.\n",
      "\n",
      "TypeError non-renderable file: hep-th/2003/0302005\n",
      "Malformed argument. First and last elements must match a valid argument format. In this case, TexSoup could not find matching punctuation for: ['[', '}'].\n",
      "Common issues include: Unescaped special characters, mistyped closing punctuation, misalignment.\n",
      "\n",
      "EOFError non-renderable file: hep-th/2003/0302011\n",
      "Expecting \\]. Reached end of file.\n",
      "\n",
      "unable to decode using utf-8: hep-th/2003/0302014\n",
      "\n",
      "TypeError non-renderable file: hep-th/2003/0302020\n",
      "Malformed argument. First and last elements must match a valid argument format. In this case, TexSoup could not find matching punctuation for: ['[', '}'].\n",
      "Common issues include: Unescaped special characters, mistyped closing punctuation, misalignment.\n",
      "\n",
      "TypeError non-renderable file: hep-th/2003/0302021\n",
      "Malformed argument. First and last elements must match a valid argument format. In this case, TexSoup could not find matching punctuation for: ['[', 'ab', '}'].\n",
      "Common issues include: Unescaped special characters, mistyped closing punctuation, misalignment.\n",
      "\n",
      "TypeError non-renderable file: hep-th/2003/0302030\n",
      "Malformed argument. First and last elements must match a valid argument format. In this case, TexSoup could not find matching punctuation for: ['[', '\\\\alpha', '}'].\n",
      "Common issues include: Unescaped special characters, mistyped closing punctuation, misalignment.\n",
      "\n",
      "TypeError non-renderable file: hep-th/2003/0302034\n",
      "Malformed argument. First and last elements must match a valid argument format. In this case, TexSoup could not find matching punctuation for: ['[', ' ', '}'].\n",
      "Common issues include: Unescaped special characters, mistyped closing punctuation, misalignment.\n",
      "\n",
      "unable to decode using utf-8: hep-th/2003/0302043\n",
      "\n",
      "TypeError non-renderable file: hep-th/2003/0302047\n",
      "Malformed argument. First and last elements must match a valid argument format. In this case, TexSoup could not find matching punctuation for: ['[', 'm', '}'].\n",
      "Common issues include: Unescaped special characters, mistyped closing punctuation, misalignment.\n",
      "\n",
      "TypeError non-renderable file: hep-th/2003/0302049\n",
      "Malformed argument. First and last elements must match a valid argument format. In this case, TexSoup could not find matching punctuation for: ['[', '\\\\m', '\\\\cdots', '\\\\n', '|x', '}'].\n",
      "Common issues include: Unescaped special characters, mistyped closing punctuation, misalignment.\n",
      "\n",
      "TypeError non-renderable file: hep-th/2003/0302052\n",
      "Malformed argument. First and last elements must match a valid argument format. In this case, TexSoup could not find matching punctuation for: ['{', '\\\\subsection', RArg('Near Horizon Limit'), '\\n\\nWe have proposed that the naive BMPV black hole and D1-D5-Wave geometries cannot be constructed when t\n",
      "\n",
      "TypeError non-renderable file: hep-th/2003/0302059\n",
      "Malformed argument. First and last elements must match a valid argument format. In this case, TexSoup could not find matching punctuation for: ['[', '}'].\n",
      "Common issues include: Unescaped special characters, mistyped closing punctuation, misalignment.\n",
      "\n",
      "TypeError non-renderable file: hep-th/2003/0302064\n",
      "Malformed argument. First and last elements must match a valid argument format. In this case, TexSoup could not find matching punctuation for: ['[', ' #1 , #2 \\\\}', '}'].\n",
      "Common issues include: Unescaped special characters, mistyped closing punctuation, misalignment.\n",
      "\n",
      "TypeError non-renderable file: hep-th/2003/0302067\n",
      "Malformed argument. First and last elements must match a valid argument format. In this case, TexSoup could not find matching punctuation for: ['[', 'a', '}'].\n",
      "Common issues include: Unescaped special characters, mistyped closing punctuation, misalignment.\n",
      "\n",
      "TypeError non-renderable file: hep-th/2003/0302068\n",
      "Malformed argument. First and last elements must match a valid argument format. In this case, TexSoup could not find matching punctuation for: ['[', TexEnv('$'), ' when ', TexEnv('$'), '. In the Euclidean sector, the curvature gets concentrated on the origin of ', TexEnv('$'), ' plane in a manner an\n",
      "\n",
      "unable to decode using utf-8: hep-th/2003/0302070\n",
      "\n",
      "TypeError non-renderable file: hep-th/2003/0302071\n",
      "Malformed argument. First and last elements must match a valid argument format. In this case, TexSoup could not find matching punctuation for: ['[', 'I,', '}'].\n",
      "Common issues include: Unescaped special characters, mistyped closing punctuation, misalignment.\n",
      "\n",
      "TypeError non-renderable file: hep-th/2003/0302074\n",
      "Malformed argument. First and last elements must match a valid argument format. In this case, TexSoup could not find matching punctuation for: ['{', '\\\\footnotesize', '  ', '\\\\\"', RArg('O'), 'mer F. DAYI', '\\\\footnote', RArg('E-mail: dayi@itu.edu.tr.'), ' \\n\\n', '\\\\vspace', RArg('10pt'), '\\n\\n', '\\\\\n",
      "\n",
      "TypeError non-renderable file: hep-th/2003/0302078\n",
      "Malformed argument. First and last elements must match a valid argument format. In this case, TexSoup could not find matching punctuation for: ['[', ' z^A, z^B \\\\} = R^', RArg('AB'), '_', RArg('CD'), ' z^C z^D', '\\\\,', '. \\n', '\\\\eea', ' \\nConsistency requirements lead to a cubic equation for the ma\n",
      "\n",
      "TypeError non-renderable file: hep-th/2003/0302080\n",
      "Malformed argument. First and last elements must match a valid argument format. In this case, TexSoup could not find matching punctuation for: ['{', '\\\\small', ' ', '\\\\begin', RArg('thebibliography'), RArg('99'), '\\n', '\\\\baselineskip', ' = 24 pt\\n\\n', '\\\\bibitem', RArg('KerrNewman'), '  Newman, E.T\n",
      "\n",
      "TypeError non-renderable file: hep-th/2003/0302083\n",
      "Malformed argument. First and last elements must match a valid argument format. In this case, TexSoup could not find matching punctuation for: ['{', '\\\\right}', '\\n', '\\\\newcommand', RArg('\\\\f'), RArg('\\\\frac'), '\\n', '\\\\newcommand', RArg('\\\\dagg'), RArg('\\\\dagger'), '\\n', '\\\\newcommand', RArg('\\\\Ra\n",
      "\n",
      "TypeError non-renderable file: hep-th/2003/0302084\n",
      "Malformed argument. First and last elements must match a valid argument format. In this case, TexSoup could not find matching punctuation for: ['[', '\\\\nu', '}'].\n",
      "Common issues include: Unescaped special characters, mistyped closing punctuation, misalignment.\n",
      "\n",
      "TypeError non-renderable file: hep-th/2003/0302085\n",
      "Malformed argument. First and last elements must match a valid argument format. In this case, TexSoup could not find matching punctuation for: ['[', '\\\\mu', '}'].\n",
      "Common issues include: Unescaped special characters, mistyped closing punctuation, misalignment.\n",
      "\n",
      "TypeError non-renderable file: hep-th/2003/0302087\n",
      "Malformed argument. First and last elements must match a valid argument format. In this case, TexSoup could not find matching punctuation for: ['[', '\\\\lambda', '}'].\n",
      "Common issues include: Unescaped special characters, mistyped closing punctuation, misalignment.\n",
      "\n",
      "TypeError non-renderable file: hep-th/2003/0302093\n",
      "Malformed argument. First and last elements must match a valid argument format. In this case, TexSoup could not find matching punctuation for: ['[', '}'].\n",
      "Common issues include: Unescaped special characters, mistyped closing punctuation, misalignment.\n",
      "\n",
      "TypeError non-renderable file: hep-th/2003/0302096\n",
      "Malformed argument. First and last elements must match a valid argument format. In this case, TexSoup could not find matching punctuation for: ['[', '\\\\a', '}'].\n",
      "Common issues include: Unescaped special characters, mistyped closing punctuation, misalignment.\n",
      "\n",
      "TypeError non-renderable file: hep-th/2003/0302102\n",
      "Malformed argument. First and last elements must match a valid argument format. In this case, TexSoup could not find matching punctuation for: ['{', '\\\\ref', RArg('eq:bb'), '), so that for the equal coupling constant and equal mass case \\nthe total potential will have the form Eq.(', '\\\\ref', RArg('\n",
      "\n",
      "unable to decode using utf-8: hep-th/2003/0302106\n",
      "\n",
      "TypeError non-renderable file: hep-th/2003/0302108\n",
      "Malformed argument. First and last elements must match a valid argument format. In this case, TexSoup could not find matching punctuation for: ['[', 'a', '}'].\n",
      "Common issues include: Unescaped special characters, mistyped closing punctuation, misalignment.\n",
      "\n",
      "TypeError non-renderable file: hep-th/2003/0302111\n",
      "Malformed argument. First and last elements must match a valid argument format. In this case, TexSoup could not find matching punctuation for: ['[', '}'].\n",
      "Common issues include: Unescaped special characters, mistyped closing punctuation, misalignment.\n",
      "\n",
      "TypeError non-renderable file: hep-th/2003/0302112\n",
      "Malformed argument. First and last elements must match a valid argument format. In this case, TexSoup could not find matching punctuation for: ['{', '\\\\ref', RArg('htilde2'), ') and (', '\\\\ref', RArg('op-pi'), '), we obtain for\\nthe Hamilton quantum operator of a free particle on the\\n', TexEnv('$')\n",
      "\n",
      "TypeError non-renderable file: hep-th/2003/0302113\n",
      "Malformed argument. First and last elements must match a valid argument format. In this case, TexSoup could not find matching punctuation for: ['{', '\\\\cite', RArg('dt'), ' the Majorana condition for complex\\nspinors was analyzed and the list of different signature\\nspacetimes allowing for kinetic, \n",
      "\n",
      "unable to decode using utf-8: hep-th/2003/0302116\n",
      "\n",
      "TypeError non-renderable file: hep-th/2003/0302120\n",
      "Malformed argument. First and last elements must match a valid argument format. In this case, TexSoup could not find matching punctuation for: ['{', '\\\\ref', RArg('twistA'), ') with\\n', TexEnv('$'), ' and supercoaction\\n', TexEnv('$'), ' gives the same result that all of these\\nproducts involving 1-\n",
      "\n",
      "unable to decode using utf-8: hep-th/2003/0302124\n",
      "\n",
      "TypeError non-renderable file: hep-th/2003/0302125\n",
      "Malformed argument. First and last elements must match a valid argument format. In this case, TexSoup could not find matching punctuation for: ['[', '\\\\frac', RArg('f_3(q)^8-f_4(q)^8+f_2(q)^8'), RArg('f_1(q)^8'), '\\\\right]', ',\\n', '\\\\eeqa', '\\nwith ', TexEnv('$'), '. In this result the sign in fron\n",
      "\n",
      "TypeError non-renderable file: hep-th/2003/0302130\n",
      "Malformed argument. First and last elements must match a valid argument format. In this case, TexSoup could not find matching punctuation for: ['{', '\\\\ref', RArg('11'), ') that the corresponding polarization tensor   ', TexEnv('$'), ' takes\\nthe form ', TexEnv('$'), ' which can be reduced to the\\nm\n",
      "\n",
      "unable to decode using utf-8: hep-th/2003/0302131\n",
      "\n",
      "TypeError non-renderable file: hep-th/2003/0302132\n",
      "Malformed argument. First and last elements must match a valid argument format. In this case, TexSoup could not find matching punctuation for: ['[', 'a', '}'].\n",
      "Common issues include: Unescaped special characters, mistyped closing punctuation, misalignment.\n",
      "\n",
      "TypeError non-renderable file: hep-th/2003/0302136\n",
      "Malformed argument. First and last elements must match a valid argument format. In this case, TexSoup could not find matching punctuation for: ['[', 'b', '}'].\n",
      "Common issues include: Unescaped special characters, mistyped closing punctuation, misalignment.\n",
      "\n",
      "TypeError non-renderable file: hep-th/2003/0302140\n",
      "Malformed argument. First and last elements must match a valid argument format. In this case, TexSoup could not find matching punctuation for: ['[', '\\\\mu', '}'].\n",
      "Common issues include: Unescaped special characters, mistyped closing punctuation, misalignment.\n",
      "\n",
      "EOFError non-renderable file: hep-th/2003/0302153\n",
      "Expecting \\end{{}. Reached end of file.\n",
      "\n",
      "TypeError non-renderable file: hep-th/2003/0302154\n",
      "Malformed argument. First and last elements must match a valid argument format. In this case, TexSoup could not find matching punctuation for: ['{', '\\\\right}', '\\n', '\\\\newcommand', RArg('\\\\f'), RArg('\\\\frac'), '\\n', '\\\\newcommand', RArg('\\\\dagg'), RArg('\\\\dagger'), '\\n', '\\\\newcommand', RArg('\\\\Ra\n",
      "\n",
      "TypeError non-renderable file: hep-th/2003/0302158\n",
      "Malformed argument. First and last elements must match a valid argument format. In this case, TexSoup could not find matching punctuation for: ['[', 'mnp', '}'].\n",
      "Common issues include: Unescaped special characters, mistyped closing punctuation, misalignment.\n",
      "\n",
      "unable to decode using utf-8: hep-th/2003/0302159\n",
      "\n",
      "EOFError non-renderable file: hep-th/2003/0302161\n",
      "Expecting \\end{equation}. Reached end of file.\n",
      "\n",
      "TypeError non-renderable file: hep-th/2003/0302162\n",
      "Malformed argument. First and last elements must match a valid argument format. In this case, TexSoup could not find matching punctuation for: ['[', '\\\\left(', 'm_a+', '\\\\lambda', '\\\\right)', '^2', '\\\\biggr', '.', '\\\\right.', '\\\\non', ' &&\\n-', '\\\\left.', '\\\\left.', '\\\\sum', '_', RArg('\\\\ell', '=1')\n",
      "\n",
      "EOFError non-renderable file: hep-th/2003/0302164\n",
      "Expecting \\end{{}. Reached end of file.\n",
      "\n",
      "TypeError non-renderable file: hep-th/2003/0302167\n",
      "Malformed argument. First and last elements must match a valid argument format. In this case, TexSoup could not find matching punctuation for: ['{', '\\\\ref', RArg('e14'), '), we have', '\\\\bea', ' ', '\\\\nn', ' & & ', '\\\\hspace', RArg('-1cm'), '\\n', '\\\\frac', RArg('1'), RArg('2-k', '\\\\,m', '\\\\,', '\\\\t\n",
      "\n",
      "EOFError non-renderable file: hep-th/2003/0302173\n",
      "Expecting \\end{{}. Reached end of file.\n",
      "\n",
      "unable to decode using utf-8: hep-th/2003/0302180\n",
      "\n",
      "unable to decode using utf-8: hep-th/2003/0302187\n",
      "\n",
      "TypeError non-renderable file: hep-th/2003/0302199\n",
      "Malformed argument. First and last elements must match a valid argument format. In this case, TexSoup could not find matching punctuation for: ['{', '\\\\ref', RArg('divergence'), ') vanishes and we find\\n', '\\\\ben', '\\na ', '\\\\nabla', ' ^2  C=  (h U) ^', '\\\\mu', ' _', RArg(';', '\\\\mu', ' '), ' . ', '\n",
      "\n",
      "EOFError non-renderable file: hep-th/2003/0302200\n",
      "Expecting \\end{{}. Reached end of file.\n",
      "\n",
      "EOFError non-renderable file: hep-th/2003/0302202\n",
      "Expecting \\). Reached end of file.\n",
      "\n",
      "TypeError non-renderable file: hep-th/2003/0302205\n",
      "Malformed argument. First and last elements must match a valid argument format. In this case, TexSoup could not find matching punctuation for: ['[', '\\\\cD', '_C , ', '\\\\cD', '_D \\\\} =\\n', RArg('\\\\rm', ' i'), '\\\\,', ' T_', RArg('AB'), RArg(), '^C', '\\\\,', ' F_', RArg('CD'), '~.\\n', '\\\\ee', '\\nAfter s\n",
      "\n",
      "unable to decode using utf-8: hep-th/2003/0302213\n",
      "\n",
      "TypeError non-renderable file: hep-th/2003/0302217\n",
      "Malformed argument. First and last elements must match a valid argument format. In this case, TexSoup could not find matching punctuation for: ['{', ']'].\n",
      "Common issues include: Unescaped special characters, mistyped closing punctuation, misalignment.\n",
      "\n",
      "TypeError non-renderable file: hep-th/2003/0302221\n",
      "Malformed argument. First and last elements must match a valid argument format. In this case, TexSoup could not find matching punctuation for: ['{', '\\\\right}', '\\n', '\\\\def', '\\\\ra', ' ', RArg('\\\\rightarrow'), '\\n', '\\\\def', '\\\\lra', ' ', RArg('\\\\longrightarrow'), '\\n', '\\\\def', '\\\\re', ' ', RArg(R\n",
      "\n",
      "unable to decode using utf-8: hep-th/2003/0302226\n",
      "\n",
      "TypeError non-renderable file: hep-th/2003/0302228\n",
      "Malformed argument. First and last elements must match a valid argument format. In this case, TexSoup could not find matching punctuation for: ['[', 'O(2,2) group in Anti deSitter ', '\\\\cite', RArg('vls2'), '. See also section 3 below.\\n', '\\\\section', RArg('Spatial Curvature Effects'), '\\nThe effec\n",
      "\n",
      "TypeError non-renderable file: hep-th/2003/0303001\n",
      "Malformed argument. First and last elements must match a valid argument format. In this case, TexSoup could not find matching punctuation for: ['{', '\\\\right}', '\\n', '\\\\def', '\\\\comments', '#1', RArg(), '\\n', '\\\\def', '\\\\cc', RArg(RArg('\\\\rm', ' c.c.')), '\\n', '\\\\def', '\\\\tM', RArg('\\\\tilde', ' M')\n",
      "\n",
      "TypeError non-renderable file: hep-th/2003/0303007\n",
      "Malformed argument. First and last elements must match a valid argument format. In this case, TexSoup could not find matching punctuation for: ['[', 'ab', '}'].\n",
      "Common issues include: Unescaped special characters, mistyped closing punctuation, misalignment.\n",
      "\n",
      "TypeError non-renderable file: hep-th/2003/0303008\n",
      "Malformed argument. First and last elements must match a valid argument format. In this case, TexSoup could not find matching punctuation for: ['[', 'dQ^', RArg('(', '\\\\alpha', '\\\\beta', ')'), 'dQ^', RArg('(', '\\\\beta', '\\\\alpha', ')'), '\\\\right]', '\\ne^', RArg('-N', '\\\\sum', '_', RArg('\\\\alpha', '=\n",
      "\n",
      "TypeError non-renderable file: hep-th/2003/0303009\n",
      "Malformed argument. First and last elements must match a valid argument format. In this case, TexSoup could not find matching punctuation for: ['{', '\\\\right}', '\\n', '\\\\def', '\\\\no', RArg('\\\\nonumber', '\\\\\\\\'), '\\n', '\\\\def', '\\\\nn', RArg('\\\\nonumber'), '\\n\\n\\n', '% --------------- abbreviated jour\n",
      "\n",
      "EOFError non-renderable file: hep-th/2003/0303010\n",
      "Expecting \\end{{}. Reached end of file.\n",
      "\n",
      "TypeError non-renderable file: hep-th/2003/0303014\n",
      "Malformed argument. First and last elements must match a valid argument format. In this case, TexSoup could not find matching punctuation for: ['{', '\\\\ref', RArg('a4'), ') one verifies that,\\n ', '\\\\bea', '\\n ', '\\\\p', '^', '\\\\infty', '_a(x)&=&', '\\\\nabla', '.', RArg('\\\\vec', '\\\\Pi'), '_a(x)-gf_', \n",
      "\n",
      "TypeError non-renderable file: hep-th/2003/0303015\n",
      "Malformed argument. First and last elements must match a valid argument format. In this case, TexSoup could not find matching punctuation for: ['{', '\\\\text', RArg('tr'), ' ', '\\\\left[', '\\n    ', '\\\\gamma', '^', RArg('(#1,#2)-T'), '_', RArg('\\\\OR', ' #5 #6'), '\\n    ', '\\\\gamma', '^', RArg('(#3,#4)\n",
      "\n",
      "TypeError non-renderable file: hep-th/2003/0303029\n",
      "Malformed argument. First and last elements must match a valid argument format. In this case, TexSoup could not find matching punctuation for: ['[', '}'].\n",
      "Common issues include: Unescaped special characters, mistyped closing punctuation, misalignment.\n",
      "\n",
      "EOFError non-renderable file: hep-th/2003/0303033\n",
      "Expecting $. Reached end of file.\n",
      "\n",
      "TypeError non-renderable file: hep-th/2003/0303034\n",
      "Malformed argument. First and last elements must match a valid argument format. In this case, TexSoup could not find matching punctuation for: ['{', '(', '\\\\ref', RArg('5eq1'), ').\\n\\n', '\\\\section', RArg('discussion'), '\\nWe study the wave equation of the tachyonic dilaton\\n which propagates on the\n",
      "\n",
      "TypeError non-renderable file: hep-th/2003/0303043\n",
      "Malformed argument. First and last elements must match a valid argument format. In this case, TexSoup could not find matching punctuation for: ['[', ' ', '\\\\mu', '}'].\n",
      "Common issues include: Unescaped special characters, mistyped closing punctuation, misalignment.\n",
      "\n",
      "TypeError non-renderable file: hep-th/2003/0303047\n",
      "Malformed argument. First and last elements must match a valid argument format. In this case, TexSoup could not find matching punctuation for: ['{', '\\\\ref', RArg('ah2fl'), '). This model has\\nsemilocal strings  so our BPS ANO string is just a particular\\ncase of a semilocal string at ', TexEnv('$')\n",
      "\n",
      "TypeError non-renderable file: hep-th/2003/0303049\n",
      "Malformed argument. First and last elements must match a valid argument format. In this case, TexSoup could not find matching punctuation for: ['[', 'I', '}'].\n",
      "Common issues include: Unescaped special characters, mistyped closing punctuation, misalignment.\n",
      "\n",
      "unable to decode using utf-8: hep-th/2003/0303050\n",
      "\n",
      "TypeError non-renderable file: hep-th/2003/0303060\n",
      "Malformed argument. First and last elements must match a valid argument format. In this case, TexSoup could not find matching punctuation for: ['[', '#1,#2\\\\}', '}'].\n",
      "Common issues include: Unescaped special characters, mistyped closing punctuation, misalignment.\n",
      "\n",
      "unable to decode using utf-8: hep-th/2003/0303062\n",
      "\n",
      "EOFError non-renderable file: hep-th/2003/0303065\n",
      "Expecting \\end{equation}. Reached end of file.\n",
      "\n",
      "EOFError non-renderable file: hep-th/2003/0303076\n",
      "Expecting $$. Reached end of file.\n",
      "\n",
      "TypeError non-renderable file: hep-th/2003/0303077\n",
      "Malformed argument. First and last elements must match a valid argument format. In this case, TexSoup could not find matching punctuation for: ['{', '\\\\right}', '\\n\\n', '\\\\newtheorem', RArg('Theorem'), RArg('Theorem'), '\\n', '\\\\newtheorem', RArg('Definition'), RArg('Definition'), '\\n', '\\\\newtheorem\n",
      "\n",
      "unable to decode using utf-8: hep-th/2003/0303080\n",
      "\n",
      "TypeError non-renderable file: hep-th/2003/0303083\n",
      "Malformed argument. First and last elements must match a valid argument format. In this case, TexSoup could not find matching punctuation for: ['[', '}'].\n",
      "Common issues include: Unescaped special characters, mistyped closing punctuation, misalignment.\n",
      "\n",
      "TypeError non-renderable file: hep-th/2003/0303086\n",
      "Malformed argument. First and last elements must match a valid argument format. In this case, TexSoup could not find matching punctuation for: ['{', '\\\\right}', '\\n', '\\\\def', ' ', '\\\\da', RArg('\\\\dagger'), '\\n', '\\\\def', ' ', '\\\\ti', '#1', RArg('\\\\tilde', RArg('#1')), '\\n', '\\\\def', ' ', '\\\\lb', RA\n",
      "\n",
      "TypeError non-renderable file: hep-th/2003/0303089\n",
      "Malformed argument. First and last elements must match a valid argument format. In this case, TexSoup could not find matching punctuation for: ['{', '\\\\right}', '\\n', '\\\\def', '\\\\pa', ' ', RArg('\\\\partial'), '\\n', '\\\\def', '\\\\f', ' ', RArg('\\\\frac'), '\\n', '\\\\def', '\\\\sq', ' ', RArg('\\\\sqrt'), '\\n',\n",
      "\n",
      "EOFError non-renderable file: hep-th/2003/0303098\n",
      "Expecting \\end{eqnarray}. Reached end of file.\n",
      "\n",
      "TypeError non-renderable file: hep-th/2003/0303102\n",
      "Malformed argument. First and last elements must match a valid argument format. In this case, TexSoup could not find matching punctuation for: ['[', 'm', '}'].\n",
      "Common issues include: Unescaped special characters, mistyped closing punctuation, misalignment.\n",
      "\n",
      "TypeError non-renderable file: hep-th/2003/0303104\n",
      "Malformed argument. First and last elements must match a valid argument format. In this case, TexSoup could not find matching punctuation for: ['{', 'see section 2.)\\nFinally, for b) and d) there are respectively 3 and 2 ways to\\nchoose which propagator to twist. Therefore, the contributions are\\n',\n",
      "\n",
      "TypeError non-renderable file: hep-th/2003/0303106\n",
      "Malformed argument. First and last elements must match a valid argument format. In this case, TexSoup could not find matching punctuation for: ['[', 'Sov. Phys. Usp.28 (1985) 645\\n\\n', '\\\\bibitem', RArg('Agaev'), '  Sh.S. Agaev, A.C. Vshivtsev, V.Ch.Zhukovskii and O.F.\\nSemenov, Izv.Vissh.Ucheb.Zave\n",
      "\n",
      "TypeError non-renderable file: hep-th/2003/0303107\n",
      "Malformed argument. First and last elements must match a valid argument format. In this case, TexSoup could not find matching punctuation for: ['[', ' #1 , #2 \\\\}', '}'].\n",
      "Common issues include: Unescaped special characters, mistyped closing punctuation, misalignment.\n",
      "\n",
      "unable to decode using utf-8: hep-th/2003/0303108\n",
      "\n",
      "TypeError non-renderable file: hep-th/2003/0303116\n",
      "Malformed argument. First and last elements must match a valid argument format. In this case, TexSoup could not find matching punctuation for: ['{', '\\\\begin', RArg('center'), '%', '\\n\\t', '\\\\begin', RArg('tabular'), RArg('|@', RArg('\\\\hspace', RArg('0.15in')), 'c@', RArg('\\\\hspace', RArg('0.15in'))\n",
      "\n",
      "TypeError non-renderable file: hep-th/2003/0303122\n",
      "Malformed argument. First and last elements must match a valid argument format. In this case, TexSoup could not find matching punctuation for: ['{', '\\\\cite', RArg('de1,de2,de3,de4,de5'), ' and use the expansion\\n', '\\\\be', '\\\\label', RArg('iden'), '\\n', '\\\\frac1', RArg(RArg('/', '\\\\!', '\\\\!', '\\\\!p\n",
      "\n",
      "EOFError non-renderable file: hep-th/2003/0303132\n",
      "Expecting \\end{{}. Reached end of file.\n",
      "\n",
      "TypeError non-renderable file: hep-th/2003/0303133\n",
      "Malformed argument. First and last elements must match a valid argument format. In this case, TexSoup could not find matching punctuation for: ['{', '\\\\right}', '\\n', '\\\\def', '\\\\d', RArg(RArg('\\\\rm', ' d')), '\\n', '\\\\def', '\\\\wt', RArg('\\\\widetilde'), '\\n', '\\\\def', '\\\\wh', RArg('\\\\widehat'), '\\n',\n",
      "\n",
      "TypeError non-renderable file: hep-th/2003/0303135\n",
      "Malformed argument. First and last elements must match a valid argument format. In this case, TexSoup could not find matching punctuation for: ['[', '}'].\n",
      "Common issues include: Unescaped special characters, mistyped closing punctuation, misalignment.\n",
      "\n",
      "TypeError non-renderable file: hep-th/2003/0303145\n",
      "Malformed argument. First and last elements must match a valid argument format. In this case, TexSoup could not find matching punctuation for: ['[', '}'].\n",
      "Common issues include: Unescaped special characters, mistyped closing punctuation, misalignment.\n",
      "\n",
      "TypeError non-renderable file: hep-th/2003/0303150\n",
      "Malformed argument. First and last elements must match a valid argument format. In this case, TexSoup could not find matching punctuation for: ['[', '}'].\n",
      "Common issues include: Unescaped special characters, mistyped closing punctuation, misalignment.\n",
      "\n",
      "TypeError non-renderable file: hep-th/2003/0303154\n",
      "Malformed argument. First and last elements must match a valid argument format. In this case, TexSoup could not find matching punctuation for: ['{', '\\\\ref', RArg('1c'), ') and the field equations yields\\n', '\\\\be', '\\\\label', RArg('con2'), '\\n2', '\\\\Lambda', ' = 8', '\\\\pi', ' G (', '\\\\rho', '_', '\\\n",
      "\n",
      "TypeError non-renderable file: hep-th/2003/0303155\n",
      "Malformed argument. First and last elements must match a valid argument format. In this case, TexSoup could not find matching punctuation for: ['[', '\\n A_', '\\\\alpha', ' ', '\\\\pa', '_', '\\\\beta', ' A_', '\\\\gamma', ' ', '\\\\pa', '_', '\\\\delta', ' A_', '\\\\epsilon', ' ', '\\\\right]', ' \\n=', RArg('1 ', \n",
      "\n",
      "EOFError non-renderable file: hep-th/2003/0303158\n",
      "Expecting \\end{{}. Reached end of file.\n",
      "\n",
      "EOFError non-renderable file: hep-th/2003/0303160\n",
      "Expecting \\end{tabular}. Reached end of file.\n",
      "\n",
      "TypeError non-renderable file: hep-th/2003/0303161\n",
      "Malformed argument. First and last elements must match a valid argument format. In this case, TexSoup could not find matching punctuation for: ['{', '\\\\right}', '\\n', '\\\\def', '\\\\br', RArg('\\\\begin', RArg('remark'), '\\\\rm', '\\\\small'), '\\n', '\\\\def', '\\\\1', RArg(RArg('\\\\bf', ' 1')), '\\n', '\\\\def', '\n",
      "\n",
      "unable to decode using utf-8: hep-th/2003/0303163\n",
      "\n",
      "TypeError non-renderable file: hep-th/2003/0303164\n",
      "Malformed argument. First and last elements must match a valid argument format. In this case, TexSoup could not find matching punctuation for: ['[', 'k', '}'].\n",
      "Common issues include: Unescaped special characters, mistyped closing punctuation, misalignment.\n",
      "\n",
      "EOFError non-renderable file: hep-th/2003/0303169\n",
      "Expecting \\end{{}. Reached end of file.\n",
      "\n",
      "unable to decode using utf-8: hep-th/2003/0303171\n",
      "\n",
      "unable to decode using utf-8: hep-th/2003/0303185\n",
      "\n",
      "TypeError non-renderable file: hep-th/2003/0303187\n",
      "Malformed argument. First and last elements must match a valid argument format. In this case, TexSoup could not find matching punctuation for: ['[', '\\\\e', '^', RArg('ikx_', RArg('12')), ' + ', RArg('\\\\overline', ' R'), '(k)', '\\\\e', '^', RArg('ik', RArg('\\\\widetilde', '\\nx'), '_', RArg('12')), '\\\\r\n",
      "\n",
      "unable to decode using utf-8: hep-th/2003/0303189\n",
      "\n",
      "EOFError non-renderable file: hep-th/2003/0303191\n",
      "Expecting $. Reached end of file.\n",
      "\n",
      "TypeError non-renderable file: hep-th/2003/0303192\n",
      "Malformed argument. First and last elements must match a valid argument format. In this case, TexSoup could not find matching punctuation for: ['[', '1 + ', RArg('1', '\\\\over2'), '(', '\\\\vp', ' - ', '\\\\bvp', ')', '\\\\right]', '\\\\right\\\\}', '~. ', '\\\\lb', RArg('Gbi'), '\\n', '\\\\eea', '\\n\\nLet us first \n",
      "\n",
      "TypeError non-renderable file: hep-th/2003/0303194\n",
      "Malformed argument. First and last elements must match a valid argument format. In this case, TexSoup could not find matching punctuation for: ['{', '\\\\right}', '\\n', '\\\\def', '\\\\mapr', RArg('\\\\mathop', RArg('\\\\longrightarrow'), '\\\\limits'), '\\n', '\\\\def', '\\\\rightarrowbox', '#1#2', RArg('\\n  ', '\\\\\n",
      "\n",
      "TypeError non-renderable file: hep-th/2003/0303197\n",
      "Malformed argument. First and last elements must match a valid argument format. In this case, TexSoup could not find matching punctuation for: ['[', '}'].\n",
      "Common issues include: Unescaped special characters, mistyped closing punctuation, misalignment.\n",
      "\n",
      "TypeError non-renderable file: hep-th/2003/0303198\n",
      "Malformed argument. First and last elements must match a valid argument format. In this case, TexSoup could not find matching punctuation for: ['{', '\\\\bigr', ']'].\n",
      "Common issues include: Unescaped special characters, mistyped closing punctuation, misalignment.\n",
      "\n",
      "unable to decode using utf-8: hep-th/2003/0303202\n",
      "\n",
      "unable to decode using utf-8: hep-th/2003/0303203\n",
      "\n",
      "TypeError non-renderable file: hep-th/2003/0303205\n",
      "Malformed argument. First and last elements must match a valid argument format. In this case, TexSoup could not find matching punctuation for: ['{', '\\\\ref', RArg('TBA2'), ') the following expression for the free energy is\\nobtained ', '\\\\be', ' f=f_', RArg('0'), '+f_', RArg('b'), ' +O(', RArg('1', \n",
      "\n",
      "TypeError non-renderable file: hep-th/2003/0303207\n",
      "Malformed argument. First and last elements must match a valid argument format. In this case, TexSoup could not find matching punctuation for: ['{', '\\n &', '\\\\left[', \"W'(z)T(z)\", '\\\\right]', '_- + ', '\\\\tr', ' ', '\\\\left[', \"m'(z)M(z) \", '\\\\right]', '_- =\\n 2R(z)T(z) +w_', '\\\\alpha', '(z) w^', '\\\\\n",
      "\n",
      "TypeError non-renderable file: hep-th/2003/0303209\n",
      "Malformed argument. First and last elements must match a valid argument format. In this case, TexSoup could not find matching punctuation for: ['[', '\\\\hat', ' m_2', '}'].\n",
      "Common issues include: Unescaped special characters, mistyped closing punctuation, misalignment.\n",
      "\n",
      "EOFError non-renderable file: hep-th/2003/0303210\n",
      "Expecting \\end{align}. Reached end of file.\n",
      "\n",
      "unable to decode using utf-8: hep-th/2003/0303212\n",
      "\n",
      "TypeError non-renderable file: hep-th/2003/0303213\n",
      "Malformed argument. First and last elements must match a valid argument format. In this case, TexSoup could not find matching punctuation for: ['[', '}'].\n",
      "Common issues include: Unescaped special characters, mistyped closing punctuation, misalignment.\n",
      "\n",
      "EOFError non-renderable file: hep-th/2003/0303218\n",
      "Expecting \\end{document}. Reached end of file.\n",
      "\n",
      "TypeError non-renderable file: hep-th/2003/0303222\n",
      "Malformed argument. First and last elements must match a valid argument format. In this case, TexSoup could not find matching punctuation for: ['[', '}'].\n",
      "Common issues include: Unescaped special characters, mistyped closing punctuation, misalignment.\n",
      "\n",
      "unable to decode using utf-8: hep-th/2003/0303223\n",
      "\n",
      "unable to decode using utf-8: hep-th/2003/0303241\n",
      "\n",
      "TypeError non-renderable file: hep-th/2003/0303244\n",
      "Malformed argument. First and last elements must match a valid argument format. In this case, TexSoup could not find matching punctuation for: ['{', '\\\\right}', '\\n', '\\\\nwc', RArg('\\\\lm'), '  ', RArg('\\\\limits'), '\\n', '\\\\nwc', RArg('\\\\lb'), '  ', RArg('\\\\lbrack'), '\\n', '\\\\nwc', RArg('\\\\rb'), '  '\n",
      "\n",
      "unable to decode using utf-8: hep-th/2003/0303246\n",
      "\n",
      "TypeError non-renderable file: hep-th/2003/0303250\n",
      "Malformed argument. First and last elements must match a valid argument format. In this case, TexSoup could not find matching punctuation for: ['{', '\\\\normalsize', ' ', '%\\\\section{References}}', '\\n\\n', RArg('\\\\normalsize', ' ', '\\\\enumerate'), '\\n\\n1. J. W. Darewych, Annales Fond. L. de Broglie (\n",
      "\n",
      "TypeError non-renderable file: hep-th/2003/0303253\n",
      "Malformed argument. First and last elements must match a valid argument format. In this case, TexSoup could not find matching punctuation for: ['[', '\\\\mu', '}'].\n",
      "Common issues include: Unescaped special characters, mistyped closing punctuation, misalignment.\n",
      "\n",
      "unable to decode using utf-8: hep-th/2003/0303257\n",
      "\n",
      "TypeError non-renderable file: hep-th/2003/0303261\n",
      "Malformed argument. First and last elements must match a valid argument format. In this case, TexSoup could not find matching punctuation for: ['{', 'FIG. I:\\\\\\\\'].\n",
      "Common issues include: Unescaped special characters, mistyped closing punctuation, misalignment.\n",
      "\n",
      "EOFError non-renderable file: hep-th/2003/0303262\n",
      "Expecting \\end{eqnarray}. Reached end of file.\n",
      "\n",
      "EOFError non-renderable file: hep-th/2003/0303263\n",
      "Expecting $. Reached end of file.\n",
      "\n",
      "TypeError non-renderable file: hep-th/2003/0303264\n",
      "Malformed argument. First and last elements must match a valid argument format. In this case, TexSoup could not find matching punctuation for: ['{', '\\\\small', '\\n', '%\\\\cite{Casimir:dh}', '\\n', '\\\\bibitem', RArg('Casimir:dh'), '\\nH.~B.~Casimir,\\n', \"%``On The Attraction Between Two Perfectly Conduc\n",
      "\n",
      "TypeError non-renderable file: hep-th/2003/0303266\n",
      "Malformed argument. First and last elements must match a valid argument format. In this case, TexSoup could not find matching punctuation for: ['[', 'n', '}'].\n",
      "Common issues include: Unescaped special characters, mistyped closing punctuation, misalignment.\n",
      "\n",
      "TypeError non-renderable file: hep-th/2003/0303268\n",
      "Malformed argument. First and last elements must match a valid argument format. In this case, TexSoup could not find matching punctuation for: ['[', 'k', '}'].\n",
      "Common issues include: Unescaped special characters, mistyped closing punctuation, misalignment.\n",
      "\n",
      "EOFError non-renderable file: hep-th/2003/0303270\n",
      "Expecting $. Reached end of file.\n",
      "\n",
      "TypeError non-renderable file: hep-th/2003/0304001\n",
      "Malformed argument. First and last elements must match a valid argument format. In this case, TexSoup could not find matching punctuation for: ['[', '}'].\n",
      "Common issues include: Unescaped special characters, mistyped closing punctuation, misalignment.\n",
      "\n",
      "TypeError non-renderable file: hep-th/2003/0304002\n",
      "Malformed argument. First and last elements must match a valid argument format. In this case, TexSoup could not find matching punctuation for: ['[', '}'].\n",
      "Common issues include: Unescaped special characters, mistyped closing punctuation, misalignment.\n",
      "\n",
      "TypeError non-renderable file: hep-th/2003/0304007\n",
      "Malformed argument. First and last elements must match a valid argument format. In this case, TexSoup could not find matching punctuation for: ['[', '\\\\m', '\\\\n', \" |z'_1\", '}'].\n",
      "Common issues include: Unescaped special characters, mistyped closing punctuation, misalignment.\n",
      "\n",
      "TypeError non-renderable file: hep-th/2003/0304013\n",
      "Malformed argument. First and last elements must match a valid argument format. In this case, TexSoup could not find matching punctuation for: ['[', '\\\\mu', '}'].\n",
      "Common issues include: Unescaped special characters, mistyped closing punctuation, misalignment.\n",
      "\n",
      "TypeError non-renderable file: hep-th/2003/0304019\n",
      "Malformed argument. First and last elements must match a valid argument format. In this case, TexSoup could not find matching punctuation for: ['{', '\\\\bigr', ']'].\n",
      "Common issues include: Unescaped special characters, mistyped closing punctuation, misalignment.\n",
      "\n",
      "TypeError non-renderable file: hep-th/2003/0304035\n",
      "Malformed argument. First and last elements must match a valid argument format. In this case, TexSoup could not find matching punctuation for: ['{', RArg('\\\\large', RArg('\\\\bf', ' Acknowledgements:')), ' R.R. would like to thank A. Tseytlin for comments and critically reading the draft of the paper.\n",
      "\n",
      "unable to decode using utf-8: hep-th/2003/0304040\n",
      "\n",
      "unable to decode using utf-8: hep-th/2003/0304044\n",
      "\n",
      "unable to decode using utf-8: hep-th/2003/0304052\n",
      "\n",
      "TypeError non-renderable file: hep-th/2003/0304055\n",
      "Malformed argument. First and last elements must match a valid argument format. In this case, TexSoup could not find matching punctuation for: ['[', '\\\\Bigr', '.', '}'].\n",
      "Common issues include: Unescaped special characters, mistyped closing punctuation, misalignment.\n",
      "\n",
      "TypeError non-renderable file: hep-th/2003/0304059\n",
      "Malformed argument. First and last elements must match a valid argument format. In this case, TexSoup could not find matching punctuation for: ['{', 'where ', TexEnv('$'), ' is the deformed version of the star-product\\n  defined by the prescription of integration along an open Wilson line\\n for two \n",
      "\n",
      "EOFError non-renderable file: hep-th/2003/0304061\n",
      "Expecting \\end{equation}. Reached end of file.\n",
      "\n",
      "TypeError non-renderable file: hep-th/2003/0304062\n",
      "Malformed argument. First and last elements must match a valid argument format. In this case, TexSoup could not find matching punctuation for: ['[', 'm', '}'].\n",
      "Common issues include: Unescaped special characters, mistyped closing punctuation, misalignment.\n",
      "\n",
      "TypeError non-renderable file: hep-th/2003/0304063\n",
      "Malformed argument. First and last elements must match a valid argument format. In this case, TexSoup could not find matching punctuation for: ['[', ' ', '\\\\psi', '(x) ,', '\\\\big[', '\\\\tau', '_2( x, ', '\\\\lambda', ' ), ', '\\\\rho', '_1(x, ', '\\\\lambda', ') ', '\\\\big]', ' ', '\\\\Big]', ' \\n', '\\\\nn', '\n",
      "\n",
      "TypeError non-renderable file: hep-th/2003/0304064\n",
      "Malformed argument. First and last elements must match a valid argument format. In this case, TexSoup could not find matching punctuation for: ['[', '\\\\beta', '}'].\n",
      "Common issues include: Unescaped special characters, mistyped closing punctuation, misalignment.\n",
      "\n",
      "TypeError non-renderable file: hep-th/2003/0304068\n",
      "Malformed argument. First and last elements must match a valid argument format. In this case, TexSoup could not find matching punctuation for: ['[', '}'].\n",
      "Common issues include: Unescaped special characters, mistyped closing punctuation, misalignment.\n",
      "\n",
      "TypeError non-renderable file: hep-th/2003/0304076\n",
      "Malformed argument. First and last elements must match a valid argument format. In this case, TexSoup could not find matching punctuation for: ['{', '\\\\right}', '\\n', '\\\\def', '\\\\pa', ' ', RArg('\\\\partial'), '\\n', '\\\\def', '\\\\f', ' ', RArg('\\\\frac'), '\\n', '\\\\def', '\\\\sq', ' ', RArg('\\\\sqrt'), '\\n',\n",
      "\n",
      "TypeError non-renderable file: hep-th/2003/0304083\n",
      "Malformed argument. First and last elements must match a valid argument format. In this case, TexSoup could not find matching punctuation for: ['{', '\\\\em', ' Moscow State University, Physical Faculty,\\\\\\\\\\nDepartment of Theoretical Physics.\\\\\\\\'].\n",
      "Common issues include: Unescaped special characters\n",
      "\n",
      "unable to decode using utf-8: hep-th/2003/0304088\n",
      "\n",
      "unable to decode using utf-8: hep-th/2003/0304089\n",
      "\n",
      "TypeError non-renderable file: hep-th/2003/0304090\n",
      "Malformed argument. First and last elements must match a valid argument format. In this case, TexSoup could not find matching punctuation for: ['[', '}'].\n",
      "Common issues include: Unescaped special characters, mistyped closing punctuation, misalignment.\n",
      "\n",
      "EOFError non-renderable file: hep-th/2003/0304107\n",
      "Expecting \\end{{}. Reached end of file.\n",
      "\n",
      "TypeError non-renderable file: hep-th/2003/0304108\n",
      "Malformed argument. First and last elements must match a valid argument format. In this case, TexSoup could not find matching punctuation for: ['{', '\\\\right}', '\\n', '\\\\def', '\\\\riya', RArg('\\\\rightarrow'), '\\n', '\\\\def', '\\\\longriya', RArg('\\\\longrightarrow'), '\\n', '\\\\def', '\\\\lfya', RArg('\\\\left\n",
      "\n",
      "TypeError non-renderable file: hep-th/2003/0304113\n",
      "Malformed argument. First and last elements must match a valid argument format. In this case, TexSoup could not find matching punctuation for: ['{', ']'].\n",
      "Common issues include: Unescaped special characters, mistyped closing punctuation, misalignment.\n",
      "\n",
      "unable to decode using utf-8: hep-th/2003/0304114\n",
      "\n",
      "TypeError non-renderable file: hep-th/2003/0304117\n",
      "Malformed argument. First and last elements must match a valid argument format. In this case, TexSoup could not find matching punctuation for: ['[', '}'].\n",
      "Common issues include: Unescaped special characters, mistyped closing punctuation, misalignment.\n",
      "\n",
      "TypeError non-renderable file: hep-th/2003/0304119\n",
      "Malformed argument. First and last elements must match a valid argument format. In this case, TexSoup could not find matching punctuation for: ['{', '\\\\right}', '\\n', '\\\\def', '\\\\da', RArg(RArg('\\\\dot', '\\\\alpha')), '\\n', '\\\\def', '\\\\mapr', RArg('\\\\mathop', RArg('\\\\longrightarrow'), '\\\\limits'), '\\n\n",
      "\n",
      "TypeError non-renderable file: hep-th/2003/0304120\n",
      "Malformed argument. First and last elements must match a valid argument format. In this case, TexSoup could not find matching punctuation for: ['{', '\\\\ref', RArg('condop'), ') is to introduce a dimensionless complex fermion at the boundary ', TexEnv('$'), ', ', TexEnv('$'), ' ', '\\\\ such', ' that u\n",
      "\n",
      "TypeError non-renderable file: hep-th/2003/0304123\n",
      "Malformed argument. First and last elements must match a valid argument format. In this case, TexSoup could not find matching punctuation for: ['[', '\\\\q', ' ,D_', RArg('\\\\alpha', '\\\\dot', RArg('\\\\alpha')), '^', RArg('(i)'), RArg('\\\\cal', ' O'), '\\\\}', '\\\\c', '= 0\\n', '\\\\ee', '\\nwhere ', '\\\\c', '= i\n",
      "\n",
      "TypeError non-renderable file: hep-th/2003/0304126\n",
      "Malformed argument. First and last elements must match a valid argument format. In this case, TexSoup could not find matching punctuation for: ['[', '-', '\\\\nabla', '_', '\\\\alpha', '(g^', RArg('\\\\beta', '\\\\bar', '\\\\gamma'), ' h_', RArg('\\\\beta', '\\\\bar', '\\\\gamma'), ')\\n-', '\\\\nabla', '_', '\\\\beta',\n",
      "\n",
      "unable to decode using utf-8: hep-th/2003/0304133\n",
      "\n",
      "unable to decode using utf-8: hep-th/2003/0304134\n",
      "\n",
      "TypeError non-renderable file: hep-th/2003/0304136\n",
      "Malformed argument. First and last elements must match a valid argument format. In this case, TexSoup could not find matching punctuation for: ['{', ']'].\n",
      "Common issues include: Unescaped special characters, mistyped closing punctuation, misalignment.\n",
      "\n",
      "TypeError non-renderable file: hep-th/2003/0304139\n",
      "Malformed argument. First and last elements must match a valid argument format. In this case, TexSoup could not find matching punctuation for: ['{', '\\n =   ', '\\\\ha', '   ', '\\\\sql', '\\\\int', ' ', RArg('d ', '\\\\s', '\\\\ov', ' 2', '\\\\pi'), '  ', '\\\\big[', ' (1 + z^2  + x^2\\n ) ', '\\\\PP', '_0 - 2 x_0 \n",
      "\n",
      "EOFError non-renderable file: hep-th/2003/0304142\n",
      "Expecting \\end{eqnarray}. Reached end of file.\n",
      "\n",
      "TypeError non-renderable file: hep-th/2003/0304143\n",
      "Malformed argument. First and last elements must match a valid argument format. In this case, TexSoup could not find matching punctuation for: ['[', 'J', '}'].\n",
      "Common issues include: Unescaped special characters, mistyped closing punctuation, misalignment.\n",
      "\n",
      "TypeError non-renderable file: hep-th/2003/0304145\n",
      "Malformed argument. First and last elements must match a valid argument format. In this case, TexSoup could not find matching punctuation for: ['[', 'hep-th/02091220.', '}'].\n",
      "Common issues include: Unescaped special characters, mistyped closing punctuation, misalignment.\n",
      "\n",
      "TypeError non-renderable file: hep-th/2003/0304148\n",
      "Malformed argument. First and last elements must match a valid argument format. In this case, TexSoup could not find matching punctuation for: ['{', '\\\\ref', RArg('act1'), ') describes a smooth 3-brane in a \\n', TexEnv('$'), '-dimensional space. \\nWe will show that for sufficiently large values of '\n",
      "\n",
      "TypeError non-renderable file: hep-th/2003/0304161\n",
      "Malformed argument. First and last elements must match a valid argument format. In this case, TexSoup could not find matching punctuation for: ['[', '}'].\n",
      "Common issues include: Unescaped special characters, mistyped closing punctuation, misalignment.\n",
      "\n",
      "TypeError non-renderable file: hep-th/2003/0304162\n",
      "Malformed argument. First and last elements must match a valid argument format. In this case, TexSoup could not find matching punctuation for: ['[', '}'].\n",
      "Common issues include: Unescaped special characters, mistyped closing punctuation, misalignment.\n",
      "\n",
      "TypeError non-renderable file: hep-th/2003/0304169\n",
      "Malformed argument. First and last elements must match a valid argument format. In this case, TexSoup could not find matching punctuation for: ['[', 'i', '}'].\n",
      "Common issues include: Unescaped special characters, mistyped closing punctuation, misalignment.\n",
      "\n",
      "unable to decode using utf-8: hep-th/2003/0304170\n",
      "\n",
      "TypeError non-renderable file: hep-th/2003/0304191\n",
      "Malformed argument. First and last elements must match a valid argument format. In this case, TexSoup could not find matching punctuation for: ['[', ' #1 , #2 \\\\}', '}'].\n",
      "Common issues include: Unescaped special characters, mistyped closing punctuation, misalignment.\n",
      "\n",
      "TypeError non-renderable file: hep-th/2003/0304194\n",
      "Malformed argument. First and last elements must match a valid argument format. In this case, TexSoup could not find matching punctuation for: ['{', '\\\\footnote', OArg('1'), RArg('\\nThe coordinate transformation from the original coordinate to KNC is holomorphic', '\\\\cite', RArg('HN'), '.\\nThe Jacob\n",
      "\n",
      "TypeError non-renderable file: hep-th/2003/0304195\n",
      "Malformed argument. First and last elements must match a valid argument format. In this case, TexSoup could not find matching punctuation for: ['[', RArg('\\\\tt', ' hep-th/0008231'), '; ', '\\\\JHEP', RArg('0103'), ' (2001) 038 ', OArg(RArg('\\\\tt', ' hep-th/0009246')), '; \\n  ', '\\\\JHEP', RArg('0102'),\n",
      "\n",
      "unable to decode using utf-8: hep-th/2003/0304197\n",
      "\n",
      "EOFError non-renderable file: hep-th/2003/0304206\n",
      "Expecting \\end{eqnarray}. Reached end of file.\n",
      "\n",
      "TypeError non-renderable file: hep-th/2003/0304209\n",
      "Malformed argument. First and last elements must match a valid argument format. In this case, TexSoup could not find matching punctuation for: ['{', '\\\\expandafter', '\\\\@a', '@', '\\\\the', '#1', '%%BoundingBox:\\\\@bbtest\\\\@a@}', '\\n', '\\\\long', '\\\\def', '\\\\@a', '@#1', '%%BoundingBox:#2#3\\\\@a@{\\\\ifx\\\\@\n",
      "\n",
      "TypeError non-renderable file: hep-th/2003/0304211\n",
      "Malformed argument. First and last elements must match a valid argument format. In this case, TexSoup could not find matching punctuation for: ['[', '}'].\n",
      "Common issues include: Unescaped special characters, mistyped closing punctuation, misalignment.\n",
      "\n",
      "TypeError non-renderable file: hep-th/2003/0304212\n",
      "Malformed argument. First and last elements must match a valid argument format. In this case, TexSoup could not find matching punctuation for: ['{', '\\\\right}', '\\n', '\\\\def', '\\\\no', RArg('\\\\nonumber', '\\\\\\\\'), '\\n', '\\\\def', '\\\\nn', RArg('\\\\nonumber'), '\\n\\n\\n', '% --------------- abbreviated jour\n",
      "\n",
      "TypeError non-renderable file: hep-th/2003/0304233\n",
      "Malformed argument. First and last elements must match a valid argument format. In this case, TexSoup could not find matching punctuation for: ['{', '\\\\right}', '\\n', '\\\\def', '\\\\be', RArg('\\\\begin', RArg('equation')), '\\n', '\\\\def', '\\\\ee', RArg('\\\\end', RArg('equation')), '\\n', '\\\\def', '\\\\beq', R\n",
      "\n",
      "unable to decode using utf-8: hep-th/2003/0304236\n",
      "\n",
      "EOFError non-renderable file: hep-th/2003/0304237\n",
      "Expecting \\end{document}. Reached end of file.\n"
     ]
    }
   ],
   "source": [
    "start_time = time.time()\n",
    "\n",
    "list_of_dicts = []\n",
    "\n",
    "error_counts = {\"decode errors\": [],\n",
    "                \"Type Error\": [],\n",
    "                \"EOF Error\": []}\n",
    "\n",
    "for file_to_open in list_of_files:\n",
    "    \n",
    "    try:\n",
    "        with open(file_to_open,'r') as file_handle: \n",
    "            data = file_handle.read()\n",
    "    except UnicodeDecodeError:\n",
    "        print(\"\\nunable to decode using utf-8:\", file_to_open)\n",
    "        # https://stackoverflow.com/questions/19699367/for-line-in-results-in-unicodedecodeerror-utf-8-codec-cant-decode-byte\n",
    "        error_counts[\"decode errors\"].append(file_to_open)\n",
    "        continue # skip remaining code and go to next iteration of loop\n",
    "        \n",
    "    try:\n",
    "        soup = TexSoup(data)\n",
    "    except TypeError as err:\n",
    "        print(\"\\nTypeError non-renderable file:\",file_to_open)\n",
    "        error_counts[\"Type Error\"].append(file_to_open)\n",
    "        print(str(err)[0:300]) # sometimes the error message can include the entire document, so here I limit the output to the first 200 characters\n",
    "        continue # skip remaining code and go to next iteration of loop\n",
    "    except EOFError as err:\n",
    "        print(\"\\nEOFError non-renderable file:\",file_to_open)\n",
    "        error_counts[\"EOF Error\"].append(file_to_open)\n",
    "        print(str(err)[0:300]) # sometimes the error message can include the entire document, so here I limit the output to the first 200 characters\n",
    "        continue # skip remaining code and go to next iteration of loop\n",
    "    \n",
    "    this_article = {\"file name\": file_to_open}\n",
    "    \n",
    "    list_of_math_entries = []\n",
    "    for entry in soup.find_all(\"$\"):\n",
    "        for this in entry.contents:\n",
    "            #print(this)\n",
    "            list_of_math_entries.append(this)\n",
    "    this_article[\"list of math entries\"] = list_of_math_entries\n",
    "\n",
    "    list_of_equations = []\n",
    "    for entry in soup.find_all('equation'):\n",
    "        for this in entry:\n",
    "            list_of_equations.append(this)\n",
    "            \n",
    "    this_article[\"list of equations\"] = list_of_equations\n",
    "    \n",
    "    list_of_dicts.append(this_article)\n",
    "            \n",
    "print(round(time.time()-start_time,2),'seconds')"
   ]
  },
  {
   "cell_type": "code",
   "execution_count": null,
   "metadata": {},
   "outputs": [],
   "source": [
    "len(list_of_dicts)"
   ]
  },
  {
   "cell_type": "code",
   "execution_count": null,
   "metadata": {},
   "outputs": [],
   "source": [
    "# https://wiki.python.org/moin/UsingPickle\n",
    "\n",
    "pickle.dump( list_of_dicts, open( \"all_math_and_equations.pkl\", \"wb\" ) )"
   ]
  },
  {
   "cell_type": "raw",
   "metadata": {},
   "source": [
    "list_of_dicts = pickle.load( open( \"all_math_and_equations.pkl\", \"rb\" ) )"
   ]
  }
 ],
 "metadata": {
  "kernelspec": {
   "display_name": "Python 3 (ipykernel)",
   "language": "python",
   "name": "python3"
  },
  "language_info": {
   "codemirror_mode": {
    "name": "ipython",
    "version": 3
   },
   "file_extension": ".py",
   "mimetype": "text/x-python",
   "name": "python",
   "nbconvert_exporter": "python",
   "pygments_lexer": "ipython3",
   "version": "3.9.6"
  }
 },
 "nbformat": 4,
 "nbformat_minor": 4
}

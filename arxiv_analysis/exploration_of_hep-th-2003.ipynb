{
 "cells": [
  {
   "cell_type": "markdown",
   "metadata": {},
   "source": [
    "https://www.cs.cornell.edu/projects/kddcup/datasets.html"
   ]
  },
  {
   "cell_type": "raw",
   "metadata": {},
   "source": [
    "!tar xzvf hep-th-2003.tar.gz"
   ]
  },
  {
   "cell_type": "raw",
   "metadata": {},
   "source": [
    "!ls -hal 2003/ | wc -l"
   ]
  },
  {
   "cell_type": "markdown",
   "metadata": {},
   "source": [
    "# identify equations in Latex\n",
    "\n",
    "options: \n",
    "* regex\n",
    "* http://plastex.sourceforge.net/plastex/sect0025.html\n",
    "* tex2py\n",
    "* texsoup"
   ]
  },
  {
   "cell_type": "markdown",
   "metadata": {},
   "source": [
    "### load libraries"
   ]
  },
  {
   "cell_type": "code",
   "execution_count": 1,
   "metadata": {
    "tags": []
   },
   "outputs": [
    {
     "name": "stdout",
     "output_type": "stream",
     "text": [
      "Requirement already satisfied: tex2py in /opt/conda/lib/python3.9/site-packages (0.0.5)\n",
      "Requirement already satisfied: coveralls==1.1 in /opt/conda/lib/python3.9/site-packages (from tex2py) (1.1)\n",
      "Requirement already satisfied: coverage==3.7.1 in /opt/conda/lib/python3.9/site-packages (from tex2py) (3.7.1)\n",
      "Requirement already satisfied: pytest in /opt/conda/lib/python3.9/site-packages (from tex2py) (7.1.2)\n",
      "Requirement already satisfied: pptree==2.0 in /opt/conda/lib/python3.9/site-packages (from tex2py) (2.0)\n",
      "Requirement already satisfied: TexSoup==0.1.4 in /opt/conda/lib/python3.9/site-packages (from tex2py) (0.1.4)\n",
      "Requirement already satisfied: pytest-cov==2.5.1 in /opt/conda/lib/python3.9/site-packages (from tex2py) (2.5.1)\n",
      "Requirement already satisfied: requests>=1.0.0 in /opt/conda/lib/python3.9/site-packages (from coveralls==1.1->tex2py) (2.26.0)\n",
      "Requirement already satisfied: docopt>=0.6.1 in /opt/conda/lib/python3.9/site-packages (from coveralls==1.1->tex2py) (0.6.2)\n",
      "Requirement already satisfied: packaging in /opt/conda/lib/python3.9/site-packages (from pytest->tex2py) (21.0)\n",
      "Requirement already satisfied: iniconfig in /opt/conda/lib/python3.9/site-packages (from pytest->tex2py) (1.1.1)\n",
      "Requirement already satisfied: tomli>=1.0.0 in /opt/conda/lib/python3.9/site-packages (from pytest->tex2py) (2.0.1)\n",
      "Requirement already satisfied: attrs>=19.2.0 in /opt/conda/lib/python3.9/site-packages (from pytest->tex2py) (21.2.0)\n",
      "Requirement already satisfied: pluggy<2.0,>=0.12 in /opt/conda/lib/python3.9/site-packages (from pytest->tex2py) (1.0.0)\n",
      "Requirement already satisfied: py>=1.8.2 in /opt/conda/lib/python3.9/site-packages (from pytest->tex2py) (1.11.0)\n",
      "Requirement already satisfied: urllib3<1.27,>=1.21.1 in /opt/conda/lib/python3.9/site-packages (from requests>=1.0.0->coveralls==1.1->tex2py) (1.26.6)\n",
      "Requirement already satisfied: certifi>=2017.4.17 in /opt/conda/lib/python3.9/site-packages (from requests>=1.0.0->coveralls==1.1->tex2py) (2021.5.30)\n",
      "Requirement already satisfied: charset-normalizer~=2.0.0 in /opt/conda/lib/python3.9/site-packages (from requests>=1.0.0->coveralls==1.1->tex2py) (2.0.0)\n",
      "Requirement already satisfied: idna<4,>=2.5 in /opt/conda/lib/python3.9/site-packages (from requests>=1.0.0->coveralls==1.1->tex2py) (3.1)\n",
      "Requirement already satisfied: pyparsing>=2.0.2 in /opt/conda/lib/python3.9/site-packages (from packaging->pytest->tex2py) (2.4.7)\n"
     ]
    }
   ],
   "source": [
    "# https://github.com/alvinwan/tex2py\n",
    "!pip install tex2py"
   ]
  },
  {
   "cell_type": "code",
   "execution_count": 2,
   "metadata": {
    "tags": []
   },
   "outputs": [
    {
     "name": "stdout",
     "output_type": "stream",
     "text": [
      "Requirement already satisfied: texsoup in /opt/conda/lib/python3.9/site-packages (0.1.4)\n",
      "Requirement already satisfied: coveralls==1.1 in /opt/conda/lib/python3.9/site-packages (from texsoup) (1.1)\n",
      "Requirement already satisfied: coverage==3.7.1 in /opt/conda/lib/python3.9/site-packages (from texsoup) (3.7.1)\n",
      "Requirement already satisfied: pytest-cov==2.5.1 in /opt/conda/lib/python3.9/site-packages (from texsoup) (2.5.1)\n",
      "Requirement already satisfied: pytest in /opt/conda/lib/python3.9/site-packages (from texsoup) (7.1.2)\n",
      "Requirement already satisfied: requests>=1.0.0 in /opt/conda/lib/python3.9/site-packages (from coveralls==1.1->texsoup) (2.26.0)\n",
      "Requirement already satisfied: docopt>=0.6.1 in /opt/conda/lib/python3.9/site-packages (from coveralls==1.1->texsoup) (0.6.2)\n",
      "Requirement already satisfied: attrs>=19.2.0 in /opt/conda/lib/python3.9/site-packages (from pytest->texsoup) (21.2.0)\n",
      "Requirement already satisfied: iniconfig in /opt/conda/lib/python3.9/site-packages (from pytest->texsoup) (1.1.1)\n",
      "Requirement already satisfied: packaging in /opt/conda/lib/python3.9/site-packages (from pytest->texsoup) (21.0)\n",
      "Requirement already satisfied: tomli>=1.0.0 in /opt/conda/lib/python3.9/site-packages (from pytest->texsoup) (2.0.1)\n",
      "Requirement already satisfied: pluggy<2.0,>=0.12 in /opt/conda/lib/python3.9/site-packages (from pytest->texsoup) (1.0.0)\n",
      "Requirement already satisfied: py>=1.8.2 in /opt/conda/lib/python3.9/site-packages (from pytest->texsoup) (1.11.0)\n",
      "Requirement already satisfied: idna<4,>=2.5 in /opt/conda/lib/python3.9/site-packages (from requests>=1.0.0->coveralls==1.1->texsoup) (3.1)\n",
      "Requirement already satisfied: charset-normalizer~=2.0.0 in /opt/conda/lib/python3.9/site-packages (from requests>=1.0.0->coveralls==1.1->texsoup) (2.0.0)\n",
      "Requirement already satisfied: certifi>=2017.4.17 in /opt/conda/lib/python3.9/site-packages (from requests>=1.0.0->coveralls==1.1->texsoup) (2021.5.30)\n",
      "Requirement already satisfied: urllib3<1.27,>=1.21.1 in /opt/conda/lib/python3.9/site-packages (from requests>=1.0.0->coveralls==1.1->texsoup) (1.26.6)\n",
      "Requirement already satisfied: pyparsing>=2.0.2 in /opt/conda/lib/python3.9/site-packages (from packaging->pytest->texsoup) (2.4.7)\n"
     ]
    }
   ],
   "source": [
    "# https://github.com/alvinwan/TexSoup\n",
    "!pip install texsoup"
   ]
  },
  {
   "cell_type": "code",
   "execution_count": 3,
   "metadata": {},
   "outputs": [
    {
     "name": "stdout",
     "output_type": "stream",
     "text": [
      "Requirement already satisfied: plastex in /opt/conda/lib/python3.9/site-packages (2.1)\n"
     ]
    }
   ],
   "source": [
    "!pip install plastex"
   ]
  },
  {
   "cell_type": "code",
   "execution_count": 38,
   "metadata": {},
   "outputs": [],
   "source": [
    "import re\n",
    "import time\n",
    "import pickle # https://docs.python.org/3/library/pickle.html\n",
    "import glob\n",
    "import matplotlib.pyplot as plt"
   ]
  },
  {
   "cell_type": "markdown",
   "metadata": {},
   "source": [
    "### load data"
   ]
  },
  {
   "cell_type": "code",
   "execution_count": 5,
   "metadata": {},
   "outputs": [],
   "source": [
    "list_of_files = glob.glob('hep-th/2003/*')"
   ]
  },
  {
   "cell_type": "code",
   "execution_count": 6,
   "metadata": {},
   "outputs": [
    {
     "data": {
      "text/plain": [
       "1019"
      ]
     },
     "execution_count": 6,
     "metadata": {},
     "output_type": "execute_result"
    }
   ],
   "source": [
    "len(list_of_files)"
   ]
  },
  {
   "cell_type": "markdown",
   "metadata": {},
   "source": [
    "# find relevant tags for equations in latex using regex\n",
    "\n",
    "regex likely won't work for complex latex equations. \n",
    "\n",
    "regex will have trouble with inline math like \\\\$x\\\\$"
   ]
  },
  {
   "cell_type": "code",
   "execution_count": 7,
   "metadata": {},
   "outputs": [
    {
     "name": "stdout",
     "output_type": "stream",
     "text": [
      "6.25 seconds\n"
     ]
    }
   ],
   "source": [
    "start_time=time.time()\n",
    "reslts={}\n",
    "number_of_eq=0\n",
    "for this_file in list_of_files:\n",
    "    with open(this_file,'rb') as f:\n",
    "        data = f.read()\n",
    "    \n",
    "    resp = re.findall('\\\\\\\\begin{(?:eqnarray|equation|multiline)}.*?end{(?:eqnarray|equation|multiline)}',str(data),re.DOTALL)\n",
    "#    print(this_file)\n",
    "    for eq in resp:\n",
    "        number_of_eq+=1\n",
    "        try:\n",
    "            reslts[this_file].append(eq)\n",
    "        except KeyError:\n",
    "            reslts[this_file]=[]\n",
    "            reslts[this_file].append(eq)\n",
    "#        print('  ',eq,'\\n')\n",
    "\n",
    "print(round(time.time()-start_time,2),'seconds')"
   ]
  },
  {
   "cell_type": "markdown",
   "metadata": {},
   "source": [
    "How many equations were found?"
   ]
  },
  {
   "cell_type": "code",
   "execution_count": 8,
   "metadata": {},
   "outputs": [
    {
     "data": {
      "text/plain": [
       "29481"
      ]
     },
     "execution_count": 8,
     "metadata": {},
     "output_type": "execute_result"
    }
   ],
   "source": [
    "number_of_eq"
   ]
  },
  {
   "cell_type": "markdown",
   "metadata": {},
   "source": [
    "Of the files, how many have equations present?"
   ]
  },
  {
   "cell_type": "code",
   "execution_count": 9,
   "metadata": {},
   "outputs": [
    {
     "name": "stdout",
     "output_type": "stream",
     "text": [
      "929 files have equations\n",
      "1019 files\n"
     ]
    }
   ],
   "source": [
    "print(len(reslts.keys()),\"files have equations\")\n",
    "print(len(list_of_files),\"files\")"
   ]
  },
  {
   "cell_type": "markdown",
   "metadata": {},
   "source": [
    "what is an example of equations found in the first paper?"
   ]
  },
  {
   "cell_type": "code",
   "execution_count": 10,
   "metadata": {},
   "outputs": [
    {
     "data": {
      "text/plain": [
       "['\\\\begin{equation}}\\\\n\\\\\\\\newcommand{\\\\\\\\eeq}{\\\\\\\\end{equation}',\n",
       " '\\\\begin{eqnarray}}\\\\n\\\\\\\\newcommand{\\\\\\\\eeqa}{\\\\\\\\end{eqnarray}']"
      ]
     },
     "execution_count": 10,
     "metadata": {},
     "output_type": "execute_result"
    }
   ],
   "source": [
    "reslts[list(reslts.keys())[0]]"
   ]
  },
  {
   "cell_type": "markdown",
   "metadata": {},
   "source": [
    "What is the first equation in the second paper?"
   ]
  },
  {
   "cell_type": "code",
   "execution_count": 11,
   "metadata": {},
   "outputs": [
    {
     "data": {
      "text/plain": [
       "'\\\\begin{equation} \\\\\\\\eqalign{#2} \\\\\\\\label{#1} \\\\\\\\end{equation}'"
      ]
     },
     "execution_count": 11,
     "metadata": {},
     "output_type": "execute_result"
    }
   ],
   "source": [
    "reslts[list(reslts.keys())[1]][0]"
   ]
  },
  {
   "cell_type": "markdown",
   "metadata": {},
   "source": [
    "## visualize results"
   ]
  },
  {
   "cell_type": "code",
   "execution_count": 12,
   "metadata": {},
   "outputs": [],
   "source": [
    "number_of_eq_per_file=[]\n",
    "for k,v in reslts.items():\n",
    "    number_of_eq_per_file.append(len(v))"
   ]
  },
  {
   "cell_type": "code",
   "execution_count": 13,
   "metadata": {},
   "outputs": [
    {
     "data": {
      "image/png": "[encoded data removed]",
      "text/plain": [
       "<Figure size 432x288 with 1 Axes>"
      ]
     },
     "metadata": {
      "needs_background": "light"
     },
     "output_type": "display_data"
    }
   ],
   "source": [
    "_=plt.hist(number_of_eq_per_file,bins=100)\n",
    "_=plt.ylabel('number of expressions')\n",
    "_=plt.xlabel('number of documents')\n",
    "_=plt.title(\"number of expressions per paper\")"
   ]
  },
  {
   "cell_type": "code",
   "execution_count": 14,
   "metadata": {},
   "outputs": [
    {
     "data": {
      "image/png": "[encoded data removed]",
      "text/plain": [
       "<Figure size 432x288 with 1 Axes>"
      ]
     },
     "metadata": {
      "needs_background": "light"
     },
     "output_type": "display_data"
    }
   ],
   "source": [
    "_=plt.hist(number_of_eq_per_file,bins=100)\n",
    "_=plt.yscale('log', nonpositive='clip')\n",
    "_=plt.ylabel('number of expressions')\n",
    "_=plt.xlabel('number of documents')\n",
    "_=plt.title(\"number of expressions per paper, log-y axis\")"
   ]
  },
  {
   "cell_type": "markdown",
   "metadata": {},
   "source": [
    "## plastex\n",
    "\n",
    "http://plastex.sourceforge.net/plastex/sect0025.html\n",
    "\n",
    "http://plastex.sourceforge.net/plastex/index.html\n",
    "\n",
    "http://plastex.github.io/plastex/"
   ]
  },
  {
   "cell_type": "code",
   "execution_count": 15,
   "metadata": {},
   "outputs": [
    {
     "name": "stderr",
     "output_type": "stream",
     "text": [
      "WARNING: Cannot find unidecode lib. Expect issues with index sorting\n"
     ]
    }
   ],
   "source": [
    "from plasTeX.TeX import TeX\n",
    "from plasTeX.Renderers.XHTML import Renderer"
   ]
  },
  {
   "cell_type": "code",
   "execution_count": 16,
   "metadata": {},
   "outputs": [],
   "source": [
    "with open(list_of_files[1]) as f: data = f.read()"
   ]
  },
  {
   "cell_type": "code",
   "execution_count": 17,
   "metadata": {},
   "outputs": [
    {
     "data": {
      "text/plain": [
       "<plasTeX.TeX.TeX at 0x7f9bdbbf1940>"
      ]
     },
     "execution_count": 17,
     "metadata": {},
     "output_type": "execute_result"
    }
   ],
   "source": [
    "TeX(data)"
   ]
  },
  {
   "cell_type": "raw",
   "metadata": {
    "tags": []
   },
   "source": [
    "Renderer().render(TeX(data).parse())"
   ]
  },
  {
   "cell_type": "markdown",
   "metadata": {},
   "source": [
    "## tex2py\n",
    "\n",
    "Tex2py converts LaTeX into a Python parse tree.\n",
    "\n",
    "`tex2py` uses `TexSoup` on the backend"
   ]
  },
  {
   "cell_type": "code",
   "execution_count": 18,
   "metadata": {},
   "outputs": [],
   "source": [
    "# https://github.com/alvinwan/tex2py\n",
    "from tex2py import tex2py"
   ]
  },
  {
   "cell_type": "code",
   "execution_count": 19,
   "metadata": {},
   "outputs": [
    {
     "data": {
      "text/plain": [
       "'hep-th/2003/0301003'"
      ]
     },
     "execution_count": 19,
     "metadata": {},
     "output_type": "execute_result"
    }
   ],
   "source": [
    "list_of_files[2]"
   ]
  },
  {
   "cell_type": "code",
   "execution_count": 20,
   "metadata": {},
   "outputs": [],
   "source": [
    "with open(list_of_files[1]) as f: data = f.read()\n",
    "toc = tex2py(data)"
   ]
  },
  {
   "cell_type": "raw",
   "metadata": {
    "tags": []
   },
   "source": [
    "toc.valid_tags"
   ]
  },
  {
   "cell_type": "code",
   "execution_count": 21,
   "metadata": {},
   "outputs": [
    {
     "data": {
      "text/plain": [
       "[Introduction,\n",
       " Thermodynamic considerations,\n",
       " Universality classes and the general problem,\n",
       " Crossing the threshold of stability: non-dilatonic\\\\ branes,\n",
       " Conclusions]"
      ]
     },
     "execution_count": 21,
     "metadata": {},
     "output_type": "execute_result"
    }
   ],
   "source": [
    "toc.branches"
   ]
  },
  {
   "cell_type": "markdown",
   "metadata": {},
   "source": [
    "Not clear to me how to extract equations from the parse tree"
   ]
  },
  {
   "cell_type": "markdown",
   "metadata": {},
   "source": [
    "## TexSoup\n",
    "\n",
    "https://github.com/alvinwan/TexSoup\n",
    "\n",
    "https://texsoup.alvinwan.com/docs/navigation.html"
   ]
  },
  {
   "cell_type": "code",
   "execution_count": 22,
   "metadata": {},
   "outputs": [],
   "source": [
    "from TexSoup import TexSoup"
   ]
  },
  {
   "cell_type": "markdown",
   "metadata": {},
   "source": [
    "### single file"
   ]
  },
  {
   "cell_type": "code",
   "execution_count": 23,
   "metadata": {},
   "outputs": [
    {
     "name": "stdout",
     "output_type": "stream",
     "text": [
      "hep-th/2003/0301004\n"
     ]
    }
   ],
   "source": [
    "file_to_open = list_of_files[3]\n",
    "print(file_to_open)"
   ]
  },
  {
   "cell_type": "markdown",
   "metadata": {},
   "source": [
    "https://arxiv.org/abs/hep-th/0301004"
   ]
  },
  {
   "cell_type": "code",
   "execution_count": 24,
   "metadata": {},
   "outputs": [],
   "source": [
    "with open(file_to_open) as f: data = f.read()"
   ]
  },
  {
   "cell_type": "code",
   "execution_count": 25,
   "metadata": {},
   "outputs": [],
   "source": [
    "soup = TexSoup(data)"
   ]
  },
  {
   "cell_type": "raw",
   "metadata": {
    "jupyter": {
     "outputs_hidden": true
    },
    "tags": []
   },
   "source": [
    "for entry in soup.children:\n",
    "    print(\"==and==\")\n",
    "    print(entry)"
   ]
  },
  {
   "cell_type": "raw",
   "metadata": {
    "jupyter": {
     "outputs_hidden": true
    },
    "tags": []
   },
   "source": [
    "for entry in soup.document.children:\n",
    "    print(\"==and==\")\n",
    "    print(entry)"
   ]
  },
  {
   "cell_type": "raw",
   "metadata": {
    "jupyter": {
     "outputs_hidden": true
    },
    "tags": []
   },
   "source": [
    "for entry in soup.find_all(\"$\"):\n",
    "    print(\"== inside $ $ ==\")\n",
    "    for this in entry.contents:\n",
    "        print(this)"
   ]
  },
  {
   "cell_type": "code",
   "execution_count": 26,
   "metadata": {
    "tags": []
   },
   "outputs": [],
   "source": [
    "list_of_math_entries = []\n",
    "for entry in soup.find_all(\"$\"):\n",
    "    for this in entry.contents:\n",
    "        #print(this)\n",
    "        list_of_math_entries.append(this)"
   ]
  },
  {
   "cell_type": "raw",
   "metadata": {},
   "source": [
    "list(list_of_math_entries)"
   ]
  },
  {
   "cell_type": "code",
   "execution_count": 27,
   "metadata": {},
   "outputs": [
    {
     "data": {
      "text/plain": [
       "\\begin{equation}\n",
       " \\rho_N^D = \\left(\\prod_{i=1}^N\\int d\\Omega_{p_i}\\right)(2\\pi)^D\\delta^D\n",
       " (p-\\sum_{i=1}^N p_i)\n",
       "\\end{equation}"
      ]
     },
     "execution_count": 27,
     "metadata": {},
     "output_type": "execute_result"
    }
   ],
   "source": [
    "soup.equation"
   ]
  },
  {
   "cell_type": "code",
   "execution_count": 28,
   "metadata": {},
   "outputs": [],
   "source": [
    "lst = list(soup.find_all('equation'))"
   ]
  },
  {
   "cell_type": "code",
   "execution_count": 29,
   "metadata": {},
   "outputs": [
    {
     "data": {
      "text/plain": [
       "22"
      ]
     },
     "execution_count": 29,
     "metadata": {},
     "output_type": "execute_result"
    }
   ],
   "source": [
    "len(lst) # how many equations are in the document?"
   ]
  },
  {
   "cell_type": "code",
   "execution_count": 30,
   "metadata": {},
   "outputs": [
    {
     "data": {
      "text/plain": [
       "\\begin{equation}\n",
       " \\rho_N^D = \\left(\\prod_{i=1}^N\\int d\\Omega_{p_i}\\right)(2\\pi)^D\\delta^D\n",
       " (p-\\sum_{i=1}^N p_i)\n",
       "\\end{equation}"
      ]
     },
     "execution_count": 30,
     "metadata": {},
     "output_type": "execute_result"
    }
   ],
   "source": [
    "lst[0] # show the first match"
   ]
  },
  {
   "cell_type": "code",
   "execution_count": 31,
   "metadata": {},
   "outputs": [
    {
     "data": {
      "text/plain": [
       "'\\n \\\\rho_N^D = \\\\left(\\\\prod_{i=1}^N\\\\int d\\\\Omega_{p_i}\\\\right)(2\\\\pi)^D\\\\delta^D\\n (p-\\\\sum_{i=1}^N p_i)\\n'"
      ]
     },
     "execution_count": 31,
     "metadata": {},
     "output_type": "execute_result"
    }
   ],
   "source": [
    "lst[0][0] # what is the string inside the \"begin{equation}\"?"
   ]
  },
  {
   "cell_type": "code",
   "execution_count": 32,
   "metadata": {},
   "outputs": [
    {
     "data": {
      "text/plain": [
       "\\begin{equation}\n",
       " \\Phi({\\bf{x}},y)=\\sum_{k=-\\infty}^\\infty \\phi_k({\\bf{x}})\n",
       " \\exp(iky/R)/\\sqrt{2\\pi R}; \\quad \\phi_k^*({\\bf{x}}) = \\phi_{-k}({\\bf{x}}).\n",
       "\\end{equation}"
      ]
     },
     "execution_count": 32,
     "metadata": {},
     "output_type": "execute_result"
    }
   ],
   "source": [
    "lst[1]"
   ]
  },
  {
   "cell_type": "code",
   "execution_count": 33,
   "metadata": {},
   "outputs": [
    {
     "data": {
      "text/plain": [
       "'\\n \\\\Phi({\\\\bf{x}},y)=\\\\sum_{k=-\\\\infty}^\\\\infty \\\\phi_k({\\\\bf{x}})\\n \\\\exp(iky/R)/\\\\sqrt{2\\\\pi R}; \\\\quad \\\\phi_k^*({\\\\bf{x}}) = \\\\phi_{-k}({\\\\bf{x}}).\\n'"
      ]
     },
     "execution_count": 33,
     "metadata": {},
     "output_type": "execute_result"
    }
   ],
   "source": [
    "lst[1][0]"
   ]
  },
  {
   "cell_type": "raw",
   "metadata": {},
   "source": [
    "for this_eq in soup.find_all('equation'):\n",
    "    print(this_eq[0])"
   ]
  },
  {
   "cell_type": "markdown",
   "metadata": {},
   "source": [
    "### loop over files"
   ]
  },
  {
   "cell_type": "code",
   "execution_count": 37,
   "metadata": {},
   "outputs": [
    {
     "data": {
      "text/plain": [
       "1019"
      ]
     },
     "execution_count": 37,
     "metadata": {},
     "output_type": "execute_result"
    }
   ],
   "source": [
    "len(list_of_files)"
   ]
  },
  {
   "cell_type": "markdown",
   "metadata": {},
   "source": [
    "7531 seconds (aka 2 hours) to process 1019 latex files (from hep-th/2003)"
   ]
  },
  {
   "cell_type": "code",
   "execution_count": null,
   "metadata": {
    "tags": []
   },
   "outputs": [],
   "source": [
    "start_time = time.time()\n",
    "\n",
    "list_of_dicts = []\n",
    "\n",
    "error_counts = {\"decode errors\": [],\n",
    "                \"Type Error\": [],\n",
    "                \"EOF Error\": []}\n",
    "\n",
    "for file_to_open in list_of_files:\n",
    "    \n",
    "    try:\n",
    "        with open(file_to_open,'r') as file_handle: \n",
    "            data = file_handle.read()\n",
    "    except UnicodeDecodeError:\n",
    "        print(\"\\nunable to decode using utf-8:\", file_to_open)\n",
    "        # https://stackoverflow.com/questions/19699367/for-line-in-results-in-unicodedecodeerror-utf-8-codec-cant-decode-byte\n",
    "        error_counts[\"decode errors\"].append(file_to_open)\n",
    "        continue # skip remaining code and go to next iteration of loop\n",
    "        \n",
    "    try:\n",
    "        soup = TexSoup(data)\n",
    "    except TypeError as err:\n",
    "        print(\"\\nTypeError non-renderable file:\",file_to_open)\n",
    "        error_counts[\"Type Error\"].append(file_to_open)\n",
    "        print(str(err)[0:300]) # sometimes the error message can include the entire document, so here I limit the output to the first 200 characters\n",
    "        continue # skip remaining code and go to next iteration of loop\n",
    "    except EOFError as err:\n",
    "        print(\"\\nEOFError non-renderable file:\",file_to_open)\n",
    "        error_counts[\"EOF Error\"].append(file_to_open)\n",
    "        print(str(err)[0:300]) # sometimes the error message can include the entire document, so here I limit the output to the first 200 characters\n",
    "        continue # skip remaining code and go to next iteration of loop\n",
    "    \n",
    "    this_article = {\"file name\": file_to_open}\n",
    "    \n",
    "    list_of_math_entries = []\n",
    "    for entry in soup.find_all(\"$\"):\n",
    "        for this in entry.contents:\n",
    "            #print(this)\n",
    "            list_of_math_entries.append(this)\n",
    "    this_article[\"list of math entries\"] = list_of_math_entries\n",
    "\n",
    "    list_of_equations = []\n",
    "    for entry in soup.find_all('equation'):\n",
    "        for this in entry:\n",
    "            list_of_equations.append(this)\n",
    "            \n",
    "    this_article[\"list of equations\"] = list_of_equations\n",
    "    \n",
    "    list_of_dicts.append(this_article)\n",
    "            \n",
    "print(round(time.time()-start_time,2),'seconds')"
   ]
  },
  {
   "cell_type": "code",
   "execution_count": 40,
   "metadata": {},
   "outputs": [
    {
     "data": {
      "text/plain": [
       "745"
      ]
     },
     "execution_count": 40,
     "metadata": {},
     "output_type": "execute_result"
    }
   ],
   "source": [
    "len(list_of_dicts)"
   ]
  },
  {
   "cell_type": "code",
   "execution_count": null,
   "metadata": {},
   "outputs": [],
   "source": [
    "list_of_dicts[0]"
   ]
  },
  {
   "cell_type": "code",
   "execution_count": 41,
   "metadata": {},
   "outputs": [
    {
     "data": {
      "text/plain": [
       "0.7311089303238469"
      ]
     },
     "execution_count": 41,
     "metadata": {},
     "output_type": "execute_result"
    }
   ],
   "source": [
    "len(list_of_dicts)/len(list_of_files)"
   ]
  },
  {
   "cell_type": "markdown",
   "metadata": {},
   "source": [
    "Not clear why I can't pickle a list of dicts"
   ]
  },
  {
   "cell_type": "code",
   "execution_count": 57,
   "metadata": {},
   "outputs": [
    {
     "ename": "TypeError",
     "evalue": "'NoneType' object is not callable",
     "output_type": "error",
     "traceback": [
      "\u001b[0;31m---------------------------------------------------------------------------\u001b[0m",
      "\u001b[0;31mTypeError\u001b[0m                                 Traceback (most recent call last)",
      "\u001b[0;32m/tmp/ipykernel_332/1142041561.py\u001b[0m in \u001b[0;36m<module>\u001b[0;34m\u001b[0m\n\u001b[1;32m      2\u001b[0m \u001b[0;34m\u001b[0m\u001b[0m\n\u001b[1;32m      3\u001b[0m \u001b[0;32mwith\u001b[0m \u001b[0mopen\u001b[0m\u001b[0;34m(\u001b[0m \u001b[0;34m\"all_math_and_equations.pkl\"\u001b[0m\u001b[0;34m,\u001b[0m \u001b[0;34m\"wb\"\u001b[0m \u001b[0;34m)\u001b[0m \u001b[0;32mas\u001b[0m \u001b[0mfile_handle\u001b[0m\u001b[0;34m:\u001b[0m\u001b[0;34m\u001b[0m\u001b[0;34m\u001b[0m\u001b[0m\n\u001b[0;32m----> 4\u001b[0;31m     \u001b[0mpickle\u001b[0m\u001b[0;34m.\u001b[0m\u001b[0mdump\u001b[0m\u001b[0;34m(\u001b[0m\u001b[0mlist_of_dicts\u001b[0m\u001b[0;34m,\u001b[0m \u001b[0mfile_handle\u001b[0m\u001b[0;34m)\u001b[0m\u001b[0;34m\u001b[0m\u001b[0;34m\u001b[0m\u001b[0m\n\u001b[0m\u001b[1;32m      5\u001b[0m     \u001b[0;31m#pickle.dump([{\"a\":2}, {\"b\":3}], file_handle)\u001b[0m\u001b[0;34m\u001b[0m\u001b[0;34m\u001b[0m\u001b[0;34m\u001b[0m\u001b[0m\n",
      "\u001b[0;31mTypeError\u001b[0m: 'NoneType' object is not callable"
     ]
    }
   ],
   "source": [
    "# https://wiki.python.org/moin/UsingPickle\n",
    "\n",
    "with open( \"all_math_and_equations.pkl\", \"wb\" ) as file_handle:\n",
    "    pickle.dump(list_of_dicts, file_handle)\n",
    "    #pickle.dump([{\"a\":2}, {\"b\":3}], file_handle)"
   ]
  },
  {
   "cell_type": "raw",
   "metadata": {},
   "source": [
    "list_of_dicts = pickle.load( open( \"all_math_and_equations.pkl\", \"rb\" ) )"
   ]
  },
  {
   "cell_type": "code",
   "execution_count": 60,
   "metadata": {
    "tags": []
   },
   "outputs": [
    {
     "name": "stdout",
     "output_type": "stream",
     "text": [
      "hep-th/2003/0301002 0 386\n",
      "hep-th/2003/0301004 49 188\n",
      "hep-th/2003/0301005 38 349\n",
      "hep-th/2003/0301009 0 224\n",
      "hep-th/2003/0301010 0 111\n",
      "hep-th/2003/0301011 0 0\n",
      "hep-th/2003/0301012 31 153\n",
      "hep-th/2003/0301013 0 193\n",
      "hep-th/2003/0301014 0 134\n",
      "hep-th/2003/0301015 15 335\n",
      "hep-th/2003/0301016 0 138\n",
      "hep-th/2003/0301017 29 392\n",
      "hep-th/2003/0301019 0 257\n",
      "hep-th/2003/0301022 0 108\n",
      "hep-th/2003/0301023 0 210\n",
      "hep-th/2003/0301024 0 186\n",
      "hep-th/2003/0301025 0 82\n",
      "hep-th/2003/0301026 193 789\n",
      "hep-th/2003/0301028 0 163\n",
      "hep-th/2003/0301029 0 72\n",
      "hep-th/2003/0301030 35 90\n",
      "hep-th/2003/0301031 0 227\n",
      "hep-th/2003/0301032 0 321\n",
      "hep-th/2003/0301033 0 0\n",
      "hep-th/2003/0301034 0 91\n",
      "hep-th/2003/0301035 8 214\n",
      "hep-th/2003/0301037 0 102\n",
      "hep-th/2003/0301038 0 269\n",
      "hep-th/2003/0301039 0 115\n",
      "hep-th/2003/0301040 8 1033\n",
      "hep-th/2003/0301041 33 55\n",
      "hep-th/2003/0301042 0 472\n",
      "hep-th/2003/0301043 167 260\n",
      "hep-th/2003/0301045 0 126\n",
      "hep-th/2003/0301046 5 496\n",
      "hep-th/2003/0301047 12 301\n",
      "hep-th/2003/0301051 7 108\n",
      "hep-th/2003/0301052 46 74\n",
      "hep-th/2003/0301053 69 101\n",
      "hep-th/2003/0301055 52 446\n",
      "hep-th/2003/0301056 216 228\n",
      "hep-th/2003/0301058 32 662\n",
      "hep-th/2003/0301060 42 384\n",
      "hep-th/2003/0301062 0 520\n",
      "hep-th/2003/0301064 0 409\n",
      "hep-th/2003/0301065 0 0\n",
      "hep-th/2003/0301066 0 376\n",
      "hep-th/2003/0301070 0 267\n",
      "hep-th/2003/0301071 0 193\n",
      "hep-th/2003/0301072 12 81\n",
      "hep-th/2003/0301073 16 200\n",
      "hep-th/2003/0301075 0 226\n",
      "hep-th/2003/0301076 32 249\n",
      "hep-th/2003/0301079 0 214\n",
      "hep-th/2003/0301081 0 93\n",
      "hep-th/2003/0301082 2 64\n",
      "hep-th/2003/0301084 71 98\n",
      "hep-th/2003/0301085 40 165\n",
      "hep-th/2003/0301086 23 202\n",
      "hep-th/2003/0301087 36 104\n",
      "hep-th/2003/0301088 14 149\n",
      "hep-th/2003/0301089 0 155\n",
      "hep-th/2003/0301093 13 68\n",
      "hep-th/2003/0301094 113 475\n",
      "hep-th/2003/0301096 29 198\n",
      "hep-th/2003/0301097 105 548\n",
      "hep-th/2003/0301099 14 352\n",
      "hep-th/2003/0301100 18 377\n",
      "hep-th/2003/0301101 0 105\n",
      "hep-th/2003/0301102 82 292\n",
      "hep-th/2003/0301103 0 172\n",
      "hep-th/2003/0301105 0 331\n",
      "hep-th/2003/0301106 66 267\n",
      "hep-th/2003/0301108 99 580\n",
      "hep-th/2003/0301109 0 0\n",
      "hep-th/2003/0301110 0 398\n",
      "hep-th/2003/0301111 0 588\n",
      "hep-th/2003/0301112 0 110\n",
      "hep-th/2003/0301113 0 89\n",
      "hep-th/2003/0301114 21 91\n",
      "hep-th/2003/0301115 39 573\n",
      "hep-th/2003/0301116 0 162\n",
      "hep-th/2003/0301117 0 380\n",
      "hep-th/2003/0301119 108 560\n",
      "hep-th/2003/0301120 0 331\n",
      "hep-th/2003/0301121 121 476\n",
      "hep-th/2003/0301123 0 129\n",
      "hep-th/2003/0301124 28 74\n",
      "hep-th/2003/0301127 0 391\n",
      "hep-th/2003/0301129 67 326\n",
      "hep-th/2003/0301130 35 124\n",
      "hep-th/2003/0301131 48 194\n",
      "hep-th/2003/0301132 32 53\n",
      "hep-th/2003/0301133 38 288\n",
      "hep-th/2003/0301135 0 96\n",
      "hep-th/2003/0301136 0 248\n",
      "hep-th/2003/0301137 55 183\n",
      "hep-th/2003/0301138 0 191\n",
      "hep-th/2003/0301139 0 929\n",
      "hep-th/2003/0301140 0 0\n",
      "hep-th/2003/0301141 44 204\n",
      "hep-th/2003/0301142 79 402\n",
      "hep-th/2003/0301144 17 252\n",
      "hep-th/2003/0301146 35 248\n",
      "hep-th/2003/0301147 70 530\n",
      "hep-th/2003/0301149 0 75\n",
      "hep-th/2003/0301151 9 65\n",
      "hep-th/2003/0301153 13 131\n",
      "hep-th/2003/0301154 19 99\n",
      "hep-th/2003/0301155 45 393\n",
      "hep-th/2003/0301156 29 192\n",
      "hep-th/2003/0301157 1 208\n",
      "hep-th/2003/0301158 48 627\n",
      "hep-th/2003/0301159 17 245\n",
      "hep-th/2003/0301160 21 431\n",
      "hep-th/2003/0301162 0 342\n",
      "hep-th/2003/0301163 4 389\n",
      "hep-th/2003/0301164 35 1364\n",
      "hep-th/2003/0301165 52 176\n",
      "hep-th/2003/0301166 0 299\n",
      "hep-th/2003/0301170 0 522\n",
      "hep-th/2003/0301171 52 308\n",
      "hep-th/2003/0301172 105 292\n",
      "hep-th/2003/0301173 56 367\n",
      "hep-th/2003/0301175 0 199\n",
      "hep-th/2003/0301176 139 293\n",
      "hep-th/2003/0301177 4 269\n",
      "hep-th/2003/0301179 29 128\n",
      "hep-th/2003/0301181 1 224\n",
      "hep-th/2003/0301182 27 82\n",
      "hep-th/2003/0301183 26 143\n",
      "hep-th/2003/0301184 54 171\n",
      "hep-th/2003/0301185 0 82\n",
      "hep-th/2003/0301186 11 300\n",
      "hep-th/2003/0301187 76 640\n",
      "hep-th/2003/0301188 6 292\n",
      "hep-th/2003/0301189 2 208\n",
      "hep-th/2003/0301190 25 89\n",
      "hep-th/2003/0301191 0 129\n",
      "hep-th/2003/0301192 9 127\n",
      "hep-th/2003/0301195 70 98\n",
      "hep-th/2003/0301197 65 167\n",
      "hep-th/2003/0301199 15 27\n",
      "hep-th/2003/0301202 41 82\n",
      "hep-th/2003/0301203 0 0\n",
      "hep-th/2003/0301204 0 675\n",
      "hep-th/2003/0301205 151 703\n",
      "hep-th/2003/0301206 142 456\n",
      "hep-th/2003/0301207 113 173\n",
      "hep-th/2003/0301208 22 66\n",
      "hep-th/2003/0301210 38 33\n",
      "hep-th/2003/0301211 0 463\n",
      "hep-th/2003/0301212 0 0\n",
      "hep-th/2003/0301213 0 107\n",
      "hep-th/2003/0301214 21 90\n",
      "hep-th/2003/0301216 16 175\n",
      "hep-th/2003/0301217 0 416\n",
      "hep-th/2003/0301219 14 42\n",
      "hep-th/2003/0301221 0 143\n",
      "hep-th/2003/0301223 0 106\n",
      "hep-th/2003/0301225 0 66\n",
      "hep-th/2003/0301227 0 0\n",
      "hep-th/2003/0301228 33 110\n",
      "hep-th/2003/0301229 0 0\n",
      "hep-th/2003/0301230 16 303\n",
      "hep-th/2003/0301231 33 299\n",
      "hep-th/2003/0301232 0 472\n",
      "hep-th/2003/0301233 42 314\n",
      "hep-th/2003/0301235 0 637\n",
      "hep-th/2003/0301239 0 222\n",
      "hep-th/2003/0301240 21 329\n",
      "hep-th/2003/0301242 0 372\n",
      "hep-th/2003/0301244 67 495\n",
      "hep-th/2003/0301245 13 115\n",
      "hep-th/2003/0301248 20 102\n",
      "hep-th/2003/0301249 24 81\n",
      "hep-th/2003/0301250 0 562\n",
      "hep-th/2003/0301251 69 167\n",
      "hep-th/2003/0301252 80 340\n",
      "hep-th/2003/0301253 36 172\n",
      "hep-th/2003/0301254 15 109\n",
      "hep-th/2003/0301255 0 127\n",
      "hep-th/2003/0301256 7 105\n",
      "hep-th/2003/0302003 0 147\n",
      "hep-th/2003/0302004 0 243\n",
      "hep-th/2003/0302006 0 714\n",
      "hep-th/2003/0302007 28 110\n",
      "hep-th/2003/0302008 55 199\n",
      "hep-th/2003/0302009 0 99\n",
      "hep-th/2003/0302010 33 139\n",
      "hep-th/2003/0302012 14 48\n",
      "hep-th/2003/0302013 30 196\n",
      "hep-th/2003/0302015 0 46\n",
      "hep-th/2003/0302017 50 739\n",
      "hep-th/2003/0302018 0 148\n",
      "hep-th/2003/0302019 0 306\n",
      "hep-th/2003/0302022 104 541\n",
      "hep-th/2003/0302023 45 295\n",
      "hep-th/2003/0302024 0 199\n",
      "hep-th/2003/0302025 50 174\n",
      "hep-th/2003/0302026 60 494\n",
      "hep-th/2003/0302027 0 258\n",
      "hep-th/2003/0302028 84 333\n",
      "hep-th/2003/0302029 0 165\n",
      "hep-th/2003/0302031 12 122\n",
      "hep-th/2003/0302032 0 0\n",
      "hep-th/2003/0302033 39 314\n",
      "hep-th/2003/0302035 42 146\n",
      "hep-th/2003/0302036 72 182\n",
      "hep-th/2003/0302037 118 222\n",
      "hep-th/2003/0302038 27 72\n",
      "hep-th/2003/0302039 3 218\n",
      "hep-th/2003/0302040 0 0\n",
      "hep-th/2003/0302041 28 129\n",
      "hep-th/2003/0302044 110 489\n",
      "hep-th/2003/0302045 13 291\n",
      "hep-th/2003/0302046 48 656\n",
      "hep-th/2003/0302048 0 165\n",
      "hep-th/2003/0302050 40 237\n",
      "hep-th/2003/0302051 37 129\n",
      "hep-th/2003/0302053 54 304\n",
      "hep-th/2003/0302054 0 278\n",
      "hep-th/2003/0302055 27 116\n",
      "hep-th/2003/0302056 0 201\n",
      "hep-th/2003/0302057 17 325\n",
      "hep-th/2003/0302058 0 79\n",
      "hep-th/2003/0302060 0 288\n",
      "hep-th/2003/0302061 0 63\n",
      "hep-th/2003/0302062 39 147\n",
      "hep-th/2003/0302063 0 245\n",
      "hep-th/2003/0302065 0 46\n",
      "hep-th/2003/0302066 5 49\n",
      "hep-th/2003/0302069 0 0\n",
      "hep-th/2003/0302072 0 403\n",
      "hep-th/2003/0302073 19 388\n",
      "hep-th/2003/0302075 0 0\n",
      "hep-th/2003/0302077 2 269\n",
      "hep-th/2003/0302079 167 584\n",
      "hep-th/2003/0302081 0 0\n",
      "hep-th/2003/0302082 0 55\n",
      "hep-th/2003/0302086 0 277\n",
      "hep-th/2003/0302088 146 387\n",
      "hep-th/2003/0302089 0 690\n",
      "hep-th/2003/0302090 0 191\n",
      "hep-th/2003/0302091 0 218\n",
      "hep-th/2003/0302092 53 331\n",
      "hep-th/2003/0302094 0 0\n",
      "hep-th/2003/0302095 8 54\n",
      "hep-th/2003/0302097 4 209\n",
      "hep-th/2003/0302098 20 52\n",
      "hep-th/2003/0302099 4 505\n",
      "hep-th/2003/0302100 63 268\n",
      "hep-th/2003/0302101 439 1387\n",
      "hep-th/2003/0302103 3 7\n",
      "hep-th/2003/0302104 33 150\n",
      "hep-th/2003/0302105 0 995\n",
      "hep-th/2003/0302107 102 186\n",
      "hep-th/2003/0302109 0 575\n",
      "hep-th/2003/0302110 57 135\n",
      "hep-th/2003/0302114 0 285\n",
      "hep-th/2003/0302115 0 0\n",
      "hep-th/2003/0302117 87 530\n",
      "hep-th/2003/0302118 0 314\n",
      "hep-th/2003/0302119 0 134\n",
      "hep-th/2003/0302121 14 240\n",
      "hep-th/2003/0302122 0 193\n",
      "hep-th/2003/0302123 24 164\n",
      "hep-th/2003/0302126 0 136\n",
      "hep-th/2003/0302127 48 445\n",
      "hep-th/2003/0302128 19 208\n",
      "hep-th/2003/0302129 0 81\n",
      "hep-th/2003/0302133 26 105\n",
      "hep-th/2003/0302135 0 296\n",
      "hep-th/2003/0302137 27 703\n",
      "hep-th/2003/0302138 0 224\n",
      "hep-th/2003/0302139 652 614\n",
      "hep-th/2003/0302141 0 0\n",
      "hep-th/2003/0302142 55 114\n",
      "hep-th/2003/0302143 54 225\n",
      "hep-th/2003/0302144 67 513\n",
      "hep-th/2003/0302145 29 115\n",
      "hep-th/2003/0302146 0 588\n",
      "hep-th/2003/0302147 32 709\n",
      "hep-th/2003/0302148 0 141\n",
      "hep-th/2003/0302149 0 64\n",
      "hep-th/2003/0302150 0 0\n",
      "hep-th/2003/0302151 64 457\n",
      "hep-th/2003/0302152 17 357\n",
      "hep-th/2003/0302155 72 158\n",
      "hep-th/2003/0302156 0 101\n",
      "hep-th/2003/0302157 26 84\n",
      "hep-th/2003/0302160 0 0\n",
      "hep-th/2003/0302163 0 169\n",
      "hep-th/2003/0302165 0 158\n",
      "hep-th/2003/0302168 54 214\n",
      "hep-th/2003/0302169 139 128\n",
      "hep-th/2003/0302170 13 123\n",
      "hep-th/2003/0302171 0 203\n",
      "hep-th/2003/0302172 0 185\n",
      "hep-th/2003/0302174 22 423\n",
      "hep-th/2003/0302175 4 67\n",
      "hep-th/2003/0302176 0 277\n",
      "hep-th/2003/0302177 84 463\n",
      "hep-th/2003/0302178 31 111\n",
      "hep-th/2003/0302179 0 118\n",
      "hep-th/2003/0302181 0 701\n",
      "hep-th/2003/0302182 0 415\n",
      "hep-th/2003/0302183 0 90\n",
      "hep-th/2003/0302184 41 135\n",
      "hep-th/2003/0302185 0 326\n",
      "hep-th/2003/0302186 0 0\n",
      "hep-th/2003/0302188 0 0\n",
      "hep-th/2003/0302189 0 143\n",
      "hep-th/2003/0302190 0 476\n",
      "hep-th/2003/0302191 0 586\n",
      "hep-th/2003/0302192 33 675\n",
      "hep-th/2003/0302193 57 468\n",
      "hep-th/2003/0302194 0 553\n",
      "hep-th/2003/0302195 0 413\n",
      "hep-th/2003/0302196 0 290\n",
      "hep-th/2003/0302197 45 86\n",
      "hep-th/2003/0302198 59 253\n",
      "hep-th/2003/0302201 86 1021\n",
      "hep-th/2003/0302203 0 100\n",
      "hep-th/2003/0302204 45 181\n",
      "hep-th/2003/0302206 0 218\n",
      "hep-th/2003/0302207 82 394\n",
      "hep-th/2003/0302208 0 62\n",
      "hep-th/2003/0302209 27 87\n",
      "hep-th/2003/0302210 0 321\n",
      "hep-th/2003/0302211 9 160\n",
      "hep-th/2003/0302212 26 241\n",
      "hep-th/2003/0302214 18 324\n",
      "hep-th/2003/0302215 2 51\n",
      "hep-th/2003/0302216 46 320\n",
      "hep-th/2003/0302218 89 296\n",
      "hep-th/2003/0302219 0 66\n",
      "hep-th/2003/0302220 0 0\n",
      "hep-th/2003/0302222 0 0\n",
      "hep-th/2003/0302223 0 0\n",
      "hep-th/2003/0302224 0 139\n",
      "hep-th/2003/0302225 0 0\n",
      "hep-th/2003/0302227 3 214\n",
      "hep-th/2003/0302229 0 0\n",
      "hep-th/2003/0302230 19 75\n",
      "hep-th/2003/0303002 0 114\n",
      "hep-th/2003/0303003 15 56\n",
      "hep-th/2003/0303004 0 111\n",
      "hep-th/2003/0303005 62 524\n",
      "hep-th/2003/0303006 2 930\n",
      "hep-th/2003/0303011 0 353\n",
      "hep-th/2003/0303012 15 118\n",
      "hep-th/2003/0303013 0 308\n",
      "hep-th/2003/0303016 0 344\n",
      "hep-th/2003/0303017 0 25\n",
      "hep-th/2003/0303018 0 95\n",
      "hep-th/2003/0303019 0 0\n",
      "hep-th/2003/0303020 1 2138\n",
      "hep-th/2003/0303021 53 142\n",
      "hep-th/2003/0303022 14 49\n",
      "hep-th/2003/0303023 0 668\n",
      "hep-th/2003/0303024 0 728\n",
      "hep-th/2003/0303025 16 64\n",
      "hep-th/2003/0303026 19 64\n",
      "hep-th/2003/0303027 0 145\n",
      "hep-th/2003/0303028 19 136\n",
      "hep-th/2003/0303030 31 242\n",
      "hep-th/2003/0303031 0 59\n",
      "hep-th/2003/0303032 84 969\n",
      "hep-th/2003/0303035 35 468\n",
      "hep-th/2003/0303036 85 755\n",
      "hep-th/2003/0303037 0 959\n",
      "hep-th/2003/0303038 0 143\n",
      "hep-th/2003/0303039 22 186\n",
      "hep-th/2003/0303040 0 0\n",
      "hep-th/2003/0303041 0 14\n",
      "hep-th/2003/0303042 165 405\n",
      "hep-th/2003/0303044 10 585\n",
      "hep-th/2003/0303045 0 462\n",
      "hep-th/2003/0303046 2 176\n",
      "hep-th/2003/0303048 173 292\n",
      "hep-th/2003/0303051 59 536\n",
      "hep-th/2003/0303052 0 54\n",
      "hep-th/2003/0303053 3 721\n",
      "hep-th/2003/0303054 0 267\n",
      "hep-th/2003/0303055 0 343\n",
      "hep-th/2003/0303056 0 248\n",
      "hep-th/2003/0303057 0 669\n",
      "hep-th/2003/0303058 0 164\n",
      "hep-th/2003/0303059 0 200\n",
      "hep-th/2003/0303061 0 13\n",
      "hep-th/2003/0303063 0 187\n",
      "hep-th/2003/0303064 7 61\n",
      "hep-th/2003/0303066 0 228\n",
      "hep-th/2003/0303067 45 158\n",
      "hep-th/2003/0303068 0 235\n",
      "hep-th/2003/0303069 25 905\n",
      "hep-th/2003/0303070 0 238\n",
      "hep-th/2003/0303071 0 200\n",
      "hep-th/2003/0303072 37 373\n",
      "hep-th/2003/0303073 66 264\n",
      "hep-th/2003/0303074 1 296\n",
      "hep-th/2003/0303075 16 225\n",
      "hep-th/2003/0303078 24 174\n",
      "hep-th/2003/0303079 26 112\n",
      "hep-th/2003/0303081 55 280\n",
      "hep-th/2003/0303082 1 142\n",
      "hep-th/2003/0303084 0 115\n",
      "hep-th/2003/0303085 0 49\n",
      "hep-th/2003/0303087 0 0\n",
      "hep-th/2003/0303088 47 221\n",
      "hep-th/2003/0303090 60 49\n",
      "hep-th/2003/0303091 13 247\n",
      "hep-th/2003/0303092 0 0\n",
      "hep-th/2003/0303093 0 0\n",
      "hep-th/2003/0303094 0 124\n",
      "hep-th/2003/0303095 140 338\n",
      "hep-th/2003/0303096 0 228\n",
      "hep-th/2003/0303097 17 68\n",
      "hep-th/2003/0303099 39 100\n",
      "hep-th/2003/0303100 10 129\n",
      "hep-th/2003/0303101 0 471\n",
      "hep-th/2003/0303103 44 316\n",
      "hep-th/2003/0303105 0 94\n",
      "hep-th/2003/0303109 0 176\n",
      "hep-th/2003/0303110 38 156\n",
      "hep-th/2003/0303111 0 398\n",
      "hep-th/2003/0303112 23 85\n",
      "hep-th/2003/0303113 31 504\n",
      "hep-th/2003/0303114 135 378\n",
      "hep-th/2003/0303115 35 331\n",
      "hep-th/2003/0303117 0 84\n",
      "hep-th/2003/0303118 12 52\n",
      "hep-th/2003/0303119 0 257\n",
      "hep-th/2003/0303120 2 311\n",
      "hep-th/2003/0303121 2 574\n",
      "hep-th/2003/0303123 92 124\n",
      "hep-th/2003/0303124 62 87\n",
      "hep-th/2003/0303125 0 91\n",
      "hep-th/2003/0303126 0 746\n",
      "hep-th/2003/0303127 14 363\n",
      "hep-th/2003/0303128 137 122\n",
      "hep-th/2003/0303129 10 39\n",
      "hep-th/2003/0303130 30 88\n",
      "hep-th/2003/0303131 28 267\n",
      "hep-th/2003/0303134 20 91\n",
      "hep-th/2003/0303136 21 151\n",
      "hep-th/2003/0303137 35 223\n",
      "hep-th/2003/0303138 0 1088\n",
      "hep-th/2003/0303139 0 381\n",
      "hep-th/2003/0303140 15 390\n",
      "hep-th/2003/0303141 0 179\n",
      "hep-th/2003/0303142 7 35\n",
      "hep-th/2003/0303143 40 77\n",
      "hep-th/2003/0303144 0 140\n",
      "hep-th/2003/0303146 22 630\n",
      "hep-th/2003/0303147 26 122\n",
      "hep-th/2003/0303148 0 228\n",
      "hep-th/2003/0303149 120 422\n",
      "hep-th/2003/0303151 0 253\n",
      "hep-th/2003/0303152 8 69\n",
      "hep-th/2003/0303153 69 329\n",
      "hep-th/2003/0303156 2 159\n",
      "hep-th/2003/0303157 36 136\n",
      "hep-th/2003/0303159 62 455\n",
      "hep-th/2003/0303162 0 0\n",
      "hep-th/2003/0303165 12 235\n",
      "hep-th/2003/0303166 14 100\n",
      "hep-th/2003/0303167 117 208\n",
      "hep-th/2003/0303168 2 88\n",
      "hep-th/2003/0303170 27 588\n",
      "hep-th/2003/0303172 60 590\n",
      "hep-th/2003/0303173 0 601\n",
      "hep-th/2003/0303174 7 355\n",
      "hep-th/2003/0303175 19 122\n",
      "hep-th/2003/0303176 0 415\n",
      "hep-th/2003/0303177 0 710\n",
      "hep-th/2003/0303178 1 70\n",
      "hep-th/2003/0303179 0 609\n",
      "hep-th/2003/0303180 0 168\n",
      "hep-th/2003/0303181 2 542\n",
      "hep-th/2003/0303182 0 96\n",
      "hep-th/2003/0303183 43 267\n",
      "hep-th/2003/0303184 20 116\n",
      "hep-th/2003/0303186 1 191\n",
      "hep-th/2003/0303188 0 0\n",
      "hep-th/2003/0303190 0 223\n",
      "hep-th/2003/0303193 0 943\n",
      "hep-th/2003/0303195 0 81\n",
      "hep-th/2003/0303196 0 13\n",
      "hep-th/2003/0303199 39 235\n",
      "hep-th/2003/0303200 0 100\n",
      "hep-th/2003/0303201 2 201\n",
      "hep-th/2003/0303204 0 227\n",
      "hep-th/2003/0303206 0 70\n",
      "hep-th/2003/0303208 13 337\n",
      "hep-th/2003/0303211 0 238\n",
      "hep-th/2003/0303214 86 328\n",
      "hep-th/2003/0303215 103 283\n",
      "hep-th/2003/0303216 81 386\n",
      "hep-th/2003/0303217 52 279\n",
      "hep-th/2003/0303219 0 697\n",
      "hep-th/2003/0303220 0 218\n",
      "hep-th/2003/0303221 0 99\n",
      "hep-th/2003/0303224 2 291\n",
      "hep-th/2003/0303225 0 77\n",
      "hep-th/2003/0303226 79 129\n",
      "hep-th/2003/0303227 93 122\n",
      "hep-th/2003/0303228 49 695\n",
      "hep-th/2003/0303229 0 643\n",
      "hep-th/2003/0303230 23 200\n",
      "hep-th/2003/0303231 0 429\n",
      "hep-th/2003/0303232 0 292\n",
      "hep-th/2003/0303233 0 502\n",
      "hep-th/2003/0303234 0 129\n",
      "hep-th/2003/0303235 0 0\n",
      "hep-th/2003/0303236 0 233\n",
      "hep-th/2003/0303237 42 293\n",
      "hep-th/2003/0303238 0 76\n",
      "hep-th/2003/0303239 0 159\n",
      "hep-th/2003/0303240 0 108\n",
      "hep-th/2003/0303242 52 263\n",
      "hep-th/2003/0303243 0 734\n",
      "hep-th/2003/0303245 58 187\n",
      "hep-th/2003/0303247 50 300\n",
      "hep-th/2003/0303248 28 63\n",
      "hep-th/2003/0303249 0 842\n",
      "hep-th/2003/0303251 27 630\n",
      "hep-th/2003/0303252 0 265\n",
      "hep-th/2003/0303254 0 0\n",
      "hep-th/2003/0303255 23 255\n",
      "hep-th/2003/0303256 0 1031\n",
      "hep-th/2003/0303258 0 105\n",
      "hep-th/2003/0303259 0 81\n",
      "hep-th/2003/0303260 139 122\n",
      "hep-th/2003/0303265 23 133\n",
      "hep-th/2003/0303267 0 334\n",
      "hep-th/2003/0303269 0 214\n",
      "hep-th/2003/0304003 0 306\n",
      "hep-th/2003/0304004 0 82\n",
      "hep-th/2003/0304005 0 0\n",
      "hep-th/2003/0304006 39 65\n",
      "hep-th/2003/0304008 57 305\n",
      "hep-th/2003/0304009 0 129\n",
      "hep-th/2003/0304010 0 168\n",
      "hep-th/2003/0304011 0 271\n",
      "hep-th/2003/0304012 3 156\n",
      "hep-th/2003/0304014 40 288\n",
      "hep-th/2003/0304015 0 127\n",
      "hep-th/2003/0304016 26 49\n",
      "hep-th/2003/0304017 0 0\n",
      "hep-th/2003/0304018 0 651\n",
      "hep-th/2003/0304020 0 0\n",
      "hep-th/2003/0304021 38 104\n",
      "hep-th/2003/0304022 0 917\n",
      "hep-th/2003/0304023 24 192\n",
      "hep-th/2003/0304024 0 66\n",
      "hep-th/2003/0304025 18 278\n",
      "hep-th/2003/0304026 11 81\n",
      "hep-th/2003/0304027 28 35\n",
      "hep-th/2003/0304028 50 1112\n",
      "hep-th/2003/0304029 0 6\n",
      "hep-th/2003/0304030 0 180\n",
      "hep-th/2003/0304031 0 125\n",
      "hep-th/2003/0304032 0 534\n",
      "hep-th/2003/0304033 15 97\n",
      "hep-th/2003/0304034 0 488\n",
      "hep-th/2003/0304036 16 290\n",
      "hep-th/2003/0304037 109 495\n",
      "hep-th/2003/0304038 14 96\n",
      "hep-th/2003/0304039 0 169\n",
      "hep-th/2003/0304041 45 239\n",
      "hep-th/2003/0304042 7 91\n",
      "hep-th/2003/0304043 38 227\n",
      "hep-th/2003/0304045 0 168\n",
      "hep-th/2003/0304046 21 337\n",
      "hep-th/2003/0304047 37 86\n",
      "hep-th/2003/0304048 7 88\n",
      "hep-th/2003/0304049 1 408\n",
      "hep-th/2003/0304050 0 16\n",
      "hep-th/2003/0304051 3 338\n",
      "hep-th/2003/0304053 0 118\n",
      "hep-th/2003/0304054 61 86\n",
      "hep-th/2003/0304056 0 0\n",
      "hep-th/2003/0304057 0 376\n",
      "hep-th/2003/0304058 51 143\n",
      "hep-th/2003/0304060 0 70\n",
      "hep-th/2003/0304065 28 94\n",
      "hep-th/2003/0304066 0 85\n",
      "hep-th/2003/0304067 32 116\n",
      "hep-th/2003/0304069 20 126\n",
      "hep-th/2003/0304070 10 199\n",
      "hep-th/2003/0304071 0 63\n",
      "hep-th/2003/0304072 20 34\n",
      "hep-th/2003/0304073 0 91\n",
      "hep-th/2003/0304074 83 848\n",
      "hep-th/2003/0304075 28 293\n",
      "hep-th/2003/0304077 0 179\n",
      "hep-th/2003/0304078 63 372\n",
      "hep-th/2003/0304079 73 446\n",
      "hep-th/2003/0304080 43 410\n",
      "hep-th/2003/0304081 57 63\n",
      "hep-th/2003/0304082 0 230\n",
      "hep-th/2003/0304084 0 0\n",
      "hep-th/2003/0304085 0 228\n",
      "hep-th/2003/0304086 0 496\n",
      "hep-th/2003/0304087 0 184\n",
      "hep-th/2003/0304091 165 290\n",
      "hep-th/2003/0304092 0 123\n",
      "hep-th/2003/0304093 0 375\n",
      "hep-th/2003/0304094 44 305\n",
      "hep-th/2003/0304095 1 233\n",
      "hep-th/2003/0304096 11 212\n",
      "hep-th/2003/0304097 0 0\n",
      "hep-th/2003/0304098 0 0\n",
      "hep-th/2003/0304099 8 299\n",
      "hep-th/2003/0304100 35 284\n",
      "hep-th/2003/0304101 84 166\n",
      "hep-th/2003/0304102 1 223\n",
      "hep-th/2003/0304103 84 182\n",
      "hep-th/2003/0304104 0 0\n",
      "hep-th/2003/0304105 58 187\n",
      "hep-th/2003/0304106 14 205\n",
      "hep-th/2003/0304109 46 698\n",
      "hep-th/2003/0304110 40 213\n",
      "hep-th/2003/0304111 10 1333\n",
      "hep-th/2003/0304112 121 182\n",
      "hep-th/2003/0304115 0 1729\n",
      "hep-th/2003/0304116 33 75\n",
      "hep-th/2003/0304118 0 257\n",
      "hep-th/2003/0304121 77 206\n",
      "hep-th/2003/0304122 44 33\n",
      "hep-th/2003/0304124 1 120\n",
      "hep-th/2003/0304125 31 517\n",
      "hep-th/2003/0304127 0 321\n",
      "hep-th/2003/0304128 0 433\n",
      "hep-th/2003/0304129 44 327\n",
      "hep-th/2003/0304130 29 147\n",
      "hep-th/2003/0304131 0 109\n",
      "hep-th/2003/0304132 0 280\n",
      "hep-th/2003/0304135 0 88\n",
      "hep-th/2003/0304137 40 212\n",
      "hep-th/2003/0304138 68 392\n",
      "hep-th/2003/0304140 0 294\n",
      "hep-th/2003/0304141 32 170\n",
      "hep-th/2003/0304144 8 116\n",
      "hep-th/2003/0304146 34 190\n",
      "hep-th/2003/0304147 0 577\n",
      "hep-th/2003/0304149 0 181\n",
      "hep-th/2003/0304150 49 240\n",
      "hep-th/2003/0304151 32 211\n",
      "hep-th/2003/0304152 17 206\n",
      "hep-th/2003/0304153 37 430\n",
      "hep-th/2003/0304154 0 147\n",
      "hep-th/2003/0304155 39 61\n",
      "hep-th/2003/0304156 2 78\n",
      "hep-th/2003/0304157 13 245\n",
      "hep-th/2003/0304158 0 0\n",
      "hep-th/2003/0304159 0 539\n",
      "hep-th/2003/0304160 1 170\n",
      "hep-th/2003/0304163 0 489\n",
      "hep-th/2003/0304164 75 214\n",
      "hep-th/2003/0304165 0 0\n",
      "hep-th/2003/0304166 0 0\n",
      "hep-th/2003/0304167 38 624\n",
      "hep-th/2003/0304168 3 150\n",
      "hep-th/2003/0304171 0 87\n",
      "hep-th/2003/0304172 0 209\n",
      "hep-th/2003/0304173 0 230\n",
      "hep-th/2003/0304174 0 210\n",
      "hep-th/2003/0304175 28 633\n",
      "hep-th/2003/0304176 0 0\n",
      "hep-th/2003/0304177 22 260\n",
      "hep-th/2003/0304178 0 1\n",
      "hep-th/2003/0304179 4 833\n",
      "hep-th/2003/0304180 42 318\n",
      "hep-th/2003/0304181 0 60\n",
      "hep-th/2003/0304182 93 514\n",
      "hep-th/2003/0304183 0 213\n",
      "hep-th/2003/0304184 0 85\n",
      "hep-th/2003/0304185 0 67\n",
      "hep-th/2003/0304186 44 238\n",
      "hep-th/2003/0304187 27 109\n",
      "hep-th/2003/0304188 0 0\n",
      "hep-th/2003/0304189 26 136\n",
      "hep-th/2003/0304190 0 438\n",
      "hep-th/2003/0304192 0 635\n",
      "hep-th/2003/0304193 0 138\n",
      "hep-th/2003/0304196 0 0\n",
      "hep-th/2003/0304198 0 761\n",
      "hep-th/2003/0304199 0 0\n",
      "hep-th/2003/0304200 53 262\n",
      "hep-th/2003/0304201 16 65\n",
      "hep-th/2003/0304202 0 70\n",
      "hep-th/2003/0304203 0 91\n",
      "hep-th/2003/0304204 0 101\n",
      "hep-th/2003/0304205 0 163\n",
      "hep-th/2003/0304207 67 133\n",
      "hep-th/2003/0304208 0 329\n",
      "hep-th/2003/0304210 66 285\n",
      "hep-th/2003/0304213 0 190\n",
      "hep-th/2003/0304214 0 70\n",
      "hep-th/2003/0304215 47 101\n",
      "hep-th/2003/0304216 0 0\n",
      "hep-th/2003/0304217 20 336\n",
      "hep-th/2003/0304218 0 0\n",
      "hep-th/2003/0304219 7 167\n",
      "hep-th/2003/0304220 0 574\n",
      "hep-th/2003/0304221 0 0\n",
      "hep-th/2003/0304222 100 518\n",
      "hep-th/2003/0304223 33 114\n",
      "hep-th/2003/0304224 0 455\n",
      "hep-th/2003/0304225 0 234\n",
      "hep-th/2003/0304226 5 244\n",
      "hep-th/2003/0304227 43 489\n",
      "hep-th/2003/0304228 71 216\n",
      "hep-th/2003/0304229 0 72\n",
      "hep-th/2003/0304230 2 409\n",
      "hep-th/2003/0304231 4 304\n",
      "hep-th/2003/0304232 109 360\n",
      "hep-th/2003/0304234 0 552\n",
      "hep-th/2003/0304235 24 248\n",
      "hep-th/2003/0304238 0 269\n",
      "hep-th/2003/0304240 0 93\n",
      "hep-th/2003/0304241 103 393\n",
      "hep-th/2003/0304242 12 61\n",
      "hep-th/2003/0304243 0 0\n",
      "hep-th/2003/0304246 0 372\n",
      "hep-th/2003/0304250 25 241\n",
      "hep-th/2003/0304251 41 498\n",
      "hep-th/2003/0304252 7 1106\n",
      "hep-th/2003/0304253 48 434\n",
      "hep-th/2003/0304254 9 411\n",
      "hep-th/2003/0304255 0 869\n",
      "hep-th/2003/0304256 0 321\n",
      "hep-th/2003/0304257 42 279\n",
      "hep-th/2003/0304259 128 678\n",
      "hep-th/2003/0304260 0 384\n",
      "hep-th/2003/0304261 0 305\n",
      "hep-th/2003/0304263 162 658\n",
      "hep-th/2003/0304264 78 699\n",
      "hep-th/2003/0304265 0 127\n",
      "hep-th/2003/0304266 0 199\n",
      "hep-th/2003/0304267 155 218\n",
      "hep-th/2003/0304268 0 518\n"
     ]
    }
   ],
   "source": [
    "equation_counts = []\n",
    "math_counts = []\n",
    "for this_dict in list_of_dicts:\n",
    "    print(this_dict[\"file name\"],len(this_dict[\"list of equations\"]),len(this_dict[\"list of math entries\"]))\n",
    "    equation_counts.append(len(this_dict[\"list of equations\"]))\n",
    "    math_counts.append(len(this_dict[\"list of math entries\"]))"
   ]
  },
  {
   "cell_type": "markdown",
   "metadata": {},
   "source": [
    "how many papers have no \"equation\" fields?"
   ]
  },
  {
   "cell_type": "code",
   "execution_count": 64,
   "metadata": {},
   "outputs": [
    {
     "data": {
      "text/plain": [
       "339"
      ]
     },
     "execution_count": 64,
     "metadata": {},
     "output_type": "execute_result"
    }
   ],
   "source": [
    "sum([x==0 for x in equation_counts])"
   ]
  },
  {
   "cell_type": "markdown",
   "metadata": {},
   "source": [
    "how many papers have no \\\\$x\\\\$ ?"
   ]
  },
  {
   "cell_type": "code",
   "execution_count": 65,
   "metadata": {},
   "outputs": [
    {
     "data": {
      "text/plain": [
       "54"
      ]
     },
     "execution_count": 65,
     "metadata": {},
     "output_type": "execute_result"
    }
   ],
   "source": [
    "sum([x==0 for x in math_counts])"
   ]
  },
  {
   "cell_type": "code",
   "execution_count": null,
   "metadata": {},
   "outputs": [],
   "source": []
  }
 ],
 "metadata": {
  "kernelspec": {
   "display_name": "Python 3 (ipykernel)",
   "language": "python",
   "name": "python3"
  },
  "language_info": {
   "codemirror_mode": {
    "name": "ipython",
    "version": 3
   },
   "file_extension": ".py",
   "mimetype": "text/x-python",
   "name": "python",
   "nbconvert_exporter": "python",
   "pygments_lexer": "ipython3",
   "version": "3.9.6"
  }
 },
 "nbformat": 4,
 "nbformat_minor": 4
}

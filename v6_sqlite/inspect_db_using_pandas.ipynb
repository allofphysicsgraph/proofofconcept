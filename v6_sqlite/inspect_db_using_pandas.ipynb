{
 "cells": [
  {
   "cell_type": "code",
   "execution_count": 1,
   "metadata": {},
   "outputs": [],
   "source": [
    "import pandas\n",
    "import sqlite3"
   ]
  },
  {
   "cell_type": "code",
   "execution_count": 9,
   "metadata": {},
   "outputs": [],
   "source": [
    "dict_of_tables = {}\n",
    "with sqlite3.connect('sqlite.db') as db:\n",
    "    cursor = db.cursor()\n",
    "    cursor.execute(\"SELECT name FROM sqlite_master WHERE type='table';\")\n",
    "    tables = cursor.fetchall()\n",
    "    # https://stackoverflow.com/questions/305378/list-of-tables-db-schema-dump-etc-using-the-python-sqlite3-api\n",
    "    for table_name in tables:\n",
    "        table_name = table_name[0]\n",
    "        # https://pandas.pydata.org/pandas-docs/version/0.22/generated/pandas.read_sql_table.html#pandas.read_sql_table\n",
    "        dict_of_tables[table_name] = pandas.read_sql_query(\"SELECT * from %s\" % table_name, db)\n",
    "        #table.to_csv(table_name + '.csv', index_label='index')\n",
    "    cursor.close()"
   ]
  },
  {
   "cell_type": "code",
   "execution_count": 10,
   "metadata": {},
   "outputs": [
    {
     "data": {
      "text/plain": [
       "dict_keys(['inference_rules', 'expressions', 'feeds'])"
      ]
     },
     "execution_count": 10,
     "metadata": {},
     "output_type": "execute_result"
    }
   ],
   "source": [
    "dict_of_tables.keys()"
   ]
  },
  {
   "cell_type": "code",
   "execution_count": 18,
   "metadata": {},
   "outputs": [
    {
     "name": "stdout",
     "output_type": "stream",
     "text": [
      "inference_rules (71, 10)\n",
      "expressions (241, 2)\n",
      "feeds (62, 2)\n"
     ]
    }
   ],
   "source": [
    "for k,v in dict_of_tables.items():\n",
    "    print(k,v.shape)"
   ]
  },
  {
   "cell_type": "code",
   "execution_count": 15,
   "metadata": {},
   "outputs": [
    {
     "data": {
      "text/plain": [
       "inference rule abbreviation     object\n",
       "number of arguments             object\n",
       "number of feeds                 object\n",
       "number of input expressions     object\n",
       "number of output expressions    object\n",
       "comments                        object\n",
       "latex expansion                 object\n",
       "yyyymmdd                        object\n",
       "author                          object\n",
       "ast                             object\n",
       "dtype: object"
      ]
     },
     "execution_count": 15,
     "metadata": {},
     "output_type": "execute_result"
    }
   ],
   "source": [
    "dict_of_tables['inference_rules'].dtypes"
   ]
  },
  {
   "cell_type": "code",
   "execution_count": 17,
   "metadata": {},
   "outputs": [
    {
     "data": {
      "text/html": [
       "<div>\n",
       "<style scoped>\n",
       "    .dataframe tbody tr th:only-of-type {\n",
       "        vertical-align: middle;\n",
       "    }\n",
       "\n",
       "    .dataframe tbody tr th {\n",
       "        vertical-align: top;\n",
       "    }\n",
       "\n",
       "    .dataframe thead th {\n",
       "        text-align: right;\n",
       "    }\n",
       "</style>\n",
       "<table border=\"1\" class=\"dataframe\">\n",
       "  <thead>\n",
       "    <tr style=\"text-align: right;\">\n",
       "      <th></th>\n",
       "      <th>0</th>\n",
       "      <th>1</th>\n",
       "      <th>2</th>\n",
       "    </tr>\n",
       "  </thead>\n",
       "  <tbody>\n",
       "    <tr>\n",
       "      <th>inference rule abbreviation</th>\n",
       "      <td>multLHSbyUnity</td>\n",
       "      <td>multRHSbyUnity</td>\n",
       "      <td>addZerotoLHS</td>\n",
       "    </tr>\n",
       "    <tr>\n",
       "      <th>number of arguments</th>\n",
       "      <td>2</td>\n",
       "      <td>2</td>\n",
       "      <td>2</td>\n",
       "    </tr>\n",
       "    <tr>\n",
       "      <th>number of feeds</th>\n",
       "      <td>1</td>\n",
       "      <td>1</td>\n",
       "      <td>1</td>\n",
       "    </tr>\n",
       "    <tr>\n",
       "      <th>number of input expressions</th>\n",
       "      <td>1</td>\n",
       "      <td>1</td>\n",
       "      <td>1</td>\n",
       "    </tr>\n",
       "    <tr>\n",
       "      <th>number of output expressions</th>\n",
       "      <td>1</td>\n",
       "      <td>1</td>\n",
       "      <td>1</td>\n",
       "    </tr>\n",
       "    <tr>\n",
       "      <th>comments</th>\n",
       "      <td>none</td>\n",
       "      <td>none</td>\n",
       "      <td>none</td>\n",
       "    </tr>\n",
       "    <tr>\n",
       "      <th>latex expansion</th>\n",
       "      <td>Multiply LHS of Eq.~\\ref{eq:#2} by 1, which in...</td>\n",
       "      <td>Multiply RHS of Eq.~\\ref{eq:#2} by 1, which in...</td>\n",
       "      <td>Add zero to LHS of Eq.~\\ref{eq:#2}, where $0=#1$.</td>\n",
       "    </tr>\n",
       "    <tr>\n",
       "      <th>yyyymmdd</th>\n",
       "      <td>20190617</td>\n",
       "      <td>20190617</td>\n",
       "      <td>20190617</td>\n",
       "    </tr>\n",
       "    <tr>\n",
       "      <th>author</th>\n",
       "      <td>bhpayne</td>\n",
       "      <td>bhpayne</td>\n",
       "      <td>bhpayne</td>\n",
       "    </tr>\n",
       "    <tr>\n",
       "      <th>ast</th>\n",
       "      <td>input:\\nouput:\\n</td>\n",
       "      <td>input:\\nouput:\\n</td>\n",
       "      <td>input:expression\\nop\\n  LHS\\n  RHS\\n\\ninput:fe...</td>\n",
       "    </tr>\n",
       "  </tbody>\n",
       "</table>\n",
       "</div>"
      ],
      "text/plain": [
       "                                                                              0  \\\n",
       "inference rule abbreviation                                      multLHSbyUnity   \n",
       "number of arguments                                                           2   \n",
       "number of feeds                                                               1   \n",
       "number of input expressions                                                   1   \n",
       "number of output expressions                                                  1   \n",
       "comments                                                                   none   \n",
       "latex expansion               Multiply LHS of Eq.~\\ref{eq:#2} by 1, which in...   \n",
       "yyyymmdd                                                               20190617   \n",
       "author                                                                  bhpayne   \n",
       "ast                                                            input:\\nouput:\\n   \n",
       "\n",
       "                                                                              1  \\\n",
       "inference rule abbreviation                                      multRHSbyUnity   \n",
       "number of arguments                                                           2   \n",
       "number of feeds                                                               1   \n",
       "number of input expressions                                                   1   \n",
       "number of output expressions                                                  1   \n",
       "comments                                                                   none   \n",
       "latex expansion               Multiply RHS of Eq.~\\ref{eq:#2} by 1, which in...   \n",
       "yyyymmdd                                                               20190617   \n",
       "author                                                                  bhpayne   \n",
       "ast                                                            input:\\nouput:\\n   \n",
       "\n",
       "                                                                              2  \n",
       "inference rule abbreviation                                        addZerotoLHS  \n",
       "number of arguments                                                           2  \n",
       "number of feeds                                                               1  \n",
       "number of input expressions                                                   1  \n",
       "number of output expressions                                                  1  \n",
       "comments                                                                   none  \n",
       "latex expansion               Add zero to LHS of Eq.~\\ref{eq:#2}, where $0=#1$.  \n",
       "yyyymmdd                                                               20190617  \n",
       "author                                                                  bhpayne  \n",
       "ast                           input:expression\\nop\\n  LHS\\n  RHS\\n\\ninput:fe...  "
      ]
     },
     "execution_count": 17,
     "metadata": {},
     "output_type": "execute_result"
    }
   ],
   "source": [
    "dict_of_tables['inference_rules'].head(3).T"
   ]
  },
  {
   "cell_type": "code",
   "execution_count": null,
   "metadata": {},
   "outputs": [],
   "source": []
  },
  {
   "cell_type": "code",
   "execution_count": null,
   "metadata": {},
   "outputs": [],
   "source": []
  }
 ],
 "metadata": {
  "kernelspec": {
   "display_name": "Python 3",
   "language": "python",
   "name": "python3"
  },
  "language_info": {
   "codemirror_mode": {
    "name": "ipython",
    "version": 3
   },
   "file_extension": ".py",
   "mimetype": "text/x-python",
   "name": "python",
   "nbconvert_exporter": "python",
   "pygments_lexer": "ipython3",
   "version": "3.6.7"
  }
 },
 "nbformat": 4,
 "nbformat_minor": 2
}

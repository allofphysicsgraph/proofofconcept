{
 "cells": [
  {
   "cell_type": "code",
   "execution_count": 54,
   "metadata": {
    "collapsed": false
   },
   "outputs": [],
   "source": [
    "#http://stackoverflow.com/questions/15850112/redis-how-to-parse-a-list-result\n",
    "from redisworks import Root\n",
    "import re \n",
    "import pandas as pd \n",
    "from redis import Redis\n",
    "r=R"
   ]
  },
  {
   "cell_type": "code",
   "execution_count": 8,
   "metadata": {
    "collapsed": false
   },
   "outputs": [],
   "source": [
    "f=open('inference_rules_database.csv','r')\n",
    "data=f.readlines()"
   ]
  },
  {
   "cell_type": "code",
   "execution_count": 74,
   "metadata": {
    "collapsed": false
   },
   "outputs": [],
   "source": [
    "for line in data:\n",
    "    entry=line.split(',')\n",
    "    key=entry[0].strip()\n",
    "    value=entry[1:]\n",
    "    eval('r.{}'.format('a'))\n",
    "    #print pd.Series(value)"
   ]
  },
  {
   "cell_type": "code",
   "execution_count": 77,
   "metadata": {
    "collapsed": false
   },
   "outputs": [
    {
     "ename": "TypeError",
     "evalue": "'LazyDot' object is not callable",
     "output_type": "error",
     "traceback": [
      "\u001b[0;31m---------------------------------------------------------------------------\u001b[0m",
      "\u001b[0;31mTypeError\u001b[0m                                 Traceback (most recent call last)",
      "\u001b[0;32m<ipython-input-77-7853965396e3>\u001b[0m in \u001b[0;36m<module>\u001b[0;34m()\u001b[0m\n\u001b[0;32m----> 1\u001b[0;31m \u001b[0;32mprint\u001b[0m \u001b[0mr\u001b[0m\u001b[0;34m.\u001b[0m\u001b[0mkeys\u001b[0m\u001b[0;34m(\u001b[0m\u001b[0;34m)\u001b[0m\u001b[0;34m\u001b[0m\u001b[0m\n\u001b[0m",
      "\u001b[0;31mTypeError\u001b[0m: 'LazyDot' object is not callable"
     ]
    }
   ],
   "source": []
  },
  {
   "cell_type": "code",
   "execution_count": 29,
   "metadata": {
    "collapsed": true
   },
   "outputs": [],
   "source": [
    "f=open('symbols_database.csv','r')\n",
    "data=f.readlines()\n",
    "for line in data:\n",
    "    entry=line.split(',')\n",
    "    key=entry[0].strip()\n",
    "    value=entry[1:]\n",
    "    r.set(key,value)\n",
    "    #print pd.Series(value)"
   ]
  },
  {
   "cell_type": "code",
   "execution_count": 30,
   "metadata": {
    "collapsed": false
   },
   "outputs": [
    {
     "data": {
      "text/plain": [
       "'[\\'k\\', \\'            \"variable\"\\', \\'\"none\"\\', \\'         \"1/length\"\\', \\'     \"wave number\"\\', \"          k = sympy.Symbol(\\'k\\')\\\\n\"]'"
      ]
     },
     "execution_count": 30,
     "metadata": {},
     "output_type": "execute_result"
    }
   ],
   "source": [
    "r.get('948588392938481')"
   ]
  },
  {
   "cell_type": "code",
   "execution_count": 31,
   "metadata": {
    "collapsed": true
   },
   "outputs": [],
   "source": [
    "f=open('feed_database.csv','r')\n",
    "data=f.readlines()\n",
    "for line in data:\n",
    "    entry=line.split(',')\n",
    "    key=entry[0].strip()\n",
    "    value=entry[1:]\n",
    "    r.set(key,value)\n",
    "    #print pd.Series(value)"
   ]
  },
  {
   "cell_type": "code",
   "execution_count": 32,
   "metadata": {
    "collapsed": false
   },
   "outputs": [
    {
     "data": {
      "text/plain": [
       "\"['x\\\\n']\""
      ]
     },
     "execution_count": 32,
     "metadata": {},
     "output_type": "execute_result"
    }
   ],
   "source": [
    "r.get('2393922')"
   ]
  },
  {
   "cell_type": "code",
   "execution_count": 33,
   "metadata": {
    "collapsed": true
   },
   "outputs": [],
   "source": [
    "f=open('expressions_database.csv','r')\n",
    "data=f.readlines()\n",
    "for line in data:\n",
    "    entry=line.split(',')\n",
    "    key=entry[0].strip()\n",
    "    value=entry[1:]\n",
    "    r.set(key,value)"
   ]
  },
  {
   "cell_type": "code",
   "execution_count": 34,
   "metadata": {
    "collapsed": false
   },
   "outputs": [
    {
     "data": {
      "text/plain": [
       "\"['\\\\\\\\langle a \\\\\\\\rangle^*=\\\\\\\\langle a \\\\\\\\rangle\\\\n']\""
      ]
     },
     "execution_count": 34,
     "metadata": {},
     "output_type": "execute_result"
    }
   ],
   "source": [
    "r.get('2848934890')"
   ]
  },
  {
   "cell_type": "code",
   "execution_count": 35,
   "metadata": {
    "collapsed": true
   },
   "outputs": [],
   "source": [
    "################# Needs a uniqe string as the key ######################\n",
    "f=open('connections_database.csv','r')\n",
    "data=f.readlines()\n",
    "for line in data:\n",
    "    entry=line.split(',')\n",
    "    key=entry[0].strip()\n",
    "    value=entry[1:]\n",
    "    r.set(key,value)"
   ]
  },
  {
   "cell_type": "code",
   "execution_count": null,
   "metadata": {
    "collapsed": true
   },
   "outputs": [],
   "source": []
  },
  {
   "cell_type": "code",
   "execution_count": 36,
   "metadata": {
    "collapsed": true
   },
   "outputs": [],
   "source": [
    "f=open('comments_database.csv','r')\n",
    "data=f.readlines()\n",
    "for line in data:\n",
    "    entry=line.split(',')\n",
    "    key=entry[0].strip()\n",
    "    value=entry[1:]\n",
    "    r.set(key,value)"
   ]
  },
  {
   "cell_type": "code",
   "execution_count": 37,
   "metadata": {
    "collapsed": false
   },
   "outputs": [
    {
     "data": {
      "text/plain": [
       "'[\"\\\\\\\\href{http://en.wikipedia.org/wiki/Amp%C3%A8re%27s_circuital_law}; part of \\\\\\\\href{http://en.wikipedia.org/wiki/Maxwell\\'s_equations}{Ampere\\'s circuital law}{Maxwell\\'s equations}\\\\n\"]'"
      ]
     },
     "execution_count": 37,
     "metadata": {},
     "output_type": "execute_result"
    }
   ],
   "source": [
    "r.get('9999999978')"
   ]
  },
  {
   "cell_type": "code",
   "execution_count": 42,
   "metadata": {
    "collapsed": false
   },
   "outputs": [
    {
     "data": {
      "text/plain": [
       "3L"
      ]
     },
     "execution_count": 42,
     "metadata": {},
     "output_type": "execute_result"
    }
   ],
   "source": [
    "r.rpush('test',[1,2,3,4])"
   ]
  },
  {
   "cell_type": "code",
   "execution_count": 52,
   "metadata": {
    "collapsed": false
   },
   "outputs": [
    {
     "name": "stdout",
     "output_type": "stream",
     "text": [
      "1\n",
      "[1]\n",
      "[1, 2, 3, 4]\n"
     ]
    }
   ],
   "source": [
    "for ix in range(r.llen('test')):\n",
    "    print r.lindex('test',ix)"
   ]
  },
  {
   "cell_type": "code",
   "execution_count": 60,
   "metadata": {
    "collapsed": false
   },
   "outputs": [
    {
     "data": {
      "text/plain": [
       "[\"\\\\href{http://en.wikipedia.org/wiki/Amp%C3%A8re%27s_circuital_law}; part of \\\\href{http://en.wikipedia.org/wiki/Maxwell's_equations}{Ampere's circuital law}{Maxwell's equations}\\n\"]"
      ]
     },
     "execution_count": 60,
     "metadata": {},
     "output_type": "execute_result"
    }
   ],
   "source": []
  },
  {
   "cell_type": "code",
   "execution_count": null,
   "metadata": {
    "collapsed": true
   },
   "outputs": [],
   "source": []
  }
 ],
 "metadata": {
  "kernelspec": {
   "display_name": "Python 2",
   "language": "python",
   "name": "python2"
  },
  "language_info": {
   "codemirror_mode": {
    "name": "ipython",
    "version": 2
   },
   "file_extension": ".py",
   "mimetype": "text/x-python",
   "name": "python",
   "nbconvert_exporter": "python",
   "pygments_lexer": "ipython2",
   "version": "2.7.12"
  }
 },
 "nbformat": 4,
 "nbformat_minor": 1
}

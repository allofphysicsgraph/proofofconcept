{
 "cells": [
  {
   "cell_type": "code",
   "execution_count": 1,
   "metadata": {
    "collapsed": false
   },
   "outputs": [],
   "source": [
    "import pandas as pd "
   ]
  },
  {
   "cell_type": "code",
   "execution_count": 2,
   "metadata": {
    "collapsed": false
   },
   "outputs": [
    {
     "data": {
      "text/html": [
       "<div>\n",
       "<table border=\"1\" class=\"dataframe\">\n",
       "  <thead>\n",
       "    <tr style=\"text-align: right;\">\n",
       "      <th></th>\n",
       "      <th>9294858532</th>\n",
       "      <th>The matrix is equal to its conjugate transpose</th>\n",
       "      <th>this is the definition of a Hermitian operator</th>\n",
       "    </tr>\n",
       "  </thead>\n",
       "  <tbody>\n",
       "    <tr>\n",
       "      <th>0</th>\n",
       "      <td>9999999986</td>\n",
       "      <td>\\href{http://en.wikipedia.org/wiki/Transformat...</td>\n",
       "      <td>NaN</td>\n",
       "    </tr>\n",
       "    <tr>\n",
       "      <th>1</th>\n",
       "      <td>9999999985</td>\n",
       "      <td>\\href{http://en.wikipedia.org/wiki/Ohm's_law#C...</td>\n",
       "      <td>NaN</td>\n",
       "    </tr>\n",
       "    <tr>\n",
       "      <th>2</th>\n",
       "      <td>9999999984</td>\n",
       "      <td>\\href{http://en.wikipedia.org/wiki/Capacitance...</td>\n",
       "      <td>NaN</td>\n",
       "    </tr>\n",
       "    <tr>\n",
       "      <th>3</th>\n",
       "      <td>9999999981</td>\n",
       "      <td>\\href{http://en.wikipedia.org/wiki/Gauss%27s_l...</td>\n",
       "      <td>NaN</td>\n",
       "    </tr>\n",
       "    <tr>\n",
       "      <th>4</th>\n",
       "      <td>9999999980</td>\n",
       "      <td>\\href{http://en.wikipedia.org/wiki/Gauss%27s_l...</td>\n",
       "      <td>NaN</td>\n",
       "    </tr>\n",
       "    <tr>\n",
       "      <th>5</th>\n",
       "      <td>9999999979</td>\n",
       "      <td>\\href{http://en.wikipedia.org/wiki/Faraday%27s...</td>\n",
       "      <td>NaN</td>\n",
       "    </tr>\n",
       "    <tr>\n",
       "      <th>6</th>\n",
       "      <td>9999999978</td>\n",
       "      <td>\\href{http://en.wikipedia.org/wiki/Amp%C3%A8re...</td>\n",
       "      <td>NaN</td>\n",
       "    </tr>\n",
       "  </tbody>\n",
       "</table>\n",
       "</div>"
      ],
      "text/plain": [
       "   9294858532     The matrix is equal to its conjugate transpose  \\\n",
       "0  9999999986  \\href{http://en.wikipedia.org/wiki/Transformat...   \n",
       "1  9999999985  \\href{http://en.wikipedia.org/wiki/Ohm's_law#C...   \n",
       "2  9999999984  \\href{http://en.wikipedia.org/wiki/Capacitance...   \n",
       "3  9999999981  \\href{http://en.wikipedia.org/wiki/Gauss%27s_l...   \n",
       "4  9999999980  \\href{http://en.wikipedia.org/wiki/Gauss%27s_l...   \n",
       "5  9999999979  \\href{http://en.wikipedia.org/wiki/Faraday%27s...   \n",
       "6  9999999978  \\href{http://en.wikipedia.org/wiki/Amp%C3%A8re...   \n",
       "\n",
       "    this is the definition of a Hermitian operator  \n",
       "0                                              NaN  \n",
       "1                                              NaN  \n",
       "2                                              NaN  \n",
       "3                                              NaN  \n",
       "4                                              NaN  \n",
       "5                                              NaN  \n",
       "6                                              NaN  "
      ]
     },
     "execution_count": 2,
     "metadata": {},
     "output_type": "execute_result"
    }
   ],
   "source": [
    "pd.read_csv('comments_database.csv',header=Fal)"
   ]
  },
  {
   "cell_type": "code",
   "execution_count": null,
   "metadata": {
    "collapsed": true
   },
   "outputs": [],
   "source": []
  }
 ],
 "metadata": {
  "kernelspec": {
   "display_name": "Python 2 (SageMath)",
   "language": "python",
   "name": "python2"
  },
  "language_info": {
   "codemirror_mode": {
    "name": "ipython",
    "version": 2
   },
   "file_extension": ".py",
   "mimetype": "text/x-python",
   "name": "python",
   "nbconvert_exporter": "python",
   "pygments_lexer": "ipython2",
   "version": "2.7.10"
  }
 },
 "nbformat": 4,
 "nbformat_minor": 0
}

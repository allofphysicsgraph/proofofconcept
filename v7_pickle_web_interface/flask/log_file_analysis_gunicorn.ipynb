{
 "cells": [
  {
   "cell_type": "markdown",
   "id": "d1bd1536-134e-420b-b83c-481e3114f6bd",
   "metadata": {},
   "source": [
    "https://github.com/allofphysicsgraph/proofofconcept/issues/246"
   ]
  },
  {
   "cell_type": "code",
   "execution_count": null,
   "id": "66dc7a31-8656-4a22-8c75-e907cb7f02af",
   "metadata": {},
   "outputs": [],
   "source": [
    "!ls logs"
   ]
  },
  {
   "cell_type": "code",
   "execution_count": null,
   "id": "1bb42f50-9c48-4617-89aa-c4055f826c45",
   "metadata": {},
   "outputs": [],
   "source": [
    "!head -n 3 logs/gunicorn_access.log"
   ]
  },
  {
   "cell_type": "code",
   "execution_count": null,
   "id": "f6f8ed72-c831-41ff-bc3b-926ffb4e429d",
   "metadata": {},
   "outputs": [],
   "source": [
    "import pandas\n",
    "from matplotlib import pyplot as plt\n",
    "import time"
   ]
  },
  {
   "cell_type": "markdown",
   "id": "4fbccf2a-6b4f-491b-b1ea-e8f85f659d80",
   "metadata": {},
   "source": [
    "# load data from disk"
   ]
  },
  {
   "cell_type": "code",
   "execution_count": null,
   "id": "d0d6bd91-54a4-4a39-9b24-820cec7f8305",
   "metadata": {},
   "outputs": [],
   "source": [
    "this_list = []\n",
    "number_of_invalid_strings = 0\n",
    "\n",
    "start_time = time.time()\n",
    "# https://stackoverflow.com/a/48124263/1164295\n",
    "with open('logs/gunicorn_access.log', 'r') as file_handle:\n",
    "    for line in file_handle:\n",
    "        try:\n",
    "            as_dict = eval(line)\n",
    "            as_dict[\"reqtime\"] = float(as_dict[\"reqtime\"])\n",
    "            as_dict[\"resplen\"] = int(as_dict[\"resplen\"])\n",
    "            this_list.append(as_dict)\n",
    "        except SyntaxError:\n",
    "            number_of_invalid_strings += 1\n",
    "            #print(line)\n",
    "            \n",
    "print('elapsed',round(time.time()-start_time,2),'seconds')"
   ]
  },
  {
   "cell_type": "code",
   "execution_count": null,
   "id": "70abe51b-98b3-4292-b8f9-40dc65794bf5",
   "metadata": {},
   "outputs": [],
   "source": [
    "print(number_of_invalid_strings)"
   ]
  },
  {
   "cell_type": "markdown",
   "id": "6ed15d7e-70f9-4985-a933-f42d7a6a59e5",
   "metadata": {},
   "source": [
    "# explore the data"
   ]
  },
  {
   "cell_type": "code",
   "execution_count": null,
   "id": "fc7cd915-bf95-45dd-aba2-e8fb3f8f06c4",
   "metadata": {},
   "outputs": [],
   "source": [
    "df = pandas.DataFrame(this_list)\n",
    "df.shape"
   ]
  },
  {
   "cell_type": "code",
   "execution_count": null,
   "id": "6e6fbda1-c794-4e2d-8298-d35cfcfd2da1",
   "metadata": {},
   "outputs": [],
   "source": [
    "df.head()"
   ]
  },
  {
   "cell_type": "markdown",
   "id": "4b24e37d-36b0-4234-9778-bf1edd013d82",
   "metadata": {},
   "source": [
    "# histogram of IP addresses"
   ]
  },
  {
   "cell_type": "code",
   "execution_count": null,
   "id": "ee45599a-4105-4641-8893-dc1a415306bb",
   "metadata": {},
   "outputs": [],
   "source": [
    "df['ip'].nunique()"
   ]
  },
  {
   "cell_type": "code",
   "execution_count": null,
   "id": "ff3916b3-1393-4e0e-861f-4d53f4eb613c",
   "metadata": {},
   "outputs": [],
   "source": [
    "# how many IP addresses appeared once?\n",
    "\n",
    "sum(df['ip'].value_counts()==1)"
   ]
  },
  {
   "cell_type": "code",
   "execution_count": null,
   "id": "8471b0ca-69bb-4e81-baa0-8c7d6ef7603f",
   "metadata": {},
   "outputs": [],
   "source": [
    "#pandas.options.display.max_rows = 50\n",
    "#pandas.set_option('display.max_rows', 50)\n",
    "\n",
    "df['ip'].value_counts()"
   ]
  },
  {
   "cell_type": "code",
   "execution_count": null,
   "id": "f48cebc8-e5da-4546-9aa9-bd317fd146c5",
   "metadata": {},
   "outputs": [],
   "source": [
    "# https://pandas.pydata.org/docs/reference/api/pandas.DataFrame.hist.html\n",
    "\n",
    "df['ip'].value_counts().hist(bins=50)\n",
    "plt.semilogy()\n",
    "plt.xlabel('number of requests')\n",
    "plt.ylabel('number of IPs making that many requests');"
   ]
  },
  {
   "cell_type": "markdown",
   "id": "c74e6897-629f-4ad4-9d78-e70ae06da137",
   "metadata": {},
   "source": [
    "10,000 IPs make 1 request each; 1 IP makes 17,5000 requests. "
   ]
  },
  {
   "cell_type": "markdown",
   "id": "310526bf-59f8-48f9-8a69-e8bed67782b5",
   "metadata": {},
   "source": [
    "## most popular IP"
   ]
  },
  {
   "cell_type": "markdown",
   "id": "ff535087-6027-4eaa-8362-ed8db56c7a7f",
   "metadata": {},
   "source": [
    "That most active IP, 157.90.177.215, is ninja-crawler60.webmeup.com"
   ]
  },
  {
   "cell_type": "code",
   "execution_count": null,
   "id": "bdba5184-8e83-43db-9dc3-f4e24668f2ac",
   "metadata": {},
   "outputs": [],
   "source": [
    "df[df['ip']==\"157.90.177.215\"].head(3)"
   ]
  },
  {
   "cell_type": "markdown",
   "id": "62e6b22b-ec6f-4b5f-963d-a22252ea4224",
   "metadata": {},
   "source": [
    "# histogram of user agent strings"
   ]
  },
  {
   "cell_type": "code",
   "execution_count": null,
   "id": "05238ac8-9145-4e58-86dc-cff50b21c4ff",
   "metadata": {},
   "outputs": [],
   "source": [
    "df['ua'].value_counts().hist(bins=50)\n",
    "plt.semilogy()\n",
    "plt.xlabel('number of entries of a user agent string')\n",
    "plt.ylabel('count');"
   ]
  },
  {
   "cell_type": "markdown",
   "id": "f66ea0f3-3db1-4eaf-968a-7b5fd5f0ac57",
   "metadata": {},
   "source": [
    "One user agent string appears 200,000 times; most appear once"
   ]
  },
  {
   "cell_type": "markdown",
   "id": "cf77407e-587b-4f13-9445-6fc54d6151c6",
   "metadata": {},
   "source": [
    "There are a lot of crawler bots:\n",
    "\n",
    "* https://developers.google.com/search/docs/advanced/crawling/googlebot\n",
    "* https://serpstatbot.com/\n",
    "* https://webmaster.petalsearch.com/site/petalbot"
   ]
  },
  {
   "cell_type": "code",
   "execution_count": null,
   "id": "f19ca7c4-75f6-4030-a450-a746f7ff9f4a",
   "metadata": {},
   "outputs": [],
   "source": [
    "df['ua'].value_counts().head(20)"
   ]
  },
  {
   "cell_type": "raw",
   "id": "3d391304-8779-40d7-bfcf-8fb01c2bafb7",
   "metadata": {},
   "source": [
    "df['ua'].value_counts().tail(5)"
   ]
  },
  {
   "cell_type": "markdown",
   "id": "d969856f-157f-4a0a-b641-4abc10440563",
   "metadata": {},
   "source": [
    "Happily, the name \"bot\" appears in crawler user agent strings"
   ]
  },
  {
   "cell_type": "code",
   "execution_count": null,
   "id": "76f9f2c0-5209-4752-bfbb-174b4f25427c",
   "metadata": {},
   "outputs": [],
   "source": [
    "df[df[\"ua\"].str.contains('|'.join(['bot','Bot','crawl']))]['ua'].value_counts().head(30)"
   ]
  },
  {
   "cell_type": "code",
   "execution_count": null,
   "id": "f7d620d4-bebb-45cf-a90c-b4ad08a14832",
   "metadata": {},
   "outputs": [],
   "source": [
    "# https://pandas.pydata.org/docs/reference/api/pandas.DataFrame.copy.html\n",
    "df_orig = df.copy(deep=True)"
   ]
  },
  {
   "cell_type": "code",
   "execution_count": null,
   "id": "873722c7-986b-4f26-a79b-1773653ee3d3",
   "metadata": {},
   "outputs": [],
   "source": [
    "df.shape"
   ]
  },
  {
   "cell_type": "markdown",
   "id": "42932125-37f4-4c1b-806e-5b5f84423cae",
   "metadata": {},
   "source": [
    "# Cleanup"
   ]
  },
  {
   "cell_type": "markdown",
   "id": "55d2fb04-fb1a-4fca-83f3-6a66b8a22408",
   "metadata": {},
   "source": [
    "## remove bots and crawlers from the logs"
   ]
  },
  {
   "cell_type": "code",
   "execution_count": null,
   "id": "04367503-cad3-429c-9aec-832d55e9a1fb",
   "metadata": {},
   "outputs": [],
   "source": [
    "# https://stackoverflow.com/a/52173171/1164295\n",
    "\n",
    "df.drop(df[df[\"ua\"].str.contains('|'.join(['bot','Bot','crawl']))].index, inplace = True)"
   ]
  },
  {
   "cell_type": "code",
   "execution_count": null,
   "id": "a9431386-a24a-4d85-8c19-88680669462f",
   "metadata": {},
   "outputs": [],
   "source": [
    "df.shape"
   ]
  },
  {
   "cell_type": "markdown",
   "id": "276504b6-f074-4946-b0fc-f33e10df0071",
   "metadata": {},
   "source": [
    "that's a reduction to 1/3; so 2/3 of my traffic is crawlers"
   ]
  },
  {
   "cell_type": "markdown",
   "id": "b2f5498d-da46-4f71-8e78-bec2ecb6457f",
   "metadata": {},
   "source": [
    "## TODO: remove the \"single request\" IP entries"
   ]
  },
  {
   "cell_type": "code",
   "execution_count": null,
   "id": "fe8d985c-4f99-4cf1-96b4-f06a5344cac1",
   "metadata": {},
   "outputs": [],
   "source": [
    "s = df['ip'].value_counts()==1\n",
    "len(s[s].index)"
   ]
  },
  {
   "cell_type": "code",
   "execution_count": null,
   "id": "d2984c2c-b09c-44b3-be99-5c604ebf2818",
   "metadata": {},
   "outputs": [],
   "source": [
    "194494-6365"
   ]
  },
  {
   "cell_type": "markdown",
   "id": "cf4f251f-bd22-44c4-9aef-0a1cdec4ee10",
   "metadata": {},
   "source": [
    "TODO: the following isn't working "
   ]
  },
  {
   "cell_type": "code",
   "execution_count": null,
   "id": "0b44e4ad-a18d-4dd6-888e-d09654e28b36",
   "metadata": {},
   "outputs": [],
   "source": [
    "# https://stackoverflow.com/a/44888919/1164295 \n",
    "# relies on https://pandas.pydata.org/pandas-docs/stable/reference/api/pandas.DataFrame.duplicated.html\n",
    "df = df[df.duplicated(subset=['ip'], keep=False)]\n",
    "df.shape"
   ]
  },
  {
   "cell_type": "markdown",
   "id": "d753c970-c4db-443d-b300-ef2f80076646",
   "metadata": {},
   "source": [
    "what percentage of the non-bot traffic is single request?"
   ]
  },
  {
   "cell_type": "code",
   "execution_count": null,
   "id": "0337689a-7fc6-491d-951a-492495d2a0ab",
   "metadata": {},
   "outputs": [],
   "source": [
    "6365/194494"
   ]
  },
  {
   "cell_type": "markdown",
   "id": "3a760b4c-3e46-4dd4-a257-3753ea6a754a",
   "metadata": {},
   "source": [
    "## remove \"response length zero\" entries"
   ]
  },
  {
   "cell_type": "code",
   "execution_count": null,
   "id": "1f60e9df-19e9-44fa-8a92-f8014eb26086",
   "metadata": {},
   "outputs": [],
   "source": [
    "df.drop(df[df['resplen'] ==0].index, inplace = True)"
   ]
  },
  {
   "cell_type": "code",
   "execution_count": null,
   "id": "5b4d8459-5c89-453a-a0d0-c9fbde451297",
   "metadata": {},
   "outputs": [],
   "source": [
    "df.shape"
   ]
  },
  {
   "cell_type": "markdown",
   "id": "b27085f2-09e1-4a48-a12d-801c30e110a3",
   "metadata": {},
   "source": [
    "## remove PNG/JS/JSON/mathjax/txt/ico/svg requests"
   ]
  },
  {
   "cell_type": "code",
   "execution_count": null,
   "id": "6f3b01b7-3d99-4428-92a2-cc4d9763d342",
   "metadata": {},
   "outputs": [],
   "source": [
    "# I don't care about requests for PNG files\n",
    "\n",
    "# https://pandas.pydata.org/docs/reference/api/pandas.Series.str.contains.html\n",
    "\n",
    "# https://stackoverflow.com/a/26577689/1164295\n",
    "df[df[\"statline\"].str.contains('|'.join(['.png','.js',\n",
    "                                          '.json','mathjax',\n",
    "                                          '.txt','.ico',\n",
    "                                          '.svg', 'GET / HTTP']))]['statline'].value_counts().head(5)"
   ]
  },
  {
   "cell_type": "code",
   "execution_count": null,
   "id": "3ac7f4bf-f4bc-4b01-ace6-2ff3e71757df",
   "metadata": {},
   "outputs": [],
   "source": [
    "df.drop(df[df[\"statline\"].str.contains('|'.join(['.png','.js','owa','aspx',\n",
    "                                          '.json','mathjax','php','PHP','git','wordpress','admin',\n",
    "                                          '.txt','.ico','xml','XML',\n",
    "                                          '.svg','login','logon']))].index, inplace = True)"
   ]
  },
  {
   "cell_type": "code",
   "execution_count": null,
   "id": "771a71ad-47e0-4a89-8595-1481487c02cb",
   "metadata": {},
   "outputs": [],
   "source": [
    "df.shape"
   ]
  },
  {
   "cell_type": "markdown",
   "id": "a6f08949-9074-4944-8625-c030b9525fe7",
   "metadata": {},
   "source": [
    "# after cleanup, revisit IP activity"
   ]
  },
  {
   "cell_type": "code",
   "execution_count": null,
   "id": "f0fb2628-5627-431e-bad2-3f641fcf8259",
   "metadata": {},
   "outputs": [],
   "source": [
    "df['ip'].nunique()"
   ]
  },
  {
   "cell_type": "code",
   "execution_count": null,
   "id": "81f02c46-88a4-4e16-89af-e7b4798bfe18",
   "metadata": {},
   "outputs": [],
   "source": [
    "df['ip'].value_counts().hist(bins=50)\n",
    "plt.semilogy()\n",
    "plt.xlabel('number of requests')\n",
    "plt.ylabel('number of IPs making that many requests');"
   ]
  },
  {
   "cell_type": "code",
   "execution_count": null,
   "id": "c158ca7e-9947-452a-bbcc-dbb2c3b447e5",
   "metadata": {},
   "outputs": [],
   "source": [
    "df['ip'].value_counts().head(10)"
   ]
  },
  {
   "cell_type": "markdown",
   "id": "254caae9-0b2e-45df-9167-c155166843cc",
   "metadata": {},
   "source": [
    "TODO: the fact that there are single entry IPs means something failed in the cleanup process above"
   ]
  },
  {
   "cell_type": "code",
   "execution_count": null,
   "id": "813021fc-6f76-4a62-87cc-c295f1b6b5de",
   "metadata": {},
   "outputs": [],
   "source": [
    "df['ip'].value_counts().tail(3)"
   ]
  },
  {
   "cell_type": "markdown",
   "id": "5a09394f-9687-4fb4-9de7-794fad242bf0",
   "metadata": {},
   "source": [
    "# TODO: time-series analysis per IP\n",
    "\n",
    "What is the duration of time spent on the website?"
   ]
  },
  {
   "cell_type": "markdown",
   "id": "90b6fe0d-b05e-46c9-a511-839bd77c2ab7",
   "metadata": {},
   "source": [
    "# histogram of GETs"
   ]
  },
  {
   "cell_type": "code",
   "execution_count": null,
   "id": "7245541b-1a5d-47ec-b065-f06a6e8e2058",
   "metadata": {},
   "outputs": [],
   "source": [
    "df['statline'].value_counts().hist(bins=50)\n",
    "plt.semilogy()\n",
    "plt.xlabel('number of GET requests')\n",
    "plt.ylabel('count');"
   ]
  },
  {
   "cell_type": "code",
   "execution_count": null,
   "id": "650d3b01-3f66-41ec-9cdc-0166a36c7062",
   "metadata": {},
   "outputs": [],
   "source": [
    "df['statline'].value_counts().head(40)"
   ]
  },
  {
   "cell_type": "code",
   "execution_count": null,
   "id": "bca603b1-c3b3-4db2-8512-f00440ed8baa",
   "metadata": {},
   "outputs": [],
   "source": [
    "df['statline'].value_counts().tail()"
   ]
  },
  {
   "cell_type": "markdown",
   "id": "8b46fa12-c8b3-4acf-8c0f-de2081915a57",
   "metadata": {},
   "source": [
    "## login attempts"
   ]
  },
  {
   "cell_type": "code",
   "execution_count": null,
   "id": "a91764d2-2663-45d2-a72a-a00ce2daf534",
   "metadata": {},
   "outputs": [],
   "source": [
    "df[df[\"statline\"].str.contains('login')]['statline'].value_counts().head(20)"
   ]
  },
  {
   "cell_type": "markdown",
   "id": "8738efba-369b-4726-a37c-92c998ed3c3e",
   "metadata": {},
   "source": [
    "# histogram of request times"
   ]
  },
  {
   "cell_type": "code",
   "execution_count": null,
   "id": "93986dfb-b39d-4d1f-a290-8f8830197f8d",
   "metadata": {},
   "outputs": [],
   "source": [
    "max(df['reqtime'])"
   ]
  },
  {
   "cell_type": "code",
   "execution_count": null,
   "id": "2417251a-a3e7-4c63-bd9e-205516fbcf87",
   "metadata": {},
   "outputs": [],
   "source": [
    "df['reqtime'].value_counts().hist(bins=50)\n",
    "plt.semilogy()\n",
    "plt.xlabel('request times')\n",
    "plt.ylabel('number of requests with that time');"
   ]
  },
  {
   "cell_type": "code",
   "execution_count": null,
   "id": "31bedc3e-45b8-4017-9c16-6cd8288b9af6",
   "metadata": {},
   "outputs": [],
   "source": [
    "df['reqtime'].value_counts().head(5)"
   ]
  },
  {
   "cell_type": "code",
   "execution_count": null,
   "id": "311d1b48-301f-428a-b5bd-63a191a4ce35",
   "metadata": {},
   "outputs": [],
   "source": [
    "df['reqtime'].value_counts().sort_index().tail()"
   ]
  },
  {
   "cell_type": "markdown",
   "id": "4f73d260-ffa4-4498-811f-56c5d6b2b9dd",
   "metadata": {},
   "source": [
    "# histogram of response length"
   ]
  },
  {
   "cell_type": "code",
   "execution_count": null,
   "id": "83a9de0c-c9a2-4080-a2c4-b18b078c2660",
   "metadata": {},
   "outputs": [],
   "source": [
    "df['resplen'].value_counts().hist(bins=50)\n",
    "plt.semilogy()\n",
    "plt.xlabel('response length')\n",
    "plt.ylabel('count');"
   ]
  },
  {
   "cell_type": "code",
   "execution_count": null,
   "id": "3756f0d0-25fb-405b-9ee6-0064fe4d8f27",
   "metadata": {},
   "outputs": [],
   "source": [
    "df['resplen'].value_counts().head(20)"
   ]
  },
  {
   "cell_type": "code",
   "execution_count": null,
   "id": "e0cf5b9d-8802-4723-8ea4-16e3a8a45c0d",
   "metadata": {},
   "outputs": [],
   "source": [
    "df['resplen'].value_counts().sort_index().head(10)"
   ]
  },
  {
   "cell_type": "markdown",
   "id": "1f68c627-2d4c-4085-8e67-51092d1d9b56",
   "metadata": {},
   "source": [
    "What's the smallest request response length that contains actual content?"
   ]
  },
  {
   "cell_type": "code",
   "execution_count": null,
   "id": "28953888-be54-4d63-b889-602fb94897f2",
   "metadata": {},
   "outputs": [],
   "source": [
    "df[df['resplen']>500]['resplen'].value_counts().sort_index()"
   ]
  },
  {
   "cell_type": "code",
   "execution_count": null,
   "id": "22b2c3e3-56b7-4c18-bb34-41e67fe5d101",
   "metadata": {},
   "outputs": [],
   "source": [
    "df['resplen'].value_counts().sort_index().tail(50)"
   ]
  },
  {
   "cell_type": "code",
   "execution_count": null,
   "id": "55b6a3ec-58e6-476b-b0c8-2599d37c57c3",
   "metadata": {},
   "outputs": [],
   "source": [
    "df[df['resplen']==1163881].head(3)"
   ]
  },
  {
   "cell_type": "code",
   "execution_count": null,
   "id": "0baf5827-3b20-4806-945d-6e2e9d062b08",
   "metadata": {},
   "outputs": [],
   "source": [
    "df[df['resplen']==1167324].head(3)"
   ]
  },
  {
   "cell_type": "code",
   "execution_count": null,
   "id": "2e68d173-ffd2-4cee-bd23-444102623ab5",
   "metadata": {},
   "outputs": [],
   "source": []
  },
  {
   "cell_type": "code",
   "execution_count": null,
   "id": "245324ed-d8f0-4ee1-b003-fb3366af0306",
   "metadata": {},
   "outputs": [],
   "source": []
  }
 ],
 "metadata": {
  "kernelspec": {
   "display_name": "Python 3 (ipykernel)",
   "language": "python",
   "name": "python3"
  },
  "language_info": {
   "codemirror_mode": {
    "name": "ipython",
    "version": 3
   },
   "file_extension": ".py",
   "mimetype": "text/x-python",
   "name": "python",
   "nbconvert_exporter": "python",
   "pygments_lexer": "ipython3",
   "version": "3.9.6"
  }
 },
 "nbformat": 4,
 "nbformat_minor": 5
}

{
 "cells": [
  {
   "cell_type": "markdown",
   "metadata": {},
   "source": [
    "https://towardsdatascience.com/waffle-charts-using-pythons-matplotlib-94252689a701"
   ]
  },
  {
   "cell_type": "code",
   "execution_count": 1,
   "metadata": {},
   "outputs": [],
   "source": [
    "import pandas as pd\n",
    "import numpy as np\n",
    "import matplotlib.pyplot as plt\n",
    "import matplotlib.patches as mpatches"
   ]
  },
  {
   "cell_type": "code",
   "execution_count": 2,
   "metadata": {},
   "outputs": [
    {
     "data": {
      "text/plain": [
       "219"
      ]
     },
     "execution_count": 2,
     "metadata": {},
     "output_type": "execute_result"
    }
   ],
   "source": [
    "total_expressions=638\n",
    "total_expressions-(21+180+179+8+31)"
   ]
  },
  {
   "cell_type": "code",
   "execution_count": 3,
   "metadata": {},
   "outputs": [],
   "source": [
    "df = pd.DataFrame({\n",
    "    'step status': ['valid', 'declaration', 'assumption', 'explicit fail', 'other fail','no check'],\n",
    "    'count':        [180,     179,           8,            21,              219,         31] \n",
    "})"
   ]
  },
  {
   "cell_type": "code",
   "execution_count": 4,
   "metadata": {},
   "outputs": [
    {
     "data": {
      "text/plain": [
       "638"
      ]
     },
     "execution_count": 4,
     "metadata": {},
     "output_type": "execute_result"
    }
   ],
   "source": [
    "sum(df['count'])\n"
   ]
  },
  {
   "cell_type": "code",
   "execution_count": 5,
   "metadata": {},
   "outputs": [
    {
     "data": {
      "text/plain": [
       "[0.28213166144200624,\n",
       " 0.28056426332288403,\n",
       " 0.012539184952978056,\n",
       " 0.032915360501567396,\n",
       " 0.3432601880877743,\n",
       " 0.048589341692789965]"
      ]
     },
     "execution_count": 5,
     "metadata": {},
     "output_type": "execute_result"
    }
   ],
   "source": [
    "proportions = [(float(value) / total_expressions) for value in df['count']]\n",
    "proportions"
   ]
  },
  {
   "cell_type": "code",
   "execution_count": 6,
   "metadata": {},
   "outputs": [],
   "source": [
    "def get_divisors(n):\n",
    "    \"\"\"\n",
    "    https://alexwlchan.net/2019/07/finding-divisors-with-python/\n",
    "    \"\"\"\n",
    "    for i in range(1, int(n / 2) + 1):\n",
    "        if n % i == 0:\n",
    "            yield i\n",
    "    yield n"
   ]
  },
  {
   "cell_type": "code",
   "execution_count": 7,
   "metadata": {},
   "outputs": [
    {
     "data": {
      "text/plain": [
       "[1, 2, 11, 22, 29, 58, 319, 638]"
      ]
     },
     "execution_count": 7,
     "metadata": {},
     "output_type": "execute_result"
    }
   ],
   "source": [
    "list(get_divisors(638))"
   ]
  },
  {
   "cell_type": "code",
   "execution_count": 8,
   "metadata": {},
   "outputs": [
    {
     "data": {
      "text/plain": [
       "638"
      ]
     },
     "execution_count": 8,
     "metadata": {},
     "output_type": "execute_result"
    }
   ],
   "source": [
    "29*22"
   ]
  },
  {
   "cell_type": "code",
   "execution_count": 9,
   "metadata": {},
   "outputs": [
    {
     "data": {
      "text/plain": [
       "638"
      ]
     },
     "execution_count": 9,
     "metadata": {},
     "output_type": "execute_result"
    }
   ],
   "source": [
    "11*58"
   ]
  },
  {
   "cell_type": "code",
   "execution_count": 10,
   "metadata": {},
   "outputs": [],
   "source": [
    "#width =29\n",
    "#height=22\n",
    "width =58\n",
    "height=11\n",
    "total= width * height"
   ]
  },
  {
   "cell_type": "code",
   "execution_count": 11,
   "metadata": {},
   "outputs": [
    {
     "data": {
      "text/plain": [
       "[180, 179, 8, 21, 219, 31]"
      ]
     },
     "execution_count": 11,
     "metadata": {},
     "output_type": "execute_result"
    }
   ],
   "source": [
    "tiles_per_category = [round(proportion * total_expressions) for proportion in proportions]\n",
    "tiles_per_category"
   ]
  },
  {
   "cell_type": "code",
   "execution_count": 12,
   "metadata": {},
   "outputs": [],
   "source": [
    "waffle = np.zeros((height, width))\n",
    "category_index = 0\n",
    "tile_index = 0\n",
    "for col in range(width):\n",
    "    for row in range(height):\n",
    "        tile_index += 1\n",
    "        if tile_index > sum(tiles_per_category[0:category_index]):\n",
    "            category_index += 1\n",
    "        waffle[row, col] = category_index"
   ]
  },
  {
   "cell_type": "raw",
   "metadata": {},
   "source": [
    "fig = plt.figure()\n",
    "colormap = plt.cm.coolwarm\n",
    "plt.matshow(waffle, cmap=colormap)\n",
    "plt.colorbar()"
   ]
  },
  {
   "cell_type": "code",
   "execution_count": 26,
   "metadata": {},
   "outputs": [
    {
     "data": {
      "text/plain": [
       "<Figure size 432x288 with 0 Axes>"
      ]
     },
     "metadata": {},
     "output_type": "display_data"
    },
    {
     "data": {
      "image/png": "[encoded data removed]",
      "text/plain": [
       "<Figure size 1152x218.483 with 1 Axes>"
      ]
     },
     "metadata": {},
     "output_type": "display_data"
    }
   ],
   "source": [
    "fig = plt.figure();\n",
    "colormap = plt.cm.coolwarm\n",
    "plt.matshow(waffle, cmap=colormap)\n",
    "ax = plt.gca()\n",
    "ax.set_xticks(np.arange(-0.5, (width), 1), minor=True)\n",
    "ax.set_yticks(np.arange(-0.5, (height), 1), minor=True)\n",
    "ax.grid(which='minor', color='w', linestyle='-', linewidth=2)\n",
    "plt.xticks([])\n",
    "plt.yticks([])\n",
    "values = df['count']\n",
    "categories = df['step status']\n",
    "value_sign = ''\n",
    "values_cumsum = np.cumsum(values)\n",
    "#print(values_cumsum)\n",
    "total_values = values_cumsum[len(values_cumsum) - 1]\n",
    "#print(total_values)\n",
    "legend_handles = []\n",
    "for i, category in enumerate(categories):\n",
    "    if value_sign == '%':\n",
    "        label_str = category + ' (' + str(values[i]) + value_sign + ')' \n",
    "    else:\n",
    "        label_str = category + ' (' + value_sign + str(values[i]) + ')'\n",
    "    color_val = colormap(float(i+.7) / len(categories))\n",
    "\n",
    "    #print(float(values_cumsum[i]) / total_values)\n",
    "    #print('color_val=',color_val,'label=',label_str)\n",
    "    legend_handles.append(mpatches.Patch(color=color_val, label=label_str));\n",
    "    \n",
    "plt.legend(handles=legend_handles, loc = 'lower center', ncol=len(categories),\n",
    "          bbox_to_anchor=(0., -0.3, 0.95, 0.1)); #positioning legends\n",
    "plt.title('step validation in Physics Derivation Graph as of 20200829')\n",
    "#plt.colorbar()\n",
    "with open('waffle_chart_step_validation_20200829.png','wb') as fil:\n",
    "    plt.savefig(fil, format=\"png\")\n"
   ]
  },
  {
   "cell_type": "code",
   "execution_count": null,
   "metadata": {},
   "outputs": [],
   "source": []
  }
 ],
 "metadata": {
  "kernelspec": {
   "display_name": "Python 3",
   "language": "python",
   "name": "python3"
  },
  "language_info": {
   "codemirror_mode": {
    "name": "ipython",
    "version": 3
   },
   "file_extension": ".py",
   "mimetype": "text/x-python",
   "name": "python",
   "nbconvert_exporter": "python",
   "pygments_lexer": "ipython3",
   "version": "3.6.6"
  }
 },
 "nbformat": 4,
 "nbformat_minor": 2
}

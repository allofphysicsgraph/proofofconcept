{
 "cells": [
  {
   "cell_type": "code",
   "execution_count": null,
   "metadata": {},
   "outputs": [],
   "source": [
    "import pandas\n",
    "pandas.__version__"
   ]
  },
  {
   "cell_type": "code",
   "execution_count": null,
   "metadata": {},
   "outputs": [],
   "source": [
    "pandas.set_option('display.max_columns', None)\n",
    "pandas.set_option('display.max_rows', None)\n",
    "#pandas.set_option('display.float_format', '{:f}'.format)"
   ]
  },
  {
   "cell_type": "markdown",
   "metadata": {},
   "source": [
    "# feeds"
   ]
  },
  {
   "cell_type": "code",
   "execution_count": null,
   "metadata": {},
   "outputs": [],
   "source": [
    "with open('../../v3_CSV/databases/feed_database.csv', 'r') as fil:\n",
    "    list_of_lines =fil.readlines()"
   ]
  },
  {
   "cell_type": "code",
   "execution_count": null,
   "metadata": {},
   "outputs": [],
   "source": [
    "list_of_tuples = []\n",
    "for this_line in list_of_lines:\n",
    "    line_as_list = this_line.rstrip().split(',')\n",
    "    tup = (line_as_list[0],'000'+line_as_list[0], line_as_list[1])\n",
    "    list_of_tuples.append(tup)"
   ]
  },
  {
   "cell_type": "code",
   "execution_count": null,
   "metadata": {},
   "outputs": [],
   "source": [
    "list_of_tuples[0:5]"
   ]
  },
  {
   "cell_type": "code",
   "execution_count": null,
   "metadata": {},
   "outputs": [],
   "source": [
    "# expressions\n",
    "for tup in list_of_tuples:\n",
    "    print(\"  '\"+tup[1]+\"': {'latex': '\"+tup[2].replace('\\\\','\\\\\\\\')+\"'},\")"
   ]
  },
  {
   "cell_type": "code",
   "execution_count": null,
   "metadata": {},
   "outputs": [],
   "source": [
    "# local to global\n",
    "for tup in list_of_tuples:\n",
    "    print(\"        '\"+tup[0]+\"': '\"+tup[1]+\"',\")"
   ]
  },
  {
   "cell_type": "code",
   "execution_count": null,
   "metadata": {},
   "outputs": [],
   "source": []
  },
  {
   "cell_type": "markdown",
   "metadata": {},
   "source": [
    "# expressions"
   ]
  },
  {
   "cell_type": "code",
   "execution_count": null,
   "metadata": {},
   "outputs": [],
   "source": [
    "# https://pandas.pydata.org/pandas-docs/stable/reference/api/pandas.read_fwf.html\n",
    "df = pandas.read_fwf('../../v3_CSV/databases/expressions_database.csv', \n",
    "                     widths=[10,1,10000], \n",
    "                     header=None,\n",
    "                     names=['global ID', 'sep', 'latex'])"
   ]
  },
  {
   "cell_type": "code",
   "execution_count": null,
   "metadata": {},
   "outputs": [],
   "source": [
    "df['global ID'] = df['global ID'].astype(str).str.rstrip('.0')"
   ]
  },
  {
   "cell_type": "code",
   "execution_count": null,
   "metadata": {},
   "outputs": [],
   "source": [
    "df.shape"
   ]
  },
  {
   "cell_type": "code",
   "execution_count": null,
   "metadata": {},
   "outputs": [],
   "source": [
    "df.head()"
   ]
  },
  {
   "cell_type": "code",
   "execution_count": null,
   "metadata": {},
   "outputs": [],
   "source": [
    "if True:\n",
    "    for indx, ths_row in df.iterrows():\n",
    "        row_as_dict = ths_row.to_dict()\n",
    "        print(\"  '\"+str(row_as_dict['global ID'])+\"': {'latex': '\"+\n",
    "              str(row_as_dict['latex']).replace('\\\\','\\\\\\\\').replace(\"'\",\"\\\\'\")+\"'},\")\n"
   ]
  },
  {
   "cell_type": "code",
   "execution_count": null,
   "metadata": {},
   "outputs": [],
   "source": []
  }
 ],
 "metadata": {
  "kernelspec": {
   "display_name": "Python 3",
   "language": "python",
   "name": "python3"
  },
  "language_info": {
   "codemirror_mode": {
    "name": "ipython",
    "version": 3
   },
   "file_extension": ".py",
   "mimetype": "text/x-python",
   "name": "python",
   "nbconvert_exporter": "python",
   "pygments_lexer": "ipython3",
   "version": "3.6.6"
  }
 },
 "nbformat": 4,
 "nbformat_minor": 2
}

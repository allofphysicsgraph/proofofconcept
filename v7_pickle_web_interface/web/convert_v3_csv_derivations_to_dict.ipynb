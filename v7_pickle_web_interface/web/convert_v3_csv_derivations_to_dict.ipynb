{
 "cells": [
  {
   "cell_type": "code",
   "execution_count": null,
   "metadata": {},
   "outputs": [],
   "source": [
    "import pandas\n",
    "pandas.__version__"
   ]
  },
  {
   "cell_type": "code",
   "execution_count": null,
   "metadata": {},
   "outputs": [],
   "source": [
    "pandas.set_option('display.max_columns', None)\n",
    "pandas.set_option('display.max_rows', None)"
   ]
  },
  {
   "cell_type": "code",
   "execution_count": null,
   "metadata": {},
   "outputs": [],
   "source": [
    "# https://pandas.pydata.org/pandas-docs/stable/reference/api/pandas.read_csv.html\n",
    "df = pandas.read_csv('../../v3_CSV/databases/connections_database.csv', \n",
    "                     header=None,\n",
    "                     sep=\"\\s*,\\s*\", engine='python',\n",
    "                     names=['derivation name', 'linear index', \n",
    "                            'input type', 'in local ID', 'in global ID',\n",
    "                            'output type', 'out local ID', 'out global ID'])"
   ]
  },
  {
   "cell_type": "code",
   "execution_count": null,
   "metadata": {},
   "outputs": [],
   "source": [
    "df['derivation name'] = df['derivation name'].str.replace('\"', '')\n",
    "df['input type'] = df['input type'].str.replace('\"', '')\n",
    "df['output type'] = df['output type'].str.replace('\"', '')"
   ]
  },
  {
   "cell_type": "code",
   "execution_count": null,
   "metadata": {},
   "outputs": [],
   "source": [
    "df.shape"
   ]
  },
  {
   "cell_type": "code",
   "execution_count": null,
   "metadata": {},
   "outputs": [],
   "source": [
    "df.head(23)"
   ]
  },
  {
   "cell_type": "code",
   "execution_count": null,
   "metadata": {},
   "outputs": [],
   "source": [
    "list_of_derivs = list(df['derivation name'].unique())"
   ]
  },
  {
   "cell_type": "markdown",
   "metadata": {},
   "source": [
    "# single derivation; \"expr local to global\""
   ]
  },
  {
   "cell_type": "code",
   "execution_count": null,
   "metadata": {},
   "outputs": [],
   "source": [
    "this_deriv_df = df[df['derivation name']==list_of_derivs[0]]"
   ]
  },
  {
   "cell_type": "code",
   "execution_count": null,
   "metadata": {},
   "outputs": [],
   "source": [
    "def get_expr_tuples_for_df(this_deriv_df):\n",
    "    list_of_expr_tuples = []\n",
    "    for indx, ths_row in this_deriv_df.iterrows():\n",
    "        row_as_dict = ths_row.to_dict()\n",
    "        if row_as_dict['input type'] == 'expression':\n",
    "            expr_tuple = (str(row_as_dict['in local ID']), row_as_dict['in global ID'])\n",
    "            list_of_expr_tuples.append(expr_tuple)\n",
    "        if row_as_dict['output type'] == 'expression':\n",
    "            expr_tuple = (str(row_as_dict['out local ID']), row_as_dict['out global ID'])\n",
    "            list_of_expr_tuples.append(expr_tuple)\n",
    "    return list(set(list_of_expr_tuples))"
   ]
  },
  {
   "cell_type": "code",
   "execution_count": null,
   "metadata": {},
   "outputs": [],
   "source": [
    "list_of_expr_tuples = get_expr_tuples_for_df(this_deriv_df)\n",
    "list_of_expr_tuples"
   ]
  },
  {
   "cell_type": "markdown",
   "metadata": {},
   "source": [
    "# single derivation; \"derivations\""
   ]
  },
  {
   "cell_type": "code",
   "execution_count": null,
   "metadata": {},
   "outputs": [],
   "source": [
    "list_of_derivs[0]"
   ]
  },
  {
   "cell_type": "code",
   "execution_count": null,
   "metadata": {},
   "outputs": [],
   "source": [
    "this_deriv_df = df[df['derivation name']==list_of_derivs[0]]"
   ]
  },
  {
   "cell_type": "code",
   "execution_count": null,
   "metadata": {},
   "outputs": [],
   "source": [
    "def get_step_IDs(this_deriv_df):\n",
    "    list_of_step_IDs = []\n",
    "    for indx, ths_row in this_deriv_df.iterrows():\n",
    "        row_as_dict = ths_row.to_dict()\n",
    "        if row_as_dict['input type']=='infrule':\n",
    "            list_of_step_IDs.append(row_as_dict['in local ID'])\n",
    "        elif row_as_dict['output type']=='infrule':\n",
    "            list_of_step_IDs.append(row_as_dict['out local ID'])\n",
    "\n",
    "    return list(set(list_of_step_IDs))"
   ]
  },
  {
   "cell_type": "code",
   "execution_count": null,
   "metadata": {},
   "outputs": [],
   "source": [
    "list_of_step_IDs = get_step_IDs(this_deriv_df)"
   ]
  },
  {
   "cell_type": "code",
   "execution_count": null,
   "metadata": {},
   "outputs": [],
   "source": [
    "list_of_step_IDs"
   ]
  },
  {
   "cell_type": "code",
   "execution_count": null,
   "metadata": {},
   "outputs": [],
   "source": [
    "def extract_printable_steps(list_of_step_IDs, this_deriv_df):\n",
    "    dict_of_steps = {}\n",
    "    for step_ID in list_of_step_IDs:\n",
    "        step_str=\"\"\n",
    "        #print('step_ID =', step_ID)\n",
    "        list_of_dicts_for_this_step = []\n",
    "        for indx, ths_row in this_deriv_df.iterrows():\n",
    "            #print(ths_row.to_dict())\n",
    "            row_as_dict = ths_row.to_dict()\n",
    "            if row_as_dict['input type'] == 'infrule' and row_as_dict['in local ID']==step_ID:\n",
    "                list_of_dicts_for_this_step.append(row_as_dict)\n",
    "            if row_as_dict['output type'] == 'infrule' and row_as_dict['out local ID']==step_ID:\n",
    "                list_of_dicts_for_this_step.append(row_as_dict)\n",
    "\n",
    "    #    print(list_of_dicts_for_this_step)\n",
    "\n",
    "        for sub_dict in list_of_dicts_for_this_step:\n",
    "            if sub_dict['input type']=='infrule':\n",
    "                inf_rule = sub_dict['in global ID']\n",
    "            if sub_dict['output type']=='infrule':\n",
    "                inf_rule = sub_dict['out global ID']\n",
    "        step_str+=(\"     '\"+str(step_ID)+\"': {'inf rule': '\"+inf_rule+\"',\\n\")\n",
    "        \n",
    "        list_of_input_expr_local_ID = []\n",
    "        for sub_dict in list_of_dicts_for_this_step:\n",
    "            if sub_dict['input type']=='expression':\n",
    "                list_of_input_expr_local_ID.append(sub_dict['in local ID'])\n",
    "        list_of_input_expr_local_ID = list(set(list_of_input_expr_local_ID))\n",
    "        # https://stackoverflow.com/questions/3590165/join-a-list-of-items-with-different-types-as-string-in-python\n",
    "        list_of_input_expr_local_ID = ', '.join(\"'\"+str(x)+\"'\" for x in list_of_input_expr_local_ID)\n",
    "        step_str+=(\"                 'inputs':  [\"+str(list_of_input_expr_local_ID)+\"],\\n\" )\n",
    "        \n",
    "        list_of_input_expr_local_ID = []\n",
    "        for sub_dict in list_of_dicts_for_this_step:\n",
    "            if sub_dict['input type']=='feed':\n",
    "                list_of_input_expr_local_ID.append(sub_dict['in local ID'])\n",
    "        list_of_input_expr_local_ID = list(set(list_of_input_expr_local_ID))\n",
    "        list_of_input_expr_local_ID = ', '.join(\"'\"+str(x)+\"'\" for x in list_of_input_expr_local_ID)\n",
    "        step_str+=(\"                 'feeds':   [\"+str(list_of_input_expr_local_ID)+\"],\\n\" )\n",
    "\n",
    "        list_of_input_expr_local_ID = []\n",
    "        for sub_dict in list_of_dicts_for_this_step:\n",
    "            if sub_dict['output type']=='expression':\n",
    "                list_of_input_expr_local_ID.append(sub_dict['out local ID'])\n",
    "        list_of_input_expr_local_ID = list(set(list_of_input_expr_local_ID))\n",
    "        list_of_input_expr_local_ID = ', '.join(\"'\"+str(x)+\"'\" for x in list_of_input_expr_local_ID)\n",
    "        step_str+=(\"                 'outputs': [\"+list_of_input_expr_local_ID+\"],\\n\" )\n",
    "\n",
    "        step_str+=(\"                 'linear index': \"+str(list_of_dicts_for_this_step[0]['linear index'])+\"},\")\n",
    "\n",
    "        dict_of_steps[list_of_dicts_for_this_step[0]['linear index']] = step_str\n",
    "\n",
    "    return dict_of_steps"
   ]
  },
  {
   "cell_type": "code",
   "execution_count": null,
   "metadata": {},
   "outputs": [],
   "source": [
    "dict_of_steps = extract_printable_steps(list_of_step_IDs, this_deriv_df)"
   ]
  },
  {
   "cell_type": "code",
   "execution_count": null,
   "metadata": {},
   "outputs": [],
   "source": [
    "list_of_linindx = list(dict_of_steps.keys())\n",
    "list_of_linindx.sort()\n",
    "for linindx in list_of_linindx:\n",
    "    print(dict_of_steps[linindx])"
   ]
  },
  {
   "cell_type": "markdown",
   "metadata": {},
   "source": [
    "# all the derivations"
   ]
  },
  {
   "cell_type": "code",
   "execution_count": null,
   "metadata": {},
   "outputs": [],
   "source": [
    "for this_d in list_of_derivs:\n",
    "    this_deriv_df = df[df['derivation name']==this_d]\n",
    "    list_of_expr_tuples = get_expr_tuples_for_df(this_deriv_df)\n",
    "    print('# '+this_d)\n",
    "    for this_tup in list_of_expr_tuples:\n",
    "        print(\"        '\"+this_tup[0]+\"': '\"+this_tup[1]+\"',\")"
   ]
  },
  {
   "cell_type": "code",
   "execution_count": null,
   "metadata": {},
   "outputs": [],
   "source": [
    "for this_d in list_of_derivs:\n",
    "    this_deriv_df = df[df['derivation name']==this_d]\n",
    "    list_of_step_IDs = get_step_IDs(this_deriv_df)\n",
    "    dict_of_steps = extract_printable_steps(list_of_step_IDs, this_deriv_df)\n",
    "    list_of_linindx = list(dict_of_steps.keys())\n",
    "    list_of_linindx.sort()\n",
    "    print(\"  '\"+this_d+\"': {\")\n",
    "    for linindx in list_of_linindx:\n",
    "        print(dict_of_steps[linindx])\n",
    "    print(\"      },\")"
   ]
  },
  {
   "cell_type": "code",
   "execution_count": null,
   "metadata": {},
   "outputs": [],
   "source": []
  }
 ],
 "metadata": {
  "kernelspec": {
   "display_name": "Python 3",
   "language": "python",
   "name": "python3"
  },
  "language_info": {
   "codemirror_mode": {
    "name": "ipython",
    "version": 3
   },
   "file_extension": ".py",
   "mimetype": "text/x-python",
   "name": "python",
   "nbconvert_exporter": "python",
   "pygments_lexer": "ipython3",
   "version": "3.6.6"
  }
 },
 "nbformat": 4,
 "nbformat_minor": 2
}

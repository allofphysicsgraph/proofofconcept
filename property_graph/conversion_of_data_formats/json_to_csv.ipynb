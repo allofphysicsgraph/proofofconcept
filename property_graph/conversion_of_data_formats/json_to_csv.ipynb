{
 "cells": [
  {
   "cell_type": "markdown",
   "id": "c54104c4-c4e8-4bbb-89f6-0ce36577c8b6",
   "metadata": {},
   "source": [
    "Convert the Physics Derivation Graph's v7 JSON format to SQL for variables, units, etc"
   ]
  },
  {
   "cell_type": "code",
   "execution_count": 1,
   "id": "8602c4dc-2463-4b97-bbb2-32f4d90fccc8",
   "metadata": {},
   "outputs": [],
   "source": [
    "import json\n",
    "import pandas\n",
    "import sqlite3\n",
    "import time"
   ]
  },
  {
   "cell_type": "markdown",
   "id": "cdcd9b95-9af0-4bde-931c-c34c432512b6",
   "metadata": {},
   "source": [
    "# data"
   ]
  },
  {
   "cell_type": "code",
   "execution_count": 2,
   "id": "bfbf85e0-2548-45a4-bfc0-64a862d98912",
   "metadata": {},
   "outputs": [],
   "source": [
    "with open('../../v7_pickle_web_interface/flask/data.json','r') as file_handle:\n",
    "    data = json.loads(file_handle.read())"
   ]
  },
  {
   "cell_type": "code",
   "execution_count": 3,
   "id": "6a4a14a5-c7d2-4b87-bcb9-5566a83f06b3",
   "metadata": {},
   "outputs": [
    {
     "data": {
      "text/plain": [
       "dict_keys(['derivations', 'expr local to global', 'expressions', 'inference rules', 'measures', 'operators', 'symbols', 'units'])"
      ]
     },
     "execution_count": 3,
     "metadata": {},
     "output_type": "execute_result"
    }
   ],
   "source": [
    "data.keys()"
   ]
  },
  {
   "cell_type": "markdown",
   "id": "99d28266-f9a4-4d64-b4b4-f2008fcf1e08",
   "metadata": {
    "jupyter": {
     "outputs_hidden": true
    },
    "tags": []
   },
   "source": [
    "The following top-level JSON keys get converted to CSV in this notebook: \n",
    "* inference rules\n",
    "* measures\n",
    "* operators\n",
    "* symbols\n",
    "* units\n",
    "\n",
    "The top-level JSON keys\n",
    "* derivations\n",
    "* expressions\n",
    "are stored in a property graph\n",
    "\n",
    "`expr local to global` is made irrelevant by the use of a property graph"
   ]
  },
  {
   "cell_type": "markdown",
   "id": "47663a8f-0552-44f2-98a4-eec784e533aa",
   "metadata": {},
   "source": [
    "# units"
   ]
  },
  {
   "cell_type": "code",
   "execution_count": 4,
   "id": "a577c144-0299-4eb1-be85-998cd9d4eea7",
   "metadata": {},
   "outputs": [
    {
     "data": {
      "text/plain": [
       "dict_keys(['Ampere', 'Farad', 'Kelvin', 'Tesla', 'hand', 'kilogram', 'light-year', 'meter', 'mol', 'parsec', 'second', 'sol'])"
      ]
     },
     "execution_count": 4,
     "metadata": {},
     "output_type": "execute_result"
    }
   ],
   "source": [
    "data['units'].keys()"
   ]
  },
  {
   "cell_type": "code",
   "execution_count": 5,
   "id": "b1acea38-43ac-4437-86c9-3fae6f635c83",
   "metadata": {},
   "outputs": [],
   "source": [
    "list_of_unit_dicts=[]\n",
    "list_of_unit_references = []\n",
    "for unit_name, unit_dict in data['units'].items():\n",
    "    this_unit = {}\n",
    "    this_unit['unit_name_text'] = unit_name\n",
    "    #print(unit_dict.keys())\n",
    "    this_unit[\"measure\"]=unit_dict['measure']\n",
    "    for name, val in unit_dict['dimensions'].items():\n",
    "        this_unit[name] = val\n",
    "    #print(unit_dict['references'])\n",
    "    for this_ref in eval(str(unit_dict['references'])):\n",
    "        list_of_unit_references.append({'unit_name_text': unit_name,\n",
    "                                        'reference_URL': this_ref})\n",
    "    list_of_unit_dicts.append(this_unit)"
   ]
  },
  {
   "cell_type": "code",
   "execution_count": 6,
   "id": "eb8b9702-3216-49c4-aced-46b39a78b392",
   "metadata": {},
   "outputs": [
    {
     "data": {
      "text/html": [
       "<div>\n",
       "<style scoped>\n",
       "    .dataframe tbody tr th:only-of-type {\n",
       "        vertical-align: middle;\n",
       "    }\n",
       "\n",
       "    .dataframe tbody tr th {\n",
       "        vertical-align: top;\n",
       "    }\n",
       "\n",
       "    .dataframe thead th {\n",
       "        text-align: right;\n",
       "    }\n",
       "</style>\n",
       "<table border=\"1\" class=\"dataframe\">\n",
       "  <thead>\n",
       "    <tr style=\"text-align: right;\">\n",
       "      <th></th>\n",
       "      <th>unit_name_text</th>\n",
       "      <th>measure</th>\n",
       "      <th>length</th>\n",
       "      <th>time</th>\n",
       "      <th>mass</th>\n",
       "      <th>temperature</th>\n",
       "      <th>electric charge</th>\n",
       "      <th>amount of substance</th>\n",
       "      <th>luminous intensity</th>\n",
       "    </tr>\n",
       "  </thead>\n",
       "  <tbody>\n",
       "    <tr>\n",
       "      <th>0</th>\n",
       "      <td>Ampere</td>\n",
       "      <td>electric current</td>\n",
       "      <td>0</td>\n",
       "      <td>-1</td>\n",
       "      <td>0</td>\n",
       "      <td>0</td>\n",
       "      <td>1</td>\n",
       "      <td>0</td>\n",
       "      <td>0</td>\n",
       "    </tr>\n",
       "    <tr>\n",
       "      <th>1</th>\n",
       "      <td>Farad</td>\n",
       "      <td>capacitance</td>\n",
       "      <td>-2</td>\n",
       "      <td>4</td>\n",
       "      <td>-1</td>\n",
       "      <td>0</td>\n",
       "      <td>2</td>\n",
       "      <td>0</td>\n",
       "      <td>0</td>\n",
       "    </tr>\n",
       "    <tr>\n",
       "      <th>2</th>\n",
       "      <td>Kelvin</td>\n",
       "      <td>temperature</td>\n",
       "      <td>0</td>\n",
       "      <td>0</td>\n",
       "      <td>0</td>\n",
       "      <td>1</td>\n",
       "      <td>0</td>\n",
       "      <td>0</td>\n",
       "      <td>0</td>\n",
       "    </tr>\n",
       "    <tr>\n",
       "      <th>3</th>\n",
       "      <td>Tesla</td>\n",
       "      <td>magnetic field</td>\n",
       "      <td>0</td>\n",
       "      <td>-1</td>\n",
       "      <td>1</td>\n",
       "      <td>0</td>\n",
       "      <td>-1</td>\n",
       "      <td>0</td>\n",
       "      <td>0</td>\n",
       "    </tr>\n",
       "    <tr>\n",
       "      <th>4</th>\n",
       "      <td>hand</td>\n",
       "      <td>length</td>\n",
       "      <td>1</td>\n",
       "      <td>0</td>\n",
       "      <td>0</td>\n",
       "      <td>0</td>\n",
       "      <td>0</td>\n",
       "      <td>0</td>\n",
       "      <td>0</td>\n",
       "    </tr>\n",
       "    <tr>\n",
       "      <th>5</th>\n",
       "      <td>kilogram</td>\n",
       "      <td>mass</td>\n",
       "      <td>0</td>\n",
       "      <td>0</td>\n",
       "      <td>1</td>\n",
       "      <td>0</td>\n",
       "      <td>0</td>\n",
       "      <td>0</td>\n",
       "      <td>0</td>\n",
       "    </tr>\n",
       "    <tr>\n",
       "      <th>6</th>\n",
       "      <td>light-year</td>\n",
       "      <td>length</td>\n",
       "      <td>1</td>\n",
       "      <td>0</td>\n",
       "      <td>0</td>\n",
       "      <td>0</td>\n",
       "      <td>0</td>\n",
       "      <td>0</td>\n",
       "      <td>0</td>\n",
       "    </tr>\n",
       "    <tr>\n",
       "      <th>7</th>\n",
       "      <td>meter</td>\n",
       "      <td>length</td>\n",
       "      <td>1</td>\n",
       "      <td>0</td>\n",
       "      <td>0</td>\n",
       "      <td>0</td>\n",
       "      <td>0</td>\n",
       "      <td>0</td>\n",
       "      <td>0</td>\n",
       "    </tr>\n",
       "    <tr>\n",
       "      <th>8</th>\n",
       "      <td>mol</td>\n",
       "      <td>amount of substance</td>\n",
       "      <td>0</td>\n",
       "      <td>0</td>\n",
       "      <td>0</td>\n",
       "      <td>0</td>\n",
       "      <td>0</td>\n",
       "      <td>1</td>\n",
       "      <td>0</td>\n",
       "    </tr>\n",
       "    <tr>\n",
       "      <th>9</th>\n",
       "      <td>parsec</td>\n",
       "      <td>length</td>\n",
       "      <td>1</td>\n",
       "      <td>0</td>\n",
       "      <td>0</td>\n",
       "      <td>0</td>\n",
       "      <td>0</td>\n",
       "      <td>0</td>\n",
       "      <td>0</td>\n",
       "    </tr>\n",
       "    <tr>\n",
       "      <th>10</th>\n",
       "      <td>second</td>\n",
       "      <td>time</td>\n",
       "      <td>0</td>\n",
       "      <td>1</td>\n",
       "      <td>0</td>\n",
       "      <td>0</td>\n",
       "      <td>0</td>\n",
       "      <td>0</td>\n",
       "      <td>0</td>\n",
       "    </tr>\n",
       "    <tr>\n",
       "      <th>11</th>\n",
       "      <td>sol</td>\n",
       "      <td>time</td>\n",
       "      <td>0</td>\n",
       "      <td>1</td>\n",
       "      <td>0</td>\n",
       "      <td>0</td>\n",
       "      <td>0</td>\n",
       "      <td>0</td>\n",
       "      <td>0</td>\n",
       "    </tr>\n",
       "  </tbody>\n",
       "</table>\n",
       "</div>"
      ],
      "text/plain": [
       "   unit_name_text              measure  length  time  mass  temperature  \\\n",
       "0          Ampere     electric current       0    -1     0            0   \n",
       "1           Farad          capacitance      -2     4    -1            0   \n",
       "2          Kelvin          temperature       0     0     0            1   \n",
       "3           Tesla       magnetic field       0    -1     1            0   \n",
       "4            hand               length       1     0     0            0   \n",
       "5        kilogram                 mass       0     0     1            0   \n",
       "6      light-year               length       1     0     0            0   \n",
       "7           meter               length       1     0     0            0   \n",
       "8             mol  amount of substance       0     0     0            0   \n",
       "9          parsec               length       1     0     0            0   \n",
       "10         second                 time       0     1     0            0   \n",
       "11            sol                 time       0     1     0            0   \n",
       "\n",
       "    electric charge  amount of substance  luminous intensity  \n",
       "0                 1                    0                   0  \n",
       "1                 2                    0                   0  \n",
       "2                 0                    0                   0  \n",
       "3                -1                    0                   0  \n",
       "4                 0                    0                   0  \n",
       "5                 0                    0                   0  \n",
       "6                 0                    0                   0  \n",
       "7                 0                    0                   0  \n",
       "8                 0                    1                   0  \n",
       "9                 0                    0                   0  \n",
       "10                0                    0                   0  \n",
       "11                0                    0                   0  "
      ]
     },
     "execution_count": 6,
     "metadata": {},
     "output_type": "execute_result"
    }
   ],
   "source": [
    "df_units = pandas.DataFrame(list_of_unit_dicts)\n",
    "df_units"
   ]
  },
  {
   "cell_type": "code",
   "execution_count": 7,
   "id": "0b2a79a1-3381-4110-a0c2-7d5c5b01ea55",
   "metadata": {},
   "outputs": [
    {
     "data": {
      "text/html": [
       "<div>\n",
       "<style scoped>\n",
       "    .dataframe tbody tr th:only-of-type {\n",
       "        vertical-align: middle;\n",
       "    }\n",
       "\n",
       "    .dataframe tbody tr th {\n",
       "        vertical-align: top;\n",
       "    }\n",
       "\n",
       "    .dataframe thead th {\n",
       "        text-align: right;\n",
       "    }\n",
       "</style>\n",
       "<table border=\"1\" class=\"dataframe\">\n",
       "  <thead>\n",
       "    <tr style=\"text-align: right;\">\n",
       "      <th></th>\n",
       "      <th>unit_name_text</th>\n",
       "      <th>reference_URL</th>\n",
       "    </tr>\n",
       "  </thead>\n",
       "  <tbody>\n",
       "    <tr>\n",
       "      <th>0</th>\n",
       "      <td>Ampere</td>\n",
       "      <td>https://en.wikipedia.org/wiki/Ampere</td>\n",
       "    </tr>\n",
       "    <tr>\n",
       "      <th>1</th>\n",
       "      <td>Farad</td>\n",
       "      <td>https://en.wikipedia.org/wiki/Farad</td>\n",
       "    </tr>\n",
       "    <tr>\n",
       "      <th>2</th>\n",
       "      <td>Kelvin</td>\n",
       "      <td>https://en.wikipedia.org/wiki/Kelvin</td>\n",
       "    </tr>\n",
       "    <tr>\n",
       "      <th>3</th>\n",
       "      <td>Tesla</td>\n",
       "      <td>https://en.wikipedia.org/wiki/Tesla_(unit)</td>\n",
       "    </tr>\n",
       "    <tr>\n",
       "      <th>4</th>\n",
       "      <td>hand</td>\n",
       "      <td>https://en.wikipedia.org/wiki/Hand_(unit)</td>\n",
       "    </tr>\n",
       "    <tr>\n",
       "      <th>5</th>\n",
       "      <td>kilogram</td>\n",
       "      <td>https://en.wikipedia.org/wiki/Kilogram</td>\n",
       "    </tr>\n",
       "    <tr>\n",
       "      <th>6</th>\n",
       "      <td>kilogram</td>\n",
       "      <td>https://www.wikidata.org/wiki/Q11570</td>\n",
       "    </tr>\n",
       "    <tr>\n",
       "      <th>7</th>\n",
       "      <td>light-year</td>\n",
       "      <td>https://en.wikipedia.org/wiki/Light-year</td>\n",
       "    </tr>\n",
       "    <tr>\n",
       "      <th>8</th>\n",
       "      <td>meter</td>\n",
       "      <td>https://en.wikipedia.org/wiki/Metre</td>\n",
       "    </tr>\n",
       "    <tr>\n",
       "      <th>9</th>\n",
       "      <td>mol</td>\n",
       "      <td>https://en.wikipedia.org/wiki/Mole_(unit)</td>\n",
       "    </tr>\n",
       "    <tr>\n",
       "      <th>10</th>\n",
       "      <td>parsec</td>\n",
       "      <td>https://en.wikipedia.org/wiki/Parsec</td>\n",
       "    </tr>\n",
       "    <tr>\n",
       "      <th>11</th>\n",
       "      <td>second</td>\n",
       "      <td>https://en.wikipedia.org/wiki/Second</td>\n",
       "    </tr>\n",
       "    <tr>\n",
       "      <th>12</th>\n",
       "      <td>sol</td>\n",
       "      <td>https://en.wikipedia.org/wiki/Sol_(day_on_Mars)</td>\n",
       "    </tr>\n",
       "  </tbody>\n",
       "</table>\n",
       "</div>"
      ],
      "text/plain": [
       "   unit_name_text                                    reference_URL\n",
       "0          Ampere             https://en.wikipedia.org/wiki/Ampere\n",
       "1           Farad              https://en.wikipedia.org/wiki/Farad\n",
       "2          Kelvin             https://en.wikipedia.org/wiki/Kelvin\n",
       "3           Tesla       https://en.wikipedia.org/wiki/Tesla_(unit)\n",
       "4            hand        https://en.wikipedia.org/wiki/Hand_(unit)\n",
       "5        kilogram           https://en.wikipedia.org/wiki/Kilogram\n",
       "6        kilogram             https://www.wikidata.org/wiki/Q11570\n",
       "7      light-year         https://en.wikipedia.org/wiki/Light-year\n",
       "8           meter              https://en.wikipedia.org/wiki/Metre\n",
       "9             mol        https://en.wikipedia.org/wiki/Mole_(unit)\n",
       "10         parsec             https://en.wikipedia.org/wiki/Parsec\n",
       "11         second             https://en.wikipedia.org/wiki/Second\n",
       "12            sol  https://en.wikipedia.org/wiki/Sol_(day_on_Mars)"
      ]
     },
     "execution_count": 7,
     "metadata": {},
     "output_type": "execute_result"
    }
   ],
   "source": [
    "df_unit_references = pandas.DataFrame(list_of_unit_references)\n",
    "df_unit_references"
   ]
  },
  {
   "cell_type": "markdown",
   "id": "100bebcf-bcd7-4f3e-b606-403325915c81",
   "metadata": {},
   "source": [
    "# symbols"
   ]
  },
  {
   "cell_type": "code",
   "execution_count": 8,
   "id": "fb468895-f02e-46bc-9ed5-41614da5f2af",
   "metadata": {
    "tags": []
   },
   "outputs": [],
   "source": [
    "list_of_symbol_dicts=[]\n",
    "list_of_symbol_references = []\n",
    "list_of_symbol_scope = []\n",
    "for symbol_id, symbol_dict in data['symbols'].items():\n",
    "    #print(symbol_id)\n",
    "    this_symbol={}\n",
    "    this_symbol['symbol_ID'] = symbol_id\n",
    "    #print(symbol_dict.keys())\n",
    "    this_symbol['category'] = symbol_dict['category']\n",
    "    this_symbol['author'] = symbol_dict['author']\n",
    "    this_symbol['creation_date'] = symbol_dict['creation date']\n",
    "    this_symbol['latex'] = symbol_dict['latex']\n",
    "    if 'references' in this_symbol.keys():\n",
    "        for this_ref in symbol_dict['references']:\n",
    "            list_of_symbol_references.append({'symbol_ID': symbol_id, \n",
    "                                              'reference_URL': this_ref})\n",
    "\n",
    "    for name, val in symbol_dict['dimensions'].items():\n",
    "            this_symbol[name] = val\n",
    "    if 'name' in this_symbol.keys():\n",
    "        this_symbol['name'] = symbol_dict['name']\n",
    "    else:\n",
    "        this_symbol['name'] = \"\"\n",
    "    if isinstance(symbol_dict['scope'], list):\n",
    "        for this_scope in symbol_dict['scope']:\n",
    "            list_of_symbol_scope.append({'symbol_ID': symbol_id, \n",
    "                                         'scope': this_scope})\n",
    "    elif isinstance(symbol_dict['scope'], str):\n",
    "        list_of_symbol_scope.append({'symbol_ID': symbol_id, \n",
    "                                     'scope':symbol_dict['scope']})\n",
    "    else:\n",
    "        print(\"ERROR: unrecognized type for \")\n",
    "        print(symbol_dict['scope'])\n",
    "    list_of_symbol_dicts.append(this_symbol)"
   ]
  },
  {
   "cell_type": "code",
   "execution_count": 9,
   "id": "a40ba526-2b8d-4861-b758-0df8146bf65e",
   "metadata": {},
   "outputs": [
    {
     "data": {
      "text/html": [
       "<div>\n",
       "<style scoped>\n",
       "    .dataframe tbody tr th:only-of-type {\n",
       "        vertical-align: middle;\n",
       "    }\n",
       "\n",
       "    .dataframe tbody tr th {\n",
       "        vertical-align: top;\n",
       "    }\n",
       "\n",
       "    .dataframe thead th {\n",
       "        text-align: right;\n",
       "    }\n",
       "</style>\n",
       "<table border=\"1\" class=\"dataframe\">\n",
       "  <thead>\n",
       "    <tr style=\"text-align: right;\">\n",
       "      <th></th>\n",
       "      <th>symbol_ID</th>\n",
       "      <th>category</th>\n",
       "      <th>author</th>\n",
       "      <th>creation_date</th>\n",
       "      <th>latex</th>\n",
       "      <th>length</th>\n",
       "      <th>time</th>\n",
       "      <th>mass</th>\n",
       "      <th>temperature</th>\n",
       "      <th>electric charge</th>\n",
       "      <th>amount of substance</th>\n",
       "      <th>luminous intensity</th>\n",
       "      <th>name</th>\n",
       "    </tr>\n",
       "  </thead>\n",
       "  <tbody>\n",
       "    <tr>\n",
       "      <th>0</th>\n",
       "      <td>2321</td>\n",
       "      <td>variable</td>\n",
       "      <td>4a0987466473c589d2c328d12856760e</td>\n",
       "      <td>2020-04-26</td>\n",
       "      <td>\\omega</td>\n",
       "      <td>0</td>\n",
       "      <td>-1</td>\n",
       "      <td>0</td>\n",
       "      <td>0</td>\n",
       "      <td>0</td>\n",
       "      <td>0</td>\n",
       "      <td>0</td>\n",
       "      <td></td>\n",
       "    </tr>\n",
       "    <tr>\n",
       "      <th>1</th>\n",
       "      <td>2941</td>\n",
       "      <td>variable</td>\n",
       "      <td>4a0987466473c589d2c328d12856760e</td>\n",
       "      <td>2020-04-26</td>\n",
       "      <td>n_1</td>\n",
       "      <td>0</td>\n",
       "      <td>0</td>\n",
       "      <td>0</td>\n",
       "      <td>0</td>\n",
       "      <td>0</td>\n",
       "      <td>0</td>\n",
       "      <td>0</td>\n",
       "      <td></td>\n",
       "    </tr>\n",
       "    <tr>\n",
       "      <th>2</th>\n",
       "      <td>4929</td>\n",
       "      <td>variable</td>\n",
       "      <td>4a0987466473c589d2c328d12856760e</td>\n",
       "      <td>2020-04-26</td>\n",
       "      <td>KE</td>\n",
       "      <td>2</td>\n",
       "      <td>-2</td>\n",
       "      <td>1</td>\n",
       "      <td>0</td>\n",
       "      <td>0</td>\n",
       "      <td>0</td>\n",
       "      <td>0</td>\n",
       "      <td></td>\n",
       "    </tr>\n",
       "    <tr>\n",
       "      <th>3</th>\n",
       "      <td>4930</td>\n",
       "      <td>variable</td>\n",
       "      <td>4a0987466473c589d2c328d12856760e</td>\n",
       "      <td>2020-04-26</td>\n",
       "      <td>PE</td>\n",
       "      <td>2</td>\n",
       "      <td>-2</td>\n",
       "      <td>1</td>\n",
       "      <td>0</td>\n",
       "      <td>0</td>\n",
       "      <td>0</td>\n",
       "      <td>0</td>\n",
       "      <td></td>\n",
       "    </tr>\n",
       "    <tr>\n",
       "      <th>4</th>\n",
       "      <td>4931</td>\n",
       "      <td>variable</td>\n",
       "      <td>4a0987466473c589d2c328d12856760e</td>\n",
       "      <td>2020-04-26</td>\n",
       "      <td>E</td>\n",
       "      <td>2</td>\n",
       "      <td>-2</td>\n",
       "      <td>1</td>\n",
       "      <td>0</td>\n",
       "      <td>0</td>\n",
       "      <td>0</td>\n",
       "      <td>0</td>\n",
       "      <td></td>\n",
       "    </tr>\n",
       "  </tbody>\n",
       "</table>\n",
       "</div>"
      ],
      "text/plain": [
       "  symbol_ID  category                            author creation_date   latex  \\\n",
       "0      2321  variable  4a0987466473c589d2c328d12856760e    2020-04-26  \\omega   \n",
       "1      2941  variable  4a0987466473c589d2c328d12856760e    2020-04-26     n_1   \n",
       "2      4929  variable  4a0987466473c589d2c328d12856760e    2020-04-26      KE   \n",
       "3      4930  variable  4a0987466473c589d2c328d12856760e    2020-04-26      PE   \n",
       "4      4931  variable  4a0987466473c589d2c328d12856760e    2020-04-26       E   \n",
       "\n",
       "   length  time  mass  temperature  electric charge  amount of substance  \\\n",
       "0       0    -1     0            0                0                    0   \n",
       "1       0     0     0            0                0                    0   \n",
       "2       2    -2     1            0                0                    0   \n",
       "3       2    -2     1            0                0                    0   \n",
       "4       2    -2     1            0                0                    0   \n",
       "\n",
       "   luminous intensity name  \n",
       "0                   0       \n",
       "1                   0       \n",
       "2                   0       \n",
       "3                   0       \n",
       "4                   0       "
      ]
     },
     "execution_count": 9,
     "metadata": {},
     "output_type": "execute_result"
    }
   ],
   "source": [
    "df_symbols = pandas.DataFrame(list_of_symbol_dicts)\n",
    "df_symbols.head()"
   ]
  },
  {
   "cell_type": "code",
   "execution_count": 10,
   "id": "b7e95927-5764-46bb-a2dd-63cb0b4fb012",
   "metadata": {},
   "outputs": [
    {
     "data": {
      "text/plain": [
       "True"
      ]
     },
     "execution_count": 10,
     "metadata": {},
     "output_type": "execute_result"
    }
   ],
   "source": [
    "df_symbol_references = pandas.DataFrame(list_of_symbol_references)\n",
    "df_symbol_references.empty"
   ]
  },
  {
   "cell_type": "code",
   "execution_count": 11,
   "id": "342e5abc-929d-47f5-aa5f-4a71b8fbd4d9",
   "metadata": {},
   "outputs": [
    {
     "data": {
      "text/html": [
       "<div>\n",
       "<style scoped>\n",
       "    .dataframe tbody tr th:only-of-type {\n",
       "        vertical-align: middle;\n",
       "    }\n",
       "\n",
       "    .dataframe tbody tr th {\n",
       "        vertical-align: top;\n",
       "    }\n",
       "\n",
       "    .dataframe thead th {\n",
       "        text-align: right;\n",
       "    }\n",
       "</style>\n",
       "<table border=\"1\" class=\"dataframe\">\n",
       "  <thead>\n",
       "    <tr style=\"text-align: right;\">\n",
       "      <th></th>\n",
       "      <th>symbol_ID</th>\n",
       "      <th>scope</th>\n",
       "    </tr>\n",
       "  </thead>\n",
       "  <tbody>\n",
       "    <tr>\n",
       "      <th>0</th>\n",
       "      <td>2321</td>\n",
       "      <td>real</td>\n",
       "    </tr>\n",
       "    <tr>\n",
       "      <th>1</th>\n",
       "      <td>2941</td>\n",
       "      <td>real</td>\n",
       "    </tr>\n",
       "    <tr>\n",
       "      <th>2</th>\n",
       "      <td>4929</td>\n",
       "      <td>real</td>\n",
       "    </tr>\n",
       "    <tr>\n",
       "      <th>3</th>\n",
       "      <td>4930</td>\n",
       "      <td>real</td>\n",
       "    </tr>\n",
       "    <tr>\n",
       "      <th>4</th>\n",
       "      <td>4931</td>\n",
       "      <td>real</td>\n",
       "    </tr>\n",
       "  </tbody>\n",
       "</table>\n",
       "</div>"
      ],
      "text/plain": [
       "  symbol_ID scope\n",
       "0      2321  real\n",
       "1      2941  real\n",
       "2      4929  real\n",
       "3      4930  real\n",
       "4      4931  real"
      ]
     },
     "execution_count": 11,
     "metadata": {},
     "output_type": "execute_result"
    }
   ],
   "source": [
    "df_symbol_scope = pandas.DataFrame(list_of_symbol_scope)\n",
    "df_symbol_scope.head()"
   ]
  },
  {
   "cell_type": "markdown",
   "id": "2e5d025c-7930-4db5-a60e-52be37383bc4",
   "metadata": {},
   "source": [
    "# operators"
   ]
  },
  {
   "cell_type": "code",
   "execution_count": 12,
   "id": "093f891c-fee4-4184-b687-533b3d59cbc1",
   "metadata": {
    "tags": []
   },
   "outputs": [],
   "source": [
    "list_of_operator_dicts=[]\n",
    "list_of_operator_scope_dicts = []\n",
    "list_of_operator_macros = []\n",
    "\n",
    "for operator_name, op_dict in data['operators'].items():\n",
    "    this_operator_dict = {}\n",
    "    this_operator_dict['operator_name_text'] = operator_name\n",
    "    this_operator_dict['integer_argument_count'] = op_dict['argument count']\n",
    "    this_operator_dict['latex'] = op_dict['latex']\n",
    "\n",
    "    for this_macro in op_dict['latex macros']:\n",
    "        list_of_operator_macros.append({'operator_name_text':operator_name, \n",
    "                                        'macro': this_macro})\n",
    "    list_of_operator_dicts.append(this_operator_dict)\n",
    "    \n",
    "    for this_scope in op_dict['scope']:\n",
    "        list_of_operator_scope_dicts.append({'operator_name_text':operator_name, \n",
    "                                              'scope':this_scope})"
   ]
  },
  {
   "cell_type": "code",
   "execution_count": 13,
   "id": "7bb2f9e8-b68b-474a-8eb6-47b9d00fa101",
   "metadata": {},
   "outputs": [
    {
     "data": {
      "text/plain": [
       "(18, 3)"
      ]
     },
     "execution_count": 13,
     "metadata": {},
     "output_type": "execute_result"
    }
   ],
   "source": [
    "df_operators = pandas.DataFrame(list_of_operator_dicts)\n",
    "df_operators.shape"
   ]
  },
  {
   "cell_type": "code",
   "execution_count": 14,
   "id": "97ad1e9c-2811-4f5c-be4a-2598901959bf",
   "metadata": {},
   "outputs": [
    {
     "data": {
      "text/html": [
       "<div>\n",
       "<style scoped>\n",
       "    .dataframe tbody tr th:only-of-type {\n",
       "        vertical-align: middle;\n",
       "    }\n",
       "\n",
       "    .dataframe tbody tr th {\n",
       "        vertical-align: top;\n",
       "    }\n",
       "\n",
       "    .dataframe thead th {\n",
       "        text-align: right;\n",
       "    }\n",
       "</style>\n",
       "<table border=\"1\" class=\"dataframe\">\n",
       "  <thead>\n",
       "    <tr style=\"text-align: right;\">\n",
       "      <th></th>\n",
       "      <th>operator_name_text</th>\n",
       "      <th>integer_argument_count</th>\n",
       "      <th>latex</th>\n",
       "    </tr>\n",
       "  </thead>\n",
       "  <tbody>\n",
       "    <tr>\n",
       "      <th>0</th>\n",
       "      <td>addition</td>\n",
       "      <td>2</td>\n",
       "      <td>+</td>\n",
       "    </tr>\n",
       "    <tr>\n",
       "      <th>1</th>\n",
       "      <td>cosine</td>\n",
       "      <td>1</td>\n",
       "      <td>\\cos</td>\n",
       "    </tr>\n",
       "    <tr>\n",
       "      <th>2</th>\n",
       "      <td>cross product</td>\n",
       "      <td>2</td>\n",
       "      <td>\\times</td>\n",
       "    </tr>\n",
       "    <tr>\n",
       "      <th>3</th>\n",
       "      <td>definite integral</td>\n",
       "      <td>4</td>\n",
       "      <td>\\int</td>\n",
       "    </tr>\n",
       "    <tr>\n",
       "      <th>4</th>\n",
       "      <td>division</td>\n",
       "      <td>2</td>\n",
       "      <td>/</td>\n",
       "    </tr>\n",
       "  </tbody>\n",
       "</table>\n",
       "</div>"
      ],
      "text/plain": [
       "  operator_name_text  integer_argument_count   latex\n",
       "0           addition                       2       +\n",
       "1             cosine                       1    \\cos\n",
       "2      cross product                       2  \\times\n",
       "3  definite integral                       4    \\int\n",
       "4           division                       2       /"
      ]
     },
     "execution_count": 14,
     "metadata": {},
     "output_type": "execute_result"
    }
   ],
   "source": [
    "df_operators.head()"
   ]
  },
  {
   "cell_type": "code",
   "execution_count": 15,
   "id": "52eb88e5-3904-4df5-9f4c-2c8ca80bdc97",
   "metadata": {},
   "outputs": [
    {
     "data": {
      "text/plain": [
       "(43, 2)"
      ]
     },
     "execution_count": 15,
     "metadata": {},
     "output_type": "execute_result"
    }
   ],
   "source": [
    "df_operator_scopes = pandas.DataFrame(list_of_operator_scope_dicts)\n",
    "df_operator_scopes.shape"
   ]
  },
  {
   "cell_type": "code",
   "execution_count": 16,
   "id": "17e717df-2d20-46a8-b351-3eeab596e43f",
   "metadata": {},
   "outputs": [
    {
     "data": {
      "text/html": [
       "<div>\n",
       "<style scoped>\n",
       "    .dataframe tbody tr th:only-of-type {\n",
       "        vertical-align: middle;\n",
       "    }\n",
       "\n",
       "    .dataframe tbody tr th {\n",
       "        vertical-align: top;\n",
       "    }\n",
       "\n",
       "    .dataframe thead th {\n",
       "        text-align: right;\n",
       "    }\n",
       "</style>\n",
       "<table border=\"1\" class=\"dataframe\">\n",
       "  <thead>\n",
       "    <tr style=\"text-align: right;\">\n",
       "      <th></th>\n",
       "      <th>operator_name_text</th>\n",
       "      <th>scope</th>\n",
       "    </tr>\n",
       "  </thead>\n",
       "  <tbody>\n",
       "    <tr>\n",
       "      <th>0</th>\n",
       "      <td>addition</td>\n",
       "      <td>real</td>\n",
       "    </tr>\n",
       "    <tr>\n",
       "      <th>1</th>\n",
       "      <td>addition</td>\n",
       "      <td>vector</td>\n",
       "    </tr>\n",
       "    <tr>\n",
       "      <th>2</th>\n",
       "      <td>addition</td>\n",
       "      <td>matrix</td>\n",
       "    </tr>\n",
       "    <tr>\n",
       "      <th>3</th>\n",
       "      <td>addition</td>\n",
       "      <td>complex</td>\n",
       "    </tr>\n",
       "    <tr>\n",
       "      <th>4</th>\n",
       "      <td>cosine</td>\n",
       "      <td>real</td>\n",
       "    </tr>\n",
       "  </tbody>\n",
       "</table>\n",
       "</div>"
      ],
      "text/plain": [
       "  operator_name_text    scope\n",
       "0           addition     real\n",
       "1           addition   vector\n",
       "2           addition   matrix\n",
       "3           addition  complex\n",
       "4             cosine     real"
      ]
     },
     "execution_count": 16,
     "metadata": {},
     "output_type": "execute_result"
    }
   ],
   "source": [
    "df_operator_scopes.head()"
   ]
  },
  {
   "cell_type": "code",
   "execution_count": 17,
   "id": "3d722fdb-4500-4062-9723-56ccf7363c79",
   "metadata": {},
   "outputs": [
    {
     "data": {
      "text/plain": [
       "(19, 2)"
      ]
     },
     "execution_count": 17,
     "metadata": {},
     "output_type": "execute_result"
    }
   ],
   "source": [
    "df_operator_macros = pandas.DataFrame(list_of_operator_macros)\n",
    "df_operator_macros.shape"
   ]
  },
  {
   "cell_type": "code",
   "execution_count": 18,
   "id": "04d2e1ad-7a4c-4ef2-8382-9382c5145ee0",
   "metadata": {},
   "outputs": [
    {
     "data": {
      "text/html": [
       "<div>\n",
       "<style scoped>\n",
       "    .dataframe tbody tr th:only-of-type {\n",
       "        vertical-align: middle;\n",
       "    }\n",
       "\n",
       "    .dataframe tbody tr th {\n",
       "        vertical-align: top;\n",
       "    }\n",
       "\n",
       "    .dataframe thead th {\n",
       "        text-align: right;\n",
       "    }\n",
       "</style>\n",
       "<table border=\"1\" class=\"dataframe\">\n",
       "  <thead>\n",
       "    <tr style=\"text-align: right;\">\n",
       "      <th></th>\n",
       "      <th>operator_name_text</th>\n",
       "      <th>macro</th>\n",
       "    </tr>\n",
       "  </thead>\n",
       "  <tbody>\n",
       "    <tr>\n",
       "      <th>0</th>\n",
       "      <td>addition</td>\n",
       "      <td>\\addition[2]{ #1 + #2}</td>\n",
       "    </tr>\n",
       "    <tr>\n",
       "      <th>1</th>\n",
       "      <td>cosine</td>\n",
       "      <td>\\cosine[1]{\\cos #1}</td>\n",
       "    </tr>\n",
       "    <tr>\n",
       "      <th>2</th>\n",
       "      <td>cross product</td>\n",
       "      <td>\\times[2]{ #1 \\times #2}</td>\n",
       "    </tr>\n",
       "    <tr>\n",
       "      <th>3</th>\n",
       "      <td>definite integral</td>\n",
       "      <td>\\integralDefinite[4]{ \\int_{#1}^{#2} #3 #4}</td>\n",
       "    </tr>\n",
       "    <tr>\n",
       "      <th>4</th>\n",
       "      <td>division</td>\n",
       "      <td>\\divisionOneLine[2]{ #1 / #2}</td>\n",
       "    </tr>\n",
       "    <tr>\n",
       "      <th>5</th>\n",
       "      <td>division</td>\n",
       "      <td>\\divisionFrac[2]{ \\frac{#1}{#2}</td>\n",
       "    </tr>\n",
       "    <tr>\n",
       "      <th>6</th>\n",
       "      <td>dot product</td>\n",
       "      <td>\\dotproduct[2]{ #1 \\dot #2}</td>\n",
       "    </tr>\n",
       "    <tr>\n",
       "      <th>7</th>\n",
       "      <td>element-wise addition</td>\n",
       "      <td>\\elementwiseAddition[2]{ #1 + #2}</td>\n",
       "    </tr>\n",
       "    <tr>\n",
       "      <th>8</th>\n",
       "      <td>equals</td>\n",
       "      <td>\\equals[2]{ #1 = #2}</td>\n",
       "    </tr>\n",
       "    <tr>\n",
       "      <th>9</th>\n",
       "      <td>function</td>\n",
       "      <td>\\function[1]{ f #1}</td>\n",
       "    </tr>\n",
       "  </tbody>\n",
       "</table>\n",
       "</div>"
      ],
      "text/plain": [
       "      operator_name_text                                        macro\n",
       "0               addition                       \\addition[2]{ #1 + #2}\n",
       "1                 cosine                          \\cosine[1]{\\cos #1}\n",
       "2          cross product                     \\times[2]{ #1 \\times #2}\n",
       "3      definite integral  \\integralDefinite[4]{ \\int_{#1}^{#2} #3 #4}\n",
       "4               division                \\divisionOneLine[2]{ #1 / #2}\n",
       "5               division              \\divisionFrac[2]{ \\frac{#1}{#2}\n",
       "6            dot product                  \\dotproduct[2]{ #1 \\dot #2}\n",
       "7  element-wise addition            \\elementwiseAddition[2]{ #1 + #2}\n",
       "8                 equals                         \\equals[2]{ #1 = #2}\n",
       "9               function                          \\function[1]{ f #1}"
      ]
     },
     "execution_count": 18,
     "metadata": {},
     "output_type": "execute_result"
    }
   ],
   "source": [
    "df_operator_macros.head(10)"
   ]
  },
  {
   "cell_type": "markdown",
   "id": "8a843bed-abd5-4a37-94a0-94caa1b8f704",
   "metadata": {},
   "source": [
    "# inference rules"
   ]
  },
  {
   "cell_type": "code",
   "execution_count": 19,
   "id": "08f63802-b976-448f-884e-bcdad5a82246",
   "metadata": {
    "tags": []
   },
   "outputs": [],
   "source": [
    "list_of_infrule_dicts = []\n",
    "for infrule_name, infrule_dict in data['inference rules'].items():\n",
    "    this_infrule_dict = {}\n",
    "    this_infrule_dict['inference_rule_name'] = infrule_name\n",
    "    this_infrule_dict['author'] = infrule_dict['author']\n",
    "    this_infrule_dict['creation_date YYYY-MM-DD'] = infrule_dict['creation date']\n",
    "    this_infrule_dict['latex'] = infrule_dict['latex']\n",
    "    this_infrule_dict['notes_latex'] = infrule_dict['notes']\n",
    "    this_infrule_dict['integer_number_of_feeds'] = infrule_dict['number of feeds']\n",
    "    this_infrule_dict['integer_number_of_inputs'] = infrule_dict['number of inputs']\n",
    "    this_infrule_dict['integer_number_of_outputs'] = infrule_dict['number of outputs']\n",
    "    this_infrule_dict['assumptions_latex'] = infrule_dict['assumptions']\n",
    "    list_of_infrule_dicts.append(this_infrule_dict)"
   ]
  },
  {
   "cell_type": "code",
   "execution_count": 20,
   "id": "d0bfe38d-4518-4829-b688-8ae561380689",
   "metadata": {},
   "outputs": [
    {
     "data": {
      "text/plain": [
       "(94, 9)"
      ]
     },
     "execution_count": 20,
     "metadata": {},
     "output_type": "execute_result"
    }
   ],
   "source": [
    "df_infrules = pandas.DataFrame(list_of_infrule_dicts)\n",
    "df_infrules.shape"
   ]
  },
  {
   "cell_type": "code",
   "execution_count": 21,
   "id": "fe4fade9-1448-4f4a-98fa-011d96acff49",
   "metadata": {},
   "outputs": [
    {
     "data": {
      "text/html": [
       "<div>\n",
       "<style scoped>\n",
       "    .dataframe tbody tr th:only-of-type {\n",
       "        vertical-align: middle;\n",
       "    }\n",
       "\n",
       "    .dataframe tbody tr th {\n",
       "        vertical-align: top;\n",
       "    }\n",
       "\n",
       "    .dataframe thead th {\n",
       "        text-align: right;\n",
       "    }\n",
       "</style>\n",
       "<table border=\"1\" class=\"dataframe\">\n",
       "  <thead>\n",
       "    <tr style=\"text-align: right;\">\n",
       "      <th></th>\n",
       "      <th>inference_rule_name</th>\n",
       "      <th>author</th>\n",
       "      <th>creation_date YYYY-MM-DD</th>\n",
       "      <th>latex</th>\n",
       "      <th>notes_latex</th>\n",
       "      <th>integer_number_of_feeds</th>\n",
       "      <th>integer_number_of_inputs</th>\n",
       "      <th>integer_number_of_outputs</th>\n",
       "      <th>assumptions_latex</th>\n",
       "    </tr>\n",
       "  </thead>\n",
       "  <tbody>\n",
       "    <tr>\n",
       "      <th>0</th>\n",
       "      <td>apply operator to bra</td>\n",
       "      <td>4a0987466473c589d2c328d12856760e</td>\n",
       "      <td>2020-05-31</td>\n",
       "      <td>Apply operator in Eq.~\\ref{eq:#1} to bra; yiel...</td>\n",
       "      <td></td>\n",
       "      <td>0</td>\n",
       "      <td>1</td>\n",
       "      <td>1</td>\n",
       "      <td>quantum: Dirac notation</td>\n",
       "    </tr>\n",
       "    <tr>\n",
       "      <th>1</th>\n",
       "      <td>apply operator to ket</td>\n",
       "      <td>4a0987466473c589d2c328d12856760e</td>\n",
       "      <td>2020-05-31</td>\n",
       "      <td>Apply operator in Eq.~\\ref{eq:#1} to ket; yiel...</td>\n",
       "      <td></td>\n",
       "      <td>0</td>\n",
       "      <td>1</td>\n",
       "      <td>1</td>\n",
       "      <td>quantum: Dirac notation</td>\n",
       "    </tr>\n",
       "    <tr>\n",
       "      <th>2</th>\n",
       "      <td>X cross both sides by</td>\n",
       "      <td>4a0987466473c589d2c328d12856760e</td>\n",
       "      <td>2020-04-14</td>\n",
       "      <td>Take cross product of $#1$ and Eq.~\\ref{eq:#2}...</td>\n",
       "      <td></td>\n",
       "      <td>1</td>\n",
       "      <td>1</td>\n",
       "      <td>1</td>\n",
       "      <td>linear algebra</td>\n",
       "    </tr>\n",
       "    <tr>\n",
       "      <th>3</th>\n",
       "      <td>X dot both sides</td>\n",
       "      <td>4a0987466473c589d2c328d12856760e</td>\n",
       "      <td>2020-04-14</td>\n",
       "      <td>Take inner product of $#1$ with Eq.~\\ref{eq:#2...</td>\n",
       "      <td></td>\n",
       "      <td>1</td>\n",
       "      <td>1</td>\n",
       "      <td>1</td>\n",
       "      <td>linear algebra</td>\n",
       "    </tr>\n",
       "    <tr>\n",
       "      <th>4</th>\n",
       "      <td>add X to both sides</td>\n",
       "      <td>4a0987466473c589d2c328d12856760e</td>\n",
       "      <td>2020-04-14</td>\n",
       "      <td>Add $#1$ to both sides of Eq.~\\ref{eq:#2}; yie...</td>\n",
       "      <td></td>\n",
       "      <td>1</td>\n",
       "      <td>1</td>\n",
       "      <td>1</td>\n",
       "      <td></td>\n",
       "    </tr>\n",
       "  </tbody>\n",
       "</table>\n",
       "</div>"
      ],
      "text/plain": [
       "     inference_rule_name                            author  \\\n",
       "0  apply operator to bra  4a0987466473c589d2c328d12856760e   \n",
       "1  apply operator to ket  4a0987466473c589d2c328d12856760e   \n",
       "2  X cross both sides by  4a0987466473c589d2c328d12856760e   \n",
       "3       X dot both sides  4a0987466473c589d2c328d12856760e   \n",
       "4    add X to both sides  4a0987466473c589d2c328d12856760e   \n",
       "\n",
       "  creation_date YYYY-MM-DD                                              latex  \\\n",
       "0               2020-05-31  Apply operator in Eq.~\\ref{eq:#1} to bra; yiel...   \n",
       "1               2020-05-31  Apply operator in Eq.~\\ref{eq:#1} to ket; yiel...   \n",
       "2               2020-04-14  Take cross product of $#1$ and Eq.~\\ref{eq:#2}...   \n",
       "3               2020-04-14  Take inner product of $#1$ with Eq.~\\ref{eq:#2...   \n",
       "4               2020-04-14  Add $#1$ to both sides of Eq.~\\ref{eq:#2}; yie...   \n",
       "\n",
       "  notes_latex  integer_number_of_feeds  integer_number_of_inputs  \\\n",
       "0                                    0                         1   \n",
       "1                                    0                         1   \n",
       "2                                    1                         1   \n",
       "3                                    1                         1   \n",
       "4                                    1                         1   \n",
       "\n",
       "   integer_number_of_outputs        assumptions_latex  \n",
       "0                          1  quantum: Dirac notation  \n",
       "1                          1  quantum: Dirac notation  \n",
       "2                          1           linear algebra  \n",
       "3                          1           linear algebra  \n",
       "4                          1                           "
      ]
     },
     "execution_count": 21,
     "metadata": {},
     "output_type": "execute_result"
    }
   ],
   "source": [
    "df_infrules.head()"
   ]
  },
  {
   "cell_type": "markdown",
   "id": "2027e067-6095-4b4f-9f94-d0397112798d",
   "metadata": {},
   "source": [
    "# measures"
   ]
  },
  {
   "cell_type": "code",
   "execution_count": 22,
   "id": "1d5d0a0d-fcb6-46a9-8102-bfe80054dc05",
   "metadata": {
    "tags": []
   },
   "outputs": [],
   "source": [
    "list_of_measure_dicts = []\n",
    "list_of_measure_refences_dict = []\n",
    "for measure_name, measure_dict in data['measures'].items():\n",
    "    this_measure = {}\n",
    "    this_measure['measure_name'] = measure_name\n",
    "    if 'references' in measure_dict.keys():\n",
    "        for this_ref in measure_dict['references']:\n",
    "            list_of_measure_refences_dict.append({'measure_name': measure_name, \n",
    "                                                 'reference_URL': this_ref})"
   ]
  },
  {
   "cell_type": "code",
   "execution_count": 23,
   "id": "03819067-3741-42b8-8b87-c504a4321eca",
   "metadata": {},
   "outputs": [
    {
     "data": {
      "text/plain": [
       "True"
      ]
     },
     "execution_count": 23,
     "metadata": {},
     "output_type": "execute_result"
    }
   ],
   "source": [
    "df_measures = pandas.DataFrame(list_of_measure_dicts)\n",
    "df_measures.empty"
   ]
  },
  {
   "cell_type": "code",
   "execution_count": 24,
   "id": "adc29359-ecba-468b-bdaf-529d781f9f3f",
   "metadata": {},
   "outputs": [
    {
     "data": {
      "text/html": [
       "<div>\n",
       "<style scoped>\n",
       "    .dataframe tbody tr th:only-of-type {\n",
       "        vertical-align: middle;\n",
       "    }\n",
       "\n",
       "    .dataframe tbody tr th {\n",
       "        vertical-align: top;\n",
       "    }\n",
       "\n",
       "    .dataframe thead th {\n",
       "        text-align: right;\n",
       "    }\n",
       "</style>\n",
       "<table border=\"1\" class=\"dataframe\">\n",
       "  <thead>\n",
       "    <tr style=\"text-align: right;\">\n",
       "      <th></th>\n",
       "      <th>measure_name</th>\n",
       "      <th>reference_URL</th>\n",
       "    </tr>\n",
       "  </thead>\n",
       "  <tbody>\n",
       "    <tr>\n",
       "      <th>0</th>\n",
       "      <td>length</td>\n",
       "      <td>https://en.wikipedia.org/wiki/Unit_of_length</td>\n",
       "    </tr>\n",
       "  </tbody>\n",
       "</table>\n",
       "</div>"
      ],
      "text/plain": [
       "  measure_name                                 reference_URL\n",
       "0       length  https://en.wikipedia.org/wiki/Unit_of_length"
      ]
     },
     "execution_count": 24,
     "metadata": {},
     "output_type": "execute_result"
    }
   ],
   "source": [
    "df_measure_ref = pandas.DataFrame(list_of_measure_refences_dict)\n",
    "df_measure_ref"
   ]
  },
  {
   "cell_type": "markdown",
   "id": "99872231-6f4b-4725-b858-a24b002fa672",
   "metadata": {},
   "source": [
    "# To SQL"
   ]
  },
  {
   "cell_type": "code",
   "execution_count": 25,
   "id": "5ddf98f4-b716-45ab-b7c4-ffaa4b270f5e",
   "metadata": {},
   "outputs": [],
   "source": [
    "pdg_dfs = {\n",
    "    \"units\": df_units,\n",
    "    \"unit_references\": df_unit_references,\n",
    "    \"symbols\": df_symbols,\n",
    "    \"symbol_references\": df_symbol_references,\n",
    "    \"symbol_scope\": df_symbol_scope,\n",
    "    \"operators\": df_operators,\n",
    "    \"operator_scopes\": df_operator_scopes,\n",
    "    \"operator_latex macros\": df_operator_macros,\n",
    "    \"inference_rules\": df_infrules,\n",
    "    \"measures\": df_measures,\n",
    "    \"measure_references\": df_measure_ref\n",
    "}"
   ]
  },
  {
   "cell_type": "code",
   "execution_count": 26,
   "id": "da112ce9-6974-4827-9bd1-120e85042b57",
   "metadata": {},
   "outputs": [
    {
     "name": "stdout",
     "output_type": "stream",
     "text": [
      "table name: units\n"
     ]
    },
    {
     "name": "stderr",
     "output_type": "stream",
     "text": [
      "/opt/conda/lib/python3.9/site-packages/pandas/core/generic.py:2872: UserWarning: The spaces in these column names will not be changed. In pandas versions < 0.14, spaces were converted to underscores.\n",
      "  sql.to_sql(\n"
     ]
    },
    {
     "name": "stdout",
     "output_type": "stream",
     "text": [
      "elapsed 0.37 seconds\n",
      "table name: unit_references\n",
      "elapsed 0.15 seconds\n",
      "table name: symbols\n",
      "elapsed 0.18 seconds\n",
      "table name: symbol_references\n",
      "elapsed 0.08 seconds\n",
      "table name: symbol_scope\n",
      "elapsed 0.11 seconds\n",
      "table name: operators\n",
      "elapsed 0.15 seconds\n",
      "table name: operator_scopes\n",
      "elapsed 0.17 seconds\n",
      "table name: operator_latex macros\n",
      "elapsed 0.11 seconds\n",
      "table name: inference_rules\n",
      "elapsed 0.17 seconds\n",
      "table name: measures\n",
      "elapsed 0.08 seconds\n",
      "table name: measure_references\n",
      "elapsed 0.11 seconds\n"
     ]
    }
   ],
   "source": [
    "# from https://stackoverflow.com/questions/68705428/saving-multiple-pandas-dataframes-to-sqlite-in-a-single-transaction\n",
    "\n",
    "!rm pdg_tables.sql\n",
    "\n",
    "with sqlite3.connect(\"pdg_tables.sql\") as pdg_db:\n",
    "    for table_name, df in pdg_dfs.items():\n",
    "        print(\"table name:\", table_name)\n",
    "        start_time = time.time()\n",
    "        # https://pandas.pydata.org/docs/reference/api/pandas.DataFrame.to_sql.html\n",
    "        df.to_sql(table_name, pdg_db, if_exists=\"replace\")\n",
    "        print(\"elapsed\",round(time.time()-start_time,2),\"seconds\")"
   ]
  },
  {
   "cell_type": "code",
   "execution_count": null,
   "id": "1dbbe345-8548-41fc-ac94-6f65c46756c7",
   "metadata": {},
   "outputs": [],
   "source": []
  }
 ],
 "metadata": {
  "kernelspec": {
   "display_name": "Python 3 (ipykernel)",
   "language": "python",
   "name": "python3"
  },
  "language_info": {
   "codemirror_mode": {
    "name": "ipython",
    "version": 3
   },
   "file_extension": ".py",
   "mimetype": "text/x-python",
   "name": "python",
   "nbconvert_exporter": "python",
   "pygments_lexer": "ipython3",
   "version": "3.9.6"
  }
 },
 "nbformat": 4,
 "nbformat_minor": 5
}

{
 "cells": [
  {
   "cell_type": "markdown",
   "metadata": {},
   "source": [
    "Useful sites:\n",
    "\n",
    "https://nicolewhite.github.io/neo4j-jupyter/hello-world.html\n",
    "\n",
    "https://py2neo.org/2.0/essentials.html\n",
    "\n",
    "cheat sheets for Neo4j:\n",
    "https://gist.github.com/DaniSancas/1d5265fc159a95ff457b940fc5046887\n",
    "https://www.remwebdevelopment.com/blog/sql/some-basic-and-useful-cypher-queries-for-neo4j-201.html"
   ]
  },
  {
   "cell_type": "markdown",
   "metadata": {},
   "source": [
    "## Connect to Neo4j"
   ]
  },
  {
   "cell_type": "code",
   "execution_count": 16,
   "metadata": {
    "collapsed": false
   },
   "outputs": [],
   "source": [
    "from py2neo import authenticate,Graph, Node, Relationship\n",
    "\n",
    "authenticate(\"127.0.0.1:7474\", \"neo4j\", \"asdf\")\n",
    "\n",
    "graph = Graph(\"http://127.0.0.1:7474/browser/\")\n",
    "\n",
    "graph.delete_all()"
   ]
  },
  {
   "cell_type": "markdown",
   "metadata": {},
   "source": [
    "## add content to the graph"
   ]
  },
  {
   "cell_type": "code",
   "execution_count": 19,
   "metadata": {
    "collapsed": false
   },
   "outputs": [],
   "source": [
    "expr1=Node(\"Expression\", latex=\"a=b\", expr_indx=95829)\n",
    "expr2=Node(\"Expression\", latex=\"c=b\", expr_indx=19848)\n",
    "expr3=Node(\"Expression\", latex=\"c=a\", expr_indx=58932)\n",
    "graph.create(expr1 | expr2 | expr3)\n",
    "\n",
    "infrule1=Node(\"InfRule\", name=\"substitute1into2\", latex=\"Substitute Eq.~\\ref #1 into Eq.~\\ref #2\", local_indx=4285)\n",
    "\n",
    "graph.create(infrule1)\n",
    "\n",
    "graph.create(Relationship(expr1, \"input_to\", infrule1, input_indx=1))\n",
    "graph.create(Relationship(expr2, \"input_to\", infrule1, input_indx=2))\n",
    "graph.create(Relationship(infrule1, \"output_from\", expr3, output_indx=1))"
   ]
  },
  {
   "cell_type": "code",
   "execution_count": 31,
   "metadata": {
    "collapsed": false
   },
   "outputs": [],
   "source": [
    "from json import dumps\n",
    "json_graph = dumps(graph.run(\"MATCH (n) RETURN n\").data())\n",
    "\n",
    "with open('pdg.json','w') as fjson:\n",
    "    fjson.write(json_graph)"
   ]
  },
  {
   "cell_type": "markdown",
   "metadata": {
    "collapsed": true
   },
   "source": [
    "I'm not sure why this doesn't work"
   ]
  },
  {
   "cell_type": "code",
   "execution_count": 30,
   "metadata": {
    "collapsed": false
   },
   "outputs": [
    {
     "name": "stdout",
     "output_type": "stream",
     "text": [
      "'[{\"n\": {\"expr_indx\": 95829, \"latex\": \"a=b\"}}, {\"n\": {\"expr_indx\": 19848, \"latex\": \"c=b\"}}, {\"n\": {\"expr_indx\": 58932, \"latex\": \"c=a\"}}, {\"n\": {\"latex\": \"Substitute Eq.~\\\\ref #1 into Eq.~\\\\ref #2\", \"name\": \"substitute1into2\", \"local_indx\": 4285}}, {\"n\": {\"expr_indx\": 95829, \"latex\": \"a=b\"}}, {\"n\": {\"expr_indx\": 19848, \"latex\": \"c=b\"}}, {\"n\": {\"expr_indx\": 58932, \"latex\": \"c=a\"}}, {\"n\": {\"latex\": \"Substitute Eq.~\\\\ref #1 into Eq.~\\\\ref #2\", \"name\": \"substitute1into2\", \"local_indx\": 4285}}, {\"n\": {\"expr_indx\": 95829, \"latex\": \"a=b\"}}, {\"n\": {\"expr_indx\": 19848, \"latex\": \"c=b\"}}, {\"n\": {\"latex\": \"Substitute Eq.~\\\\ref #1 into Eq.~\\\\ref #2\", \"name\": \"substitute1into2\", \"local_indx\": 4285}}]'\n"
     ]
    }
   ],
   "source": [
    "import pprint\n",
    "pprint.pprint(json_graph)"
   ]
  },
  {
   "cell_type": "code",
   "execution_count": 32,
   "metadata": {
    "collapsed": true
   },
   "outputs": [],
   "source": [
    "graph.delete_all()"
   ]
  },
  {
   "cell_type": "code",
   "execution_count": 36,
   "metadata": {
    "collapsed": false
   },
   "outputs": [],
   "source": [
    "with open('pdg.json','r') as fjson:\n",
    "    graph_as_json=fjson.readlines()[0]"
   ]
  },
  {
   "cell_type": "code",
   "execution_count": 37,
   "metadata": {
    "collapsed": false
   },
   "outputs": [
    {
     "data": {
      "text/plain": [
       "'[{\"n\": {\"expr_indx\": 95829, \"latex\": \"a=b\"}}, {\"n\": {\"expr_indx\": 19848, \"latex\": \"c=b\"}}, {\"n\": {\"expr_indx\": 58932, \"latex\": \"c=a\"}}, {\"n\": {\"latex\": \"Substitute Eq.~\\\\ref #1 into Eq.~\\\\ref #2\", \"name\": \"substitute1into2\", \"local_indx\": 4285}}, {\"n\": {\"expr_indx\": 95829, \"latex\": \"a=b\"}}, {\"n\": {\"expr_indx\": 19848, \"latex\": \"c=b\"}}, {\"n\": {\"expr_indx\": 58932, \"latex\": \"c=a\"}}, {\"n\": {\"latex\": \"Substitute Eq.~\\\\ref #1 into Eq.~\\\\ref #2\", \"name\": \"substitute1into2\", \"local_indx\": 4285}}, {\"n\": {\"expr_indx\": 95829, \"latex\": \"a=b\"}}, {\"n\": {\"expr_indx\": 19848, \"latex\": \"c=b\"}}, {\"n\": {\"latex\": \"Substitute Eq.~\\\\ref #1 into Eq.~\\\\ref #2\", \"name\": \"substitute1into2\", \"local_indx\": 4285}}]'"
      ]
     },
     "execution_count": 37,
     "metadata": {},
     "output_type": "execute_result"
    }
   ],
   "source": [
    "graph_as_json"
   ]
  },
  {
   "cell_type": "code",
   "execution_count": null,
   "metadata": {
    "collapsed": true
   },
   "outputs": [],
   "source": []
  }
 ],
 "metadata": {
  "kernelspec": {
   "display_name": "Python 2",
   "language": "python",
   "name": "python2"
  },
  "language_info": {
   "codemirror_mode": {
    "name": "ipython",
    "version": 2
   },
   "file_extension": ".py",
   "mimetype": "text/x-python",
   "name": "python",
   "nbconvert_exporter": "python",
   "pygments_lexer": "ipython2",
   "version": "2.7.10"
  }
 },
 "nbformat": 4,
 "nbformat_minor": 2
}

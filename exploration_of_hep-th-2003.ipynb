{
 "cells": [
  {
   "cell_type": "markdown",
   "metadata": {},
   "source": [
    "https://www.cs.cornell.edu/projects/kddcup/datasets.html"
   ]
  },
  {
   "cell_type": "raw",
   "metadata": {},
   "source": [
    "!tar xzvf hep-th-2003.tar.gz"
   ]
  },
  {
   "cell_type": "raw",
   "metadata": {},
   "source": [
    "!ls -hal 2003/ | wc -l"
   ]
  },
  {
   "cell_type": "markdown",
   "metadata": {},
   "source": [
    "# load libraries"
   ]
  },
  {
   "cell_type": "code",
   "execution_count": 2,
   "metadata": {},
   "outputs": [
    {
     "name": "stdout",
     "output_type": "stream",
     "text": [
      "Collecting tex2py\n",
      "Collecting pytest (from tex2py)\n",
      "  Using cached https://files.pythonhosted.org/packages/ca/e1/2f229554e5c273962fae8b286395d5bbcc7bef276d2b40e1bad954993db2/pytest-5.1.3-py3-none-any.whl\n",
      "Collecting coverage==3.7.1 (from tex2py)\n",
      "Collecting TexSoup==0.1.4 (from tex2py)\n",
      "Collecting coveralls==1.1 (from tex2py)\n",
      "  Using cached https://files.pythonhosted.org/packages/81/f9/da2ad9334f60e418cb229c58724330be2635b369676d3eec8f61e1f85faa/coveralls-1.1-py2.py3-none-any.whl\n",
      "Collecting pytest-cov==2.5.1 (from tex2py)\n",
      "  Using cached https://files.pythonhosted.org/packages/30/7d/7f6a78ae44a1248ee28cc777586c18b28a1df903470e5d34a6e25712b8aa/pytest_cov-2.5.1-py2.py3-none-any.whl\n",
      "Collecting pptree==2.0 (from tex2py)\n",
      "Collecting atomicwrites>=1.0 (from pytest->tex2py)\n",
      "  Using cached https://files.pythonhosted.org/packages/52/90/6155aa926f43f2b2a22b01be7241be3bfd1ceaf7d0b3267213e8127d41f4/atomicwrites-1.3.0-py2.py3-none-any.whl\n",
      "Collecting more-itertools>=4.0.0 (from pytest->tex2py)\n",
      "  Using cached https://files.pythonhosted.org/packages/45/dc/3241eef99eb45f1def35cf93af35d1cf9ef4c0991792583b8f33ea41b092/more_itertools-7.2.0-py3-none-any.whl\n",
      "Collecting pluggy<1.0,>=0.12 (from pytest->tex2py)\n",
      "  Using cached https://files.pythonhosted.org/packages/92/c7/48439f7d5fd6bddb4c04b850bb862b42e3e2b98570040dfaf68aedd8114b/pluggy-0.13.0-py2.py3-none-any.whl\n",
      "Collecting py>=1.5.0 (from pytest->tex2py)\n",
      "  Using cached https://files.pythonhosted.org/packages/76/bc/394ad449851729244a97857ee14d7cba61ddb268dce3db538ba2f2ba1f0f/py-1.8.0-py2.py3-none-any.whl\n",
      "Collecting attrs>=17.4.0 (from pytest->tex2py)\n",
      "  Using cached https://files.pythonhosted.org/packages/23/96/d828354fa2dbdf216eaa7b7de0db692f12c234f7ef888cc14980ef40d1d2/attrs-19.1.0-py2.py3-none-any.whl\n",
      "Collecting importlib-metadata>=0.12; python_version < \"3.8\" (from pytest->tex2py)\n",
      "  Using cached https://files.pythonhosted.org/packages/f6/d2/40b3fa882147719744e6aa50ac39cf7a22a913cbcba86a0371176c425a3b/importlib_metadata-0.23-py2.py3-none-any.whl\n",
      "Requirement already satisfied: packaging in /opt/conda/lib/python3.6/site-packages (from pytest->tex2py) (18.0)\n",
      "Requirement already satisfied: wcwidth in /opt/conda/lib/python3.6/site-packages (from pytest->tex2py) (0.1.7)\n",
      "Requirement already satisfied: requests>=1.0.0 in /opt/conda/lib/python3.6/site-packages (from coveralls==1.1->tex2py) (2.20.0)\n",
      "Collecting docopt>=0.6.1 (from coveralls==1.1->tex2py)\n",
      "Collecting zipp>=0.5 (from importlib-metadata>=0.12; python_version < \"3.8\"->pytest->tex2py)\n",
      "  Using cached https://files.pythonhosted.org/packages/74/3d/1ee25a26411ba0401b43c6376d2316a71addcc72ef8690b101b4ea56d76a/zipp-0.6.0-py2.py3-none-any.whl\n",
      "Requirement already satisfied: six in /opt/conda/lib/python3.6/site-packages (from packaging->pytest->tex2py) (1.11.0)\n",
      "Requirement already satisfied: pyparsing>=2.0.2 in /opt/conda/lib/python3.6/site-packages (from packaging->pytest->tex2py) (2.2.2)\n",
      "Requirement already satisfied: urllib3<1.25,>=1.21.1 in /opt/conda/lib/python3.6/site-packages (from requests>=1.0.0->coveralls==1.1->tex2py) (1.23)\n",
      "Requirement already satisfied: idna<2.8,>=2.5 in /opt/conda/lib/python3.6/site-packages (from requests>=1.0.0->coveralls==1.1->tex2py) (2.7)\n",
      "Requirement already satisfied: chardet<3.1.0,>=3.0.2 in /opt/conda/lib/python3.6/site-packages (from requests>=1.0.0->coveralls==1.1->tex2py) (3.0.4)\n",
      "Requirement already satisfied: certifi>=2017.4.17 in /opt/conda/lib/python3.6/site-packages (from requests>=1.0.0->coveralls==1.1->tex2py) (2018.11.29)\n",
      "Installing collected packages: atomicwrites, more-itertools, zipp, importlib-metadata, pluggy, py, attrs, pytest, coverage, docopt, coveralls, pytest-cov, TexSoup, pptree, tex2py\n",
      "Successfully installed TexSoup-0.1.4 atomicwrites-1.3.0 attrs-19.1.0 coverage-3.7.1 coveralls-1.1 docopt-0.6.2 importlib-metadata-0.23 more-itertools-7.2.0 pluggy-0.13.0 pptree-2.0 py-1.8.0 pytest-5.1.3 pytest-cov-2.5.1 tex2py-0.0.5 zipp-0.6.0\n"
     ]
    }
   ],
   "source": [
    "# https://github.com/alvinwan/tex2py\n",
    "!pip install tex2py"
   ]
  },
  {
   "cell_type": "code",
   "execution_count": 3,
   "metadata": {},
   "outputs": [
    {
     "name": "stdout",
     "output_type": "stream",
     "text": [
      "Requirement already satisfied: texsoup in /opt/conda/lib/python3.6/site-packages (0.1.4)\n",
      "Requirement already satisfied: pytest in /opt/conda/lib/python3.6/site-packages (from texsoup) (5.1.3)\n",
      "Requirement already satisfied: pytest-cov==2.5.1 in /opt/conda/lib/python3.6/site-packages (from texsoup) (2.5.1)\n",
      "Requirement already satisfied: coveralls==1.1 in /opt/conda/lib/python3.6/site-packages (from texsoup) (1.1)\n",
      "Requirement already satisfied: coverage==3.7.1 in /opt/conda/lib/python3.6/site-packages (from texsoup) (3.7.1)\n",
      "Requirement already satisfied: packaging in /opt/conda/lib/python3.6/site-packages (from pytest->texsoup) (18.0)\n",
      "Requirement already satisfied: attrs>=17.4.0 in /opt/conda/lib/python3.6/site-packages (from pytest->texsoup) (19.1.0)\n",
      "Requirement already satisfied: atomicwrites>=1.0 in /opt/conda/lib/python3.6/site-packages (from pytest->texsoup) (1.3.0)\n",
      "Requirement already satisfied: more-itertools>=4.0.0 in /opt/conda/lib/python3.6/site-packages (from pytest->texsoup) (7.2.0)\n",
      "Requirement already satisfied: pluggy<1.0,>=0.12 in /opt/conda/lib/python3.6/site-packages (from pytest->texsoup) (0.13.0)\n",
      "Requirement already satisfied: py>=1.5.0 in /opt/conda/lib/python3.6/site-packages (from pytest->texsoup) (1.8.0)\n",
      "Requirement already satisfied: importlib-metadata>=0.12; python_version < \"3.8\" in /opt/conda/lib/python3.6/site-packages (from pytest->texsoup) (0.23)\n",
      "Requirement already satisfied: wcwidth in /opt/conda/lib/python3.6/site-packages (from pytest->texsoup) (0.1.7)\n",
      "Requirement already satisfied: requests>=1.0.0 in /opt/conda/lib/python3.6/site-packages (from coveralls==1.1->texsoup) (2.20.0)\n",
      "Requirement already satisfied: docopt>=0.6.1 in /opt/conda/lib/python3.6/site-packages (from coveralls==1.1->texsoup) (0.6.2)\n",
      "Requirement already satisfied: pyparsing>=2.0.2 in /opt/conda/lib/python3.6/site-packages (from packaging->pytest->texsoup) (2.2.2)\n",
      "Requirement already satisfied: six in /opt/conda/lib/python3.6/site-packages (from packaging->pytest->texsoup) (1.11.0)\n",
      "Requirement already satisfied: zipp>=0.5 in /opt/conda/lib/python3.6/site-packages (from importlib-metadata>=0.12; python_version < \"3.8\"->pytest->texsoup) (0.6.0)\n",
      "Requirement already satisfied: certifi>=2017.4.17 in /opt/conda/lib/python3.6/site-packages (from requests>=1.0.0->coveralls==1.1->texsoup) (2018.11.29)\n",
      "Requirement already satisfied: idna<2.8,>=2.5 in /opt/conda/lib/python3.6/site-packages (from requests>=1.0.0->coveralls==1.1->texsoup) (2.7)\n",
      "Requirement already satisfied: urllib3<1.25,>=1.21.1 in /opt/conda/lib/python3.6/site-packages (from requests>=1.0.0->coveralls==1.1->texsoup) (1.23)\n",
      "Requirement already satisfied: chardet<3.1.0,>=3.0.2 in /opt/conda/lib/python3.6/site-packages (from requests>=1.0.0->coveralls==1.1->texsoup) (3.0.4)\n"
     ]
    }
   ],
   "source": [
    "# https://github.com/alvinwan/TexSoup\n",
    "!pip install texsoup"
   ]
  },
  {
   "cell_type": "code",
   "execution_count": 4,
   "metadata": {},
   "outputs": [],
   "source": [
    "import re\n",
    "import time\n",
    "import glob\n",
    "import matplotlib.pyplot as plt"
   ]
  },
  {
   "cell_type": "markdown",
   "metadata": {},
   "source": [
    "# load data"
   ]
  },
  {
   "cell_type": "code",
   "execution_count": 7,
   "metadata": {},
   "outputs": [],
   "source": [
    "list_of_files = glob.glob('hep-th/2003/*')"
   ]
  },
  {
   "cell_type": "code",
   "execution_count": 8,
   "metadata": {},
   "outputs": [
    {
     "data": {
      "text/plain": [
       "1019"
      ]
     },
     "execution_count": 8,
     "metadata": {},
     "output_type": "execute_result"
    }
   ],
   "source": [
    "len(list_of_files)"
   ]
  },
  {
   "cell_type": "markdown",
   "metadata": {},
   "source": [
    "# find relevant tags in latex"
   ]
  },
  {
   "cell_type": "code",
   "execution_count": 11,
   "metadata": {},
   "outputs": [
    {
     "name": "stdout",
     "output_type": "stream",
     "text": [
      "7.63 seconds\n"
     ]
    }
   ],
   "source": [
    "start_time=time.time()\n",
    "reslts={}\n",
    "number_of_eq=0\n",
    "for this_file in list_of_files:\n",
    "    with open(this_file,'rb') as f:\n",
    "        data = f.read()\n",
    "    \n",
    "    resp = re.findall('\\\\\\\\begin{(?:eqnarray|equation|multiline)}.*?end{(?:eqnarray|equation|multiline)}',str(data),re.DOTALL)\n",
    "#    print(this_file)\n",
    "    for eq in resp:\n",
    "        number_of_eq+=1\n",
    "        try:\n",
    "            reslts[this_file].append(eq)\n",
    "        except KeyError:\n",
    "            reslts[this_file]=[]\n",
    "            reslts[this_file].append(eq)\n",
    "#        print('  ',eq,'\\n')\n",
    "\n",
    "print(round(time.time()-start_time,2),'seconds')"
   ]
  },
  {
   "cell_type": "code",
   "execution_count": 12,
   "metadata": {},
   "outputs": [
    {
     "data": {
      "text/plain": [
       "29481"
      ]
     },
     "execution_count": 12,
     "metadata": {},
     "output_type": "execute_result"
    }
   ],
   "source": [
    "number_of_eq"
   ]
  },
  {
   "cell_type": "code",
   "execution_count": 13,
   "metadata": {},
   "outputs": [
    {
     "data": {
      "text/plain": [
       "929"
      ]
     },
     "execution_count": 13,
     "metadata": {},
     "output_type": "execute_result"
    }
   ],
   "source": [
    "len(reslts.keys())"
   ]
  },
  {
   "cell_type": "code",
   "execution_count": 20,
   "metadata": {},
   "outputs": [
    {
     "data": {
      "text/plain": [
       "['\\\\begin{equation}}\\\\n\\\\\\\\newcommand{\\\\\\\\eeq}{\\\\\\\\end{equation}',\n",
       " '\\\\begin{eqnarray}}\\\\n\\\\\\\\newcommand{\\\\\\\\eeqa}{\\\\\\\\end{eqnarray}']"
      ]
     },
     "execution_count": 20,
     "metadata": {},
     "output_type": "execute_result"
    }
   ],
   "source": [
    "reslts[list(reslts.keys())[0]]"
   ]
  },
  {
   "cell_type": "code",
   "execution_count": 26,
   "metadata": {},
   "outputs": [
    {
     "data": {
      "text/plain": [
       "'\\\\begin{equation}\\\\\\\\label{planewave}\\\\n\\\\\\\\begin{split}\\\\nds^2 & = 2dx^+dx^--\\\\\\\\m^2\\\\\\\\vec{x}^2\\\\\\\\bigl(dx^+\\\\\\\\bigr)^2+d\\\\\\\\vec{x}^2\\\\\\\\,,\\\\\\\\\\\\\\\\\\\\nF_5 & = 4\\\\\\\\m dx^+\\\\\\\\wedge\\\\\\\\bigl(dx^1\\\\\\\\wedge dx^2\\\\\\\\wedge dx^3\\\\\\\\wedge dx^4+dx^5\\\\\\\\wedge dx^6\\\\\\\\wedge dx^7\\\\\\\\wedge dx^8\\\\\\\\bigr)\\\\\\\\,.\\\\n\\\\\\\\end{split}\\\\n\\\\\\\\end{equation}'"
      ]
     },
     "execution_count": 26,
     "metadata": {},
     "output_type": "execute_result"
    }
   ],
   "source": [
    "reslts[list(reslts.keys())[1]][0]"
   ]
  },
  {
   "cell_type": "markdown",
   "metadata": {},
   "source": [
    "# visualize results"
   ]
  },
  {
   "cell_type": "code",
   "execution_count": 14,
   "metadata": {},
   "outputs": [],
   "source": [
    "number_of_eq_per_file=[]\n",
    "for k,v in reslts.items():\n",
    "    number_of_eq_per_file.append(len(v))"
   ]
  },
  {
   "cell_type": "code",
   "execution_count": 15,
   "metadata": {},
   "outputs": [
    {
     "data": {
      "image/png": "[encoded data removed]",
      "text/plain": [
       "<Figure size 432x288 with 1 Axes>"
      ]
     },
     "metadata": {
      "needs_background": "light"
     },
     "output_type": "display_data"
    }
   ],
   "source": [
    "_=plt.hist(number_of_eq_per_file,bins=100)\n",
    "_=plt.ylabel('number of expressions')\n",
    "_=plt.xlabel('number of documents')"
   ]
  },
  {
   "cell_type": "code",
   "execution_count": 16,
   "metadata": {},
   "outputs": [
    {
     "data": {
      "image/png": "[encoded data removed]",
      "text/plain": [
       "<Figure size 432x288 with 1 Axes>"
      ]
     },
     "metadata": {
      "needs_background": "light"
     },
     "output_type": "display_data"
    }
   ],
   "source": [
    "_=plt.hist(number_of_eq_per_file,bins=100)\n",
    "_=plt.yscale('log', nonposy='clip')\n",
    "_=plt.ylabel('number of expressions')\n",
    "_=plt.xlabel('number of documents')"
   ]
  },
  {
   "cell_type": "markdown",
   "metadata": {},
   "source": [
    "# parse the Latex\n",
    "\n",
    "\n",
    "options: \n",
    "* http://plastex.sourceforge.net/plastex/sect0025.html\n",
    "* tex2py\n",
    "* texsoup"
   ]
  },
  {
   "cell_type": "code",
   "execution_count": 9,
   "metadata": {},
   "outputs": [],
   "source": [
    "# https://github.com/alvinwan/tex2py\n",
    "from tex2py import tex2py"
   ]
  },
  {
   "cell_type": "code",
   "execution_count": 10,
   "metadata": {},
   "outputs": [
    {
     "data": {
      "text/plain": [
       "'hep-th/2003/0304232'"
      ]
     },
     "execution_count": 10,
     "metadata": {},
     "output_type": "execute_result"
    }
   ],
   "source": [
    "list_of_files[1]"
   ]
  },
  {
   "cell_type": "code",
   "execution_count": 11,
   "metadata": {},
   "outputs": [],
   "source": [
    "with open(list_of_files[1]) as f: data = f.read()\n",
    "toc = tex2py(data)"
   ]
  },
  {
   "cell_type": "raw",
   "metadata": {},
   "source": [
    "toc.valid_tags"
   ]
  },
  {
   "cell_type": "code",
   "execution_count": 12,
   "metadata": {},
   "outputs": [],
   "source": [
    "from TexSoup import TexSoup\n",
    "soup = TexSoup(data)"
   ]
  },
  {
   "cell_type": "code",
   "execution_count": 13,
   "metadata": {},
   "outputs": [
    {
     "data": {
      "text/plain": [
       "\\begin{equation}\\label{planewave}\n",
       "\\begin{split}\n",
       "ds^2 & = 2dx^+dx^--\\m^2\\vec{x}^2\\bigl(dx^+\\bigr)^2+d\\vec{x}^2\\,,\\\\\n",
       "F_5 & = 4\\m dx^+\\wedge\\bigl(dx^1\\wedge dx^2\\wedge dx^3\\wedge dx^4+dx^5\\wedge dx^6\\wedge dx^7\\wedge dx^8\\bigr)\\,.\n",
       "\\end{split}\n",
       "\\end{equation}"
      ]
     },
     "execution_count": 13,
     "metadata": {},
     "output_type": "execute_result"
    }
   ],
   "source": [
    "soup.equation"
   ]
  },
  {
   "cell_type": "code",
   "execution_count": 14,
   "metadata": {},
   "outputs": [],
   "source": [
    "lst = list(soup.find_all('equation'))"
   ]
  },
  {
   "cell_type": "code",
   "execution_count": 39,
   "metadata": {},
   "outputs": [
    {
     "data": {
      "text/plain": [
       "79"
      ]
     },
     "execution_count": 39,
     "metadata": {},
     "output_type": "execute_result"
    }
   ],
   "source": [
    "len(lst) # how many equations are in the document?"
   ]
  },
  {
   "cell_type": "code",
   "execution_count": 35,
   "metadata": {},
   "outputs": [
    {
     "data": {
      "text/plain": [
       "\\begin{equation}\\label{planewave}\n",
       "\\begin{split}\n",
       "ds^2 & = 2dx^+dx^--\\m^2\\vec{x}^2\\bigl(dx^+\\bigr)^2+d\\vec{x}^2\\,,\\\\\n",
       "F_5 & = 4\\m dx^+\\wedge\\bigl(dx^1\\wedge dx^2\\wedge dx^3\\wedge dx^4+dx^5\\wedge dx^6\\wedge dx^7\\wedge dx^8\\bigr)\\,.\n",
       "\\end{split}\n",
       "\\end{equation}"
      ]
     },
     "execution_count": 35,
     "metadata": {},
     "output_type": "execute_result"
    }
   ],
   "source": [
    "lst[0] # show the first match"
   ]
  },
  {
   "cell_type": "code",
   "execution_count": 40,
   "metadata": {},
   "outputs": [
    {
     "data": {
      "text/plain": [
       "'\\\\label{planewave}\\n\\\\begin{split}\\nds^2 & = 2dx^+dx^--\\\\m^2\\\\vec{x}^2\\\\bigl(dx^+\\\\bigr)^2+d\\\\vec{x}^2\\\\,,\\\\\\\\\\nF_5 & = 4\\\\m dx^+\\\\wedge\\\\bigl(dx^1\\\\wedge dx^2\\\\wedge dx^3\\\\wedge dx^4+dx^5\\\\wedge dx^6\\\\wedge dx^7\\\\wedge dx^8\\\\bigr)\\\\,.\\n'"
      ]
     },
     "execution_count": 40,
     "metadata": {},
     "output_type": "execute_result"
    }
   ],
   "source": [
    "lst[0][0] # what is the string inside the \"begin{equation}\"?"
   ]
  },
  {
   "cell_type": "code",
   "execution_count": 37,
   "metadata": {},
   "outputs": [
    {
     "data": {
      "text/plain": [
       "\\begin{equation}\n",
       "\\o_n=\\sqrt{n^2+\\bigl(\\m\\a'p^+\\bigr)^2}\\,,\\qquad n\\in\\Nop\\,,\n",
       "\\end{equation}"
      ]
     },
     "execution_count": 37,
     "metadata": {},
     "output_type": "execute_result"
    }
   ],
   "source": [
    "lst[1]"
   ]
  },
  {
   "cell_type": "code",
   "execution_count": 36,
   "metadata": {},
   "outputs": [
    {
     "data": {
      "text/plain": [
       "\"\\n\\\\o_n=\\\\sqrt{n^2+\\\\bigl(\\\\m\\\\a'p^+\\\\bigr)^2}\\\\,,\\\\qquad n\\\\in\\\\Nop\\\\,,\\n\""
      ]
     },
     "execution_count": 36,
     "metadata": {},
     "output_type": "execute_result"
    }
   ],
   "source": [
    "lst[1][0]"
   ]
  },
  {
   "cell_type": "code",
   "execution_count": 38,
   "metadata": {},
   "outputs": [
    {
     "name": "stdout",
     "output_type": "stream",
     "text": [
      "\\label{planewave}\n",
      "\\begin{split}\n",
      "ds^2 & = 2dx^+dx^--\\m^2\\vec{x}^2\\bigl(dx^+\\bigr)^2+d\\vec{x}^2\\,,\\\\\n",
      "F_5 & = 4\\m dx^+\\wedge\\bigl(dx^1\\wedge dx^2\\wedge dx^3\\wedge dx^4+dx^5\\wedge dx^6\\wedge dx^7\\wedge dx^8\\bigr)\\,.\n",
      "\n",
      "\n",
      "\\o_n=\\sqrt{n^2+\\bigl(\\m\\a'p^+\\bigr)^2}\\,,\\qquad n\\in\\Nop\\,,\n",
      "\n",
      "\\label{dict}\n",
      "\\frac{1}{\\m}H = \\D-J\\,,\\qquad \\frac{1}{\\bigl(\\m\\a'p^+\\bigr)^2} = \\frac{g^2_{\\text{YM}}N}{J^2}\\equiv \\l'\\,,\\qquad\n",
      "4\\pi g_{\\text{s}}\\bigl(\\m\\a'p^+\\bigr)^2 = \\frac{J^2}{N}\\equiv g_2\n",
      "\n",
      "\n",
      "N\\to\\infty\\quad\\text{and}\\quad J\\to\\infty\\quad\\text{with}\\quad\\frac{J^2}{N}\\quad\n",
      "\\text{fixed}\\,,\\quad g_{\\text{YM}}\\quad\\text{fixed}\\,,\n",
      "\n",
      "\n",
      "S_{\\mbox{\\scriptsize bos.}(r)}=\\frac{e(\\a_r)}{4\\pi\\a'}\\int\\,d\\t\\int_0^{2\\pi|\\a_r|}\n",
      "\\,d\\s_r\\bigl[\\dot{x}_r^2-x^{\\prime\\,2}_r-\\m^2x_r^2\\bigr]\\,,\n",
      "\n",
      "\n",
      "\\begin{split}\n",
      "x_r^I(\\s_r)& = x_{0(r)}^I+\\sqrt{2}\\sum_{n=1}^{\\infty}\n",
      "\\bigl(x_{n(r)}^I\\cos\\frac{n\\s_r}{|\\a_r|}+x_{-n(r)}^I\\sin\\frac{n\\s_r}{|\\a_r|}\\bigr)\\,,\\\\\n",
      "p_r^I(\\s_r) & =\\frac{1}{2\\pi|\\a_r|}\\bigl[p_{0(r)}^I+\\sqrt{2}\\sum_{n=1}^{\\infty}\n",
      "\\bigl(p_{n(r)}^I\\cos\\frac{n\\s_r}{|\\a_r|}+p_{-n(r)}^I\\sin\\frac{n\\s_r}{|\\a_r|}\\bigr)\\bigr]\\,.\n",
      "\n",
      "\\label{xp}\n",
      "x_{n(r)}^I=i\\sqrt{\\frac{\\a'}{2\\o_{n(r)}}}\\bigl(a_{n(r)}^I-a_{n(r)}^{I\\,\\dag}\\bigr)\\,,\\qquad\n",
      "p_{n(r)}^I=\\sqrt{\\frac{\\o_{n(r)}}{2\\a'}}\\bigl(a_{n(r)}^I+a_{n(r)}^{I\\,\\dag}\\bigr)\\,.\n",
      "\n",
      "=i\\d^{IJ}\\d_{rs}\\d(\\s_r-\\s_s)\\qquad\\lr\\qquad [a_{n(r)}^I,a_{m(s)}^{J\\,\\dag}]=\\d^{IJ}\\d_{nm}\\d_{rs}\\,.\n",
      "\n",
      "\n",
      "S_{\\mbox{\\scriptsize ferm.}(r)}=\\frac{1}{8\\pi}\\int\\,d\\t\\int_0^{2\\pi|\\a_r|}\\,d\\s_r\n",
      "[i(\\bar{\\vt}_r\\dot{\\vt}_r+\\vt_r\\dot{\\bar{\\vt}}_r)\n",
      "-\\vt_r\\vt'_r+\\bar{\\vt}_r\\bar{\\vt}'_r-2\\m\\bar{\\vt}_r\\Pi\\vt_r]\\,,\n",
      "\n",
      "\n",
      "\\begin{split}\n",
      "\\vt^a_r(\\s_r) & =\\vt^a_{0(r)}+\\sqrt{2}\\sum_{n=1}^{\\infty}\n",
      "\\bigl(\\vt^a_{n(r)}\\cos\\frac{n\\s_r}{|\\a_r|}+\\vt^a_{-n(r)}\\sin\\frac{n\\s_r}{|\\a_r|}\\bigr)\\,,\\\\\n",
      "\\l^a_r(\\s_r) & =\\frac{1}{2\\pi|\\a_r|}\\bigl[\\l^a_{0(r)}+\\sqrt{2}\\sum_{n=1}^{\\infty}\n",
      "\\bigl(\\l^a_{n(r)}\\cos\\frac{n\\s_r}{|\\a_r|}+\\l^a_{-n(r)}\\sin\\frac{n\\s_r}{|\\a_r|}\\bigr)\\bigr]\\,.\n",
      "\n",
      "\n",
      "\\{\\vt^a_r(\\s_r),\\l^b_s(\\s_s)\\}=\\d^{ab}\\d_{rs}\\d(\\s_r-\\s_s)\\qquad\\lr\\qquad\\{\\vt^a_{n(r)},\\l^b_{m(s)}\\}=\\d^{ab}\\d_{nm}\\d_{rs}\\,.\n",
      "\n",
      "\n",
      "\\vt_{n(r)}=\\frac{c_{n(r)}}{\\sqrt{|\\a_r|}}\\left[(1+\\r_{n(r)}\\Pi)b_{n(r)}\n",
      "+e(\\a_rn)(1-\\r_{n(r)}\\Pi)b_{-n(r)}^{\\dag}\\right]\\,,\\qquad n\\in\\Zop\\,,\n",
      "\n",
      "\n",
      "\\r_{n(r)}=\\r_{-n(r)}=\\frac{\\o_{n(r)}-|n|}{\\m\\a_r}\\,,\\qquad\n",
      "c_{n(r)}=c_{-n(r)}=\\frac{1}{\\sqrt{1+\\r_{n(r)}^2}}\\,.\n",
      "\n",
      "\n",
      "\\{b^a_{n(r)},b^{b\\,\\dag}_{m(s)}\\}=\\d^{ab}\\d_{nm}\\d_{rs}\\,.\n",
      "\n",
      "\n",
      "\\Pi =\n",
      "\\begin{pmatrix}\n",
      "\\d_{\\a_1}^{\\b_1}\\d_{\\a_2}^{\\b_2} & 0 \\\\ 0 & -\\d^{\\da_1}_{\\db_1}\\d^{\\da_2}_{\\db_2}\n",
      "\n",
      "\n",
      "\\{b_{n(r)\\,\\a_1\\a_2},b^{\\b_1\\b_2\\,\\dag}_{m(s)}\\}=\\d_{\\a_1}^{\\b_1}\\d_{\\a_2}^{\\b_2}\\d_{nm}\\d_{rs}\\,,\\qquad\n",
      "\\{b_{n(r)\\,\\da_1\\da_2},b^{\\db_1\\db_2\\,\\dag}_{m(s)}\\}=\\d_{\\da_1}^{\\db_1}\\d_{\\da_2}^{\\db_2}\\d_{nm}\\d_{rs}\\,.\n",
      "\n",
      "\n",
      "H_{2(r)}=\\frac{1}{\\a_r}\\sum_{n\\in\\Zop}\\o_{n(r)}\\bigl(a_{n(r)}^{I\\,\\dag}a_{n(r)}^I\n",
      "+b^{\\a_1\\a_2\\,\\dag}_{n(r)}b_{n(r)\\,\\a_1\\a_2}+b^{\\da_1\\da_2\\,\\dag}_{n(r)}b_{n(r)\\,\\da_1\\da_2}\\bigr)\\,.\n",
      "\n",
      "\n",
      "a_{n(r)}|v\\ra_r=0\\,,\\qquad b_{n(r)}|v\\ra_r=0\\,,\\quad n\\in\\Nop\\,.\n",
      "\n",
      "\\label{comm}\n",
      "\\begin{split}\n",
      "[H,P^I] &= -i\\m^2J^{+I}\\,,\\qquad [H,Q^+]=-\\m\\Pi Q^+\\,,\\\\\n",
      "\\{Q^-_{\\da},\\bar{Q}^-_{\\db}\\} &=\n",
      "2\\d_{\\dot{a}\\dot{b}}H-i\\m\\bigl(\\g_{ij}\\Pi\\bigr)_{\\dot{a}\\dot{b}}J^{ij}+i\\m\\bigl(\\g_{i'j'}\\Pi\\bigr)_{\\dot{a}\\dot{b}}J^{i'j'}\\,.\n",
      "\n",
      "\\label{q-mode}\n",
      "\\begin{split}\n",
      "Q^-_{(r)} & =\\frac{e(\\a_r)}{\\sqrt{|\\a_r|}}\\g\n",
      "\\Bigl(\\sqrt{\\m}\\left[a_{0(r)}(1+e(\\a_r)\\Pi)+a_{0(r)}^{\\dag}(1-e(\\a_r)\\Pi)\\right]\\l_{0(r)}\\\\\n",
      "&+\\sum_{n\\neq 0}\\sqrt{|n|}\\left[a_{n(r)}P_{n(r)}^{-1}b_{n(r)}^{\\dag}\n",
      "+e(\\a_r)e(n)a_{n(r)}^{\\dag}P_{n(r)}b_{-n(r)}\\right]\\Bigr)\\,,\n",
      "\n",
      "\n",
      "P_{n(r)}\\equiv\\frac{1-\\r_{n(r)}\\Pi}{\\sqrt{1-\\r_{n(r)}^2}}\n",
      "=\\frac{1+\\Pi}{2}U_{|n|(r)}^{1/2}+\\frac{1-\\Pi}{2}U_{|n|(r)}^{-1/2}\\,,\\qquad\n",
      "U_{n(r)}\\equiv\\frac{\\o_{n(r)}-\\m\\a_r}{n}\\,.\n",
      "\n",
      "\\label{hexp}\n",
      "H=H_2+g_{\\text{s}}H_3+\\cdots\\,,\n",
      "\n",
      " = -i\\m^2J^{+I}\\quad\\Longrightarrow\\quad[H_3,P^I]=0\\,,\n",
      "\n",
      "\\label{q+}\n",
      "[H,Q^+]=-\\m\\Pi Q^+\\quad\\Longrightarrow\\quad[H_3,Q^+]=0\\,,\n",
      "\n",
      "\n",
      "|V\\ra\\equiv|E_a\\ra|E_b\\ra\\d\\bigl(\\sum_{r=1}^3\\a_r\\bigr)\\,,\n",
      "\n",
      "\\label{bv}\n",
      "|E_a\\ra = \\exp\\left(\\frac{1}{2}\n",
      "\\sum_{r,s=1}^3\\sum_{m,n\\in\\Zop}a^{I\\,\\dag}_{m(r)}\\bar{N}^{rs}_{mn}a^{I\\,\\dag}_{n(s)}\n",
      "\\right)|v\\ra_{123}\\,,\n",
      "\n",
      "\\label{eb2}\n",
      "|E_b\\ra=\\exp\\left(\n",
      "\\sum_{r,s=1}^3\\sum_{m,n\\ge0}\n",
      "\\bigl(b^{\\a_1\\a_2\\,\\dag}_{-m(r)}b^{\\dag}_{n(s)\\,\\a_1\\a_2}+b^{\\da_1\\da_2\\,\\dag}_{m(r)}b^{\\dag}_{-n(s)\\,\\da_1\\da_2}\\bigr)\n",
      "\\bar{Q}^{rs}_{mn}\\right)|v\\ra_{123}\\,,\n",
      "\n",
      "\n",
      "\\sqrt{2}\\eta\\,Q\\equiv Q^-+i\\bar{Q}^-\\,,\\qquad\\text{and}\\qquad\n",
      "\\sqrt{2}\\bar{\\eta}\\,\\wt{Q}=Q^--i\\bar{Q}^-\n",
      "\n",
      "\n",
      "\\{Q_{\\dot{a}},\\wt{Q}_{\\dot{b}}\\}=0\\,,\\quad\n",
      "\\{Q_{\\dot{a}},Q_{\\dot{b}}\\}=\\{\\wt{Q}_{\\dot{a}},\\wt{Q}_{\\dot{b}}\\}\n",
      "=2\\d_{\\dot{a}\\dot{b}}H-i\\m\\bigl(\\g_{ij}\\Pi\\bigr)_{\\dot{a}\\dot{b}}J^{ij}+i\\m\\bigl(\\g_{i'j'}\\Pi\\bigr)_{\\dot{a}\\dot{b}}J^{i'j'}\\,.\n",
      "\n",
      "\n",
      "K^I \\equiv \\sum_{r=1}^3\\sum_{n\\in\\Zop}K_{n(r)}a_{n(r)}^{I\\,\\dag}\\,,\\qquad\n",
      "\\K^I \\equiv \\sum_{r=1}^3\\sum_{n\\in\\Zop}\\K_{n(r)}a_{n(r)}^{I\\,\\dag}\\,,\n",
      "\n",
      "\n",
      "K_{n(r)} \\equiv (1-4\\m\\a K)^{1/2}\\begin{cases} F_{0(r)}\\,, & n=0 \\\\\n",
      "F_{n(r)}\\,, & n>0 \\\\\n",
      "iU_{n(r)}F_{n(r)}\\,, & n<0\n",
      "\n",
      "\n",
      "\\label{Y}\n",
      "Y^{\\a_1\\a_2} = \\sum_{r=1}^3\\sum_{n\\ge 0}\\bar{G}_{n(r)}b_{n(r)}^{\\dag\\,\\a_1\\a_2}\\,,\\qquad\n",
      "Z^{\\da_1\\da_2} = \\sum_{r=1}^3\\sum_{n\\ge 0}\\bar{G}_{n(r)}b_{-n(r)}^{\\dag\\,\\da_1\\da_2}\\,,\n",
      "\n",
      "\\label{G}\n",
      "\\bar{G}_{(r)} =\n",
      "\\sqrt{-\\frac{\\a'}{\\a}}(1-4\\m\\a K)^{1/2}\\sqrt{|\\a_r|}U_{(r)}^{1/2}C^{-1/2}F_{(r)}\\,,\n",
      "\n",
      "\\label{qy}\n",
      "\\begin{split}\n",
      "\\eta\\sqrt{\\frac{-2\\a}{\\a'}}\\sum_{r=1}^3\\{Q_{(r)},Y+iZ\\} & = i\\g^IK^I\\,,\\\\\n",
      "\\bar{\\eta}\\sqrt{\\frac{-2\\a}{\\a'}}\\sum_{r=1}^3\\{\\wt{Q}_{(r)},Y-iZ\\} & = -i\\g^I\\wt{K}^I\\,.\n",
      "\n",
      "^I\\equiv\\sum_{r=1}^3\\sum_{n\\in\\Zop}K^*_{n(r)}a_{n(r)}^{I\\,\\dag} = \\K^I,\\quad\n",
      "Y^*\\equiv\\sum_{r=1}^3\\sum_{n\\ge 0}\\bar{G}^*_{n(r)}b_{n(r)}^{\\dag}=Y,\\quad\n",
      "Z^*\\equiv\\sum_{r=1}^3\\sum_{n\\ge 0}\\bar{G}^*_{n(r)}b_{-n(r)}^{\\dag} = Z,\n",
      "\n",
      "\\label{ansatz1}\n",
      "|Q_{3\\,\\b_1\\db_2}\\ra =\n",
      "\\bigl(f^i_{\\b_1\\db_2}(Y,Z)\\K^i+g^{i'}_{\\b_1\\db_2}(Y,Z)\\K^{i'}\\bigr)|V\\ra\\,,\n",
      "\n",
      "\\label{y2}\n",
      "Y^2_{\\a_1\\b_1} \\equiv Y_{\\a_1\\a_2}Y^{\\a_2}_{\\b_1}\\,,\\qquad Y^2_{\\a_2\\b_2} \\equiv Y_{\\a_1\\a_2}Y^{\\a_1}_{\\b_2}\\,,\n",
      "\n",
      "\\label{y3}\n",
      "Y^3_{\\a_1\\b_2} \\equiv Y^2_{\\a_1\\b_1}Y^{\\b_1}_{\\b_2}=-Y^2_{\\b_2\\a_2}Y^{\\a_2}_{\\a_1}\\,,\n",
      "\n",
      "\n",
      "Y^4_{\\a_1\\b_1} \\equiv Y^2_{\\a_1\\g_1}{Y^2}^{\\g_1}_{\\b_1}=-\\frac{1}{2}\\e_{\\a_1\\b_1}Y^4\\,,\\qquad\n",
      "Y^4_{\\a_2\\b_2} \\equiv Y^2_{\\a_2\\g_2}{Y^2}^{\\g_2}_{\\b_2}=\\frac{1}{2}\\e_{\\a_2\\b_2}Y^4\\,,\n",
      "\n",
      "\\label{y4}\n",
      "Y^4 \\equiv Y^2_{\\a_1\\b_1}{Y^2}^{\\a_1\\b_1}=-Y^2_{\\a_2\\b_2}{Y^2}^{\\a_2\\b_2}\\,.\n",
      "\n",
      "\n",
      "\\bar{\\eta}\\sqrt{\\frac{\\a'}{-2\\a}}|Q_{3\\,\\b_1\\db_2}\\ra =\n",
      "\\Bigl(s_{\\dg_1\\db_2}(Z)t_{\\b_1\\g_1}(Y)\\K^{\\dg_1\\g_1}+is_{\\b_1\\g_2}(Y)t^*_{\\db_2\\dg_2}(Z)\\K^{\\dg_2\\g_2}\\Bigr)|V\\ra\\,,\n",
      "\n",
      "\n",
      "-\\eta\\sqrt{\\frac{\\a'}{-2\\a}}|Q_{3\\,\\db_1\\b_2}\\ra =\n",
      "\\Bigl(s^*_{\\g_1\\b_2}(Y)t^*_{\\db_1\\dg_1}(Z)\\K^{\\dg_1\\g_1}+is^*_{\\db_1\\dg_2}(Z)t_{\\b_2\\g_2}(Y)\\K^{\\dg_2\\g_2}\\Bigr)|V\\ra\\,.\n",
      "\n",
      "\n",
      "\\K^{\\dg_1\\g_1} \\equiv \\K^i{\\s^i}^{\\dg_1\\g_1}\\,,\\qquad\n",
      "\\K^{\\dg_2\\g_2} \\equiv \\K^{i'}{\\s^{i'}}^{\\dg_2\\g_2}\\,,\n",
      "\n",
      "\n",
      "s(Y) \\equiv Y+\\frac{i}{3}Y^3\\,,\\qquad t(Y) \\equiv \\e+iY^2-\\frac{1}{6}Y^4\\,.\n",
      "\n",
      "^{ij} \\equiv \\s^{ij}_{\\a_1\\b_1}{Y^2}^{\\a_1\\b_1}\\,,\\quad\n",
      "{Z^2}^{ij} \\equiv \\s^{ij}_{\\da_1\\db_1}{Z^2}^{\\da_1\\db_1}\\,,\\quad\n",
      "\\bigl(Y^2Z^2\\bigr)^{ij} \\equiv {Y^2}^{k(i}{Z^2}^{j)k}\n",
      "\n",
      "\\label{nij}\n",
      "|n\\ra\\equiv\\a^{I\\,\\dag}_{n(3)}\\a^{J\\,\\dag}_{-n(3)}|v\\ra_3\\,.\n",
      "\n",
      "\\label{de1}\n",
      "\\d E_n^{(2)}\\la n|n\\ra = g_2^2\\sum_{1,2}\n",
      "\\frac{1}{2}\\frac{\\left|\\la n|H_3|1,2\\ra\\right|^2}{E_n^{(0)}-E_{1,2}^{(0)}}\n",
      "-\\frac{g_2^2}{4}\\la n|Q_{3\\,\\b_1\\db_1}Q_3^{\\b_1\\db_1}|n\\ra\\,.\n",
      "\n",
      "\\label{tr}\n",
      "x^+ \\to -x^+\\,,\\qquad x^- \\to - x^-\\,,\\qquad \\m \\to -\\m\\,,\n",
      "\n",
      "\n",
      "\\m \\to -\\m\\,,\\qquad \\Pi \\to -\\Pi\n",
      "\n",
      "\\label{de2}\n",
      "{\\mc N}\\d E_n^{(2)}=-g_2^2\\int_{-1}^0\\frac{d\\b}{\\b(\\b+1)}\n",
      "\\sum_{\\text{modes}}\\left[\n",
      "\\frac{1}{2}\\frac{\\left|\\la n|H_3|1,2\\ra\\right|^2}{E_n^{(0)}-E_{1,2}^{(0)}}\n",
      "-\\frac{1}{4}\\la n|Q_{3\\,\\b_1\\db_1}|1,2\\ra\\la 1,2|Q_3^{\\b_1\\db_1}|n\\ra\\right]\\,.\n",
      "\n",
      "\n",
      "\\begin{split}\n",
      "\\la n|H_3|\\a_{0(r)}^{\\dag\\,k}\\a_{0(s)}^{\\dag\\,l}|v\\ra_{12}& \\sim\n",
      "\\m\\l'\\frac{\\sin^2 n\\pi\\b}{2\\pi^2}\\left(\\d^{rs}+\\frac{\\sqrt{\\a_r\\a_s}}{\\a_3}\\right)S^{ijkl}\\,,\\\\\n",
      "\\la n|H_3|\\a_{k(r)}^{\\dag\\,k}\\a_{-k(r)}^{\\dag\\,l}|v\\ra_{12} & \\sim\n",
      "\\m\\l'\\b(\\b+1)\\frac{\\a_3}{\\a_r}\\frac{\\sin^2 n\\pi\\b}{2\\pi^2}S^{ijkl}\\,,\n",
      "\n",
      "\n",
      "S^{ijkl}\\equiv T^{ijkl}+\\frac{1}{4}\\d^{ij}T^{kl}\\,,\\quad\n",
      "T^{ijkl}=\\d^{ik}\\d^{jl}+\\d^{jk}\\d^{il}-\\frac{1}{2}\\d^{ij}\\d^{kl}\\,,\\quad\n",
      "T^{kl} = -2\\d^{kl}\n",
      "\n",
      "\n",
      "\\frac{\\m g_2^2\\l'}{4\\pi^2}\\frac{15}{64\\pi^2n^2}\\sum_{k,l}S^{ijkl}S^{ijkl}=\n",
      "\\frac{\\m g_2^2\\l'}{4\\pi^2}\\frac{15}{16\\pi^2n^2}\\Bigl[\\frac{1}{2}\\bigl(1+\\frac{1}{2}\\d^{ij}\\bigr)+\\frac{1}{4}\\d^{ij}\\Bigr]\\,.\n",
      "\n",
      "\\label{9-1}\n",
      "\\frac{\\m g_2^2\\l'}{4\\pi^2}\\frac{15}{16\\pi^2n^2}\\,.\n",
      "\n",
      "\n",
      "-\\pi\\a'\\m^2\\la n|K^M\\K^N|E_a\\ra\n",
      "\\sim\\frac{\\m\\sqrt{\\l'}}{2\\pi}\\b(\\b+1)\\sin^2n\\pi\\b\\left(\\d^{MI}\\d^{NJ}+\\d^{NI}\\d^{MJ}\\right)\\,.\n",
      "\n",
      "\n",
      "-{}_{123}\\la v|b_{k(r)\\,\\a_1\\a_2}b_{-k(s)\\,\\da_1\\da_2}Y^{\\g_1\\g_2}Z^{\\dg_1\\dg_2}|E_b\\ra\n",
      "=\\d_{\\a_1}^{\\g_1}\\d_{\\a_2}^{\\g_2}\\d_{\\da_1}^{\\dg_1}\\d_{\\da_2}^{\\dg_2}\n",
      "\\bar{G}_{k(r)}\\bar{G}_{k(s)}\\,.\n",
      "\n",
      "\n",
      "\\frac{\\m g_2^2\\l'}{4\\pi^2}\\frac{3}{8\\pi^2 n^2}\n",
      "-\\frac{\\m g_2^2\\l'}{4n\\pi^3}\\int_{-1}^0 d\\b\\,\\sin^4n\\pi\\b\\cot n\\pi\\b(\\b+1)\n",
      "=\\frac{\\m g_2^2\\l'}{4\\pi^2}\\frac{15}{16\\pi^2 n^2}\\frac{1}{2}\\,,\n",
      "\n",
      "\n",
      "\\eta|Q_{3\\,\\b_1\\db_2}\\ra \\sim\n",
      "-\\sqrt{-\\frac{\\a'}{8\\a_3^3}}\\sqrt{-\\b(\\b+1)}\\bigl(Y_{\\b_1\\g_2}\\K^{\\g_2}_{\\db_1}-iZ_{\\dg_1\\b_2}\\K^{\\dg_1}_{\\b_1}\\bigr)|E_a\\ra|E_b\\ra\\,,\n",
      "\n",
      "\n",
      "\\frac{1}{2}\\frac{\\m g_2^2\\l'}{4\\pi^2}\\left(\\frac{1}{12}+\\frac{35}{32n^2\\pi^2}\\right)\\,,\n",
      "\n",
      "\n",
      "\\frac{\\m g_2^2\\l'}{4\\pi^2}\\left(\\frac{1}{12}+\\frac{5}{32n^2\\pi^2}\\right)\n",
      "\\Bigl[\\frac{1}{2}\\bigl(1+\\frac{1}{2}\\d^{ij}\\bigr)+\\frac{1}{4}\\d^{ij}\\Bigr]\\,,\n",
      "\n",
      "\n",
      "\\d E_n^{(2)}=\\frac{\\m g_2^2\\l'}{4\\pi^2}\\left(\\frac{1}{12}+\\frac{35}{32n^2\\pi^2}\\right)\\,.\n",
      "\n",
      "_v \\longrightarrow ({\\bf 4},{\\bf 1})\\oplus ({\\bf 1},{\\bf 4})\\,,\\qquad\n",
      "{\\bf 8}_s \\longrightarrow ({\\bf 2},{\\bf 2}) \\oplus ({\\bf 2'},{\\bf 2'})\\,,\\qquad\n",
      "{\\bf 8}_c \\longrightarrow ({\\bf 2},{\\bf 2'}) \\oplus ({\\bf 2'},{\\bf 2})\\,,\n",
      "\n",
      "\n",
      "\\s^i_{\\a\\da}=\\bigl(i\\t^1,i\\t^2,i\\t^3,-1\\bigr)_{\\a\\da}\n",
      "\n",
      "\n",
      "\\s^i_{\\a\\da} = \\e_{\\a\\b}\\e_{\\da\\db}{\\s^i}^{\\db\\b}\n",
      "\\equiv \\e_{\\a\\b}{\\s^i}^{\\b}_{\\da} \\equiv \\e_{\\da\\db}{\\s^i}^{\\db}_{\\a}\\,.\n",
      "\n",
      "\n",
      "\\s^i_{\\a\\da}{\\s^j}^{\\da\\b}+\\s^j_{\\a\\da}{\\s^i}^{\\da\\b}\n",
      "=2\\d^{ij}\\d_{\\a}^{\\b}\\,,\\qquad\n",
      "{\\s^i}^{\\da\\a}\\s^j_{\\a\\db}+{\\s^j}^{\\da\\a}\\s^i_{\\a\\db}=\n",
      "2\\d^{ij}\\d^{\\da}_{\\db}\\,.\n",
      "\n",
      "\n",
      "\\Pi_{ab} =\n",
      "\\begin{pmatrix} \\bigl(\\s^1\\s^2\\s^3\\s^4\\bigr)_{\\a_1}^{\\b_1}\\d_{\\a_2}^{\\b_2} & 0 \\\\\n",
      "0 & \\bigl(\\s^1\\s^2\\s^3\\s^4\\bigr)^{\\da_1}_{\\db_1}\\d^{\\da_2}_{\\db_2}\n",
      "\n",
      "\\label{1Y234}\n",
      "\\begin{split}\n",
      "\\sum_r[Q_{(r)\\,\\a_1\\da_2},Y^2_{\\b_1\\g_1}] & =\n",
      "-i\\bigl(\\e_{\\a_1\\b_1}Y_{\\g_1\\g_2}+\\e_{\\a_1\\g_1}Y_{\\b_1\\g_2}\\bigr)K^{\\g_2}_{\\da_2}\\,,\\\\\n",
      "\\sum_r[Q_{(r)\\,\\a_1\\da_2},Y^2_{\\b_2\\g_2}] & =\n",
      "i\\bigl(Y_{\\a_1\\b_2}K_{\\g_2\\da_2}+Y_{\\a_1\\g_2}K_{\\b_2\\da_2}\\bigr)\\,,\\\\\n",
      "\\sum_r\\{Q_{(r)\\,\\a_1\\da_2},Y^3_{\\b_1\\g_2}\\} & =\n",
      "3iY_{\\a_1\\g_2}Y_{\\b_1\\d_2}K^{\\d_2}_{\\da_2}\\,,\\\\\n",
      "\\sum_r[Q_{(r)\\,\\a_1\\da_2},Y^4] & =\n",
      "4iY^3_{\\a_1\\a_2}K^{\\a_2}_{\\da_2}\\,,\n",
      "\n",
      "\\label{2Y234}\n",
      "\\begin{split}\n",
      "\\sum_r[Q_{(r)\\,\\db_1\\b_2},Y^2_{\\a_1\\g_1}] & =\n",
      "-i\\bigl(Y_{\\g_1\\b_2}K_{\\a_1\\db_1}+Y_{\\a_1\\b_2}K_{\\g_1\\db_1}\\bigr)\\,,\\\\\n",
      "\\sum_r[Q_{(r)\\,\\db_1\\b_2},Y^2_{\\a_2\\g_2}] & =\n",
      "-i\\bigl(\\e_{\\a_2\\b_2}Y_{\\g_1\\g_2}+\\e_{\\g_2\\b_2}Y_{\\g_1\\a_2}\\bigr)K^{\\g_1}_{\\db_1}\\,,\\\\\n",
      "\\sum_r\\{Q_{(r)\\,\\db_1\\b_2},Y^3_{\\a_1\\g_2}\\} & =\n",
      "3iY_{\\a_1\\b_2}Y_{\\g_1\\g_2}K^{\\g_1}_{\\db_1}\\,,\\\\\n",
      "\\sum_r[Q_{(r)\\,\\db_1\\b_2},Y^4] & =\n",
      "-4iY^3_{\\a_1\\b_2}K^{\\a_1}_{\\db_1}\\,,\n",
      "\n",
      "\\label{1Z234}\n",
      "\\begin{split}\n",
      "\\sum_r[Q_{(r)\\,\\a_1\\da_2},Z^2_{\\db_1\\dg_1}] & =\n",
      "K_{\\a_1\\db_1}Z_{\\dg_1\\da_2}+K_{\\a_1\\dg_1}Z_{\\db_1\\da_2}\\,,\\\\\n",
      "\\sum_r[Q_{(r)\\,\\a_1\\da_2},Z^2_{\\db_2\\dg_2}] & =\n",
      "-\\bigl(\\e_{\\da_2\\db_2}Z_{\\dg_1\\dg_2}+\\e_{\\da_2\\dg_2}Z_{\\dg_1\\db_2}\\bigr)K_{\\a_1}^{\\dg_1}\\,,\\\\\n",
      "\\sum_r\\{Q_{(r)\\,\\a_1\\da_2},Z^3_{\\db_1\\dg_2}\\} & =\n",
      "-3Z_{\\db_1\\da_2}Z_{\\dg_1\\dg_2}K^{\\dg_1}_{\\a_1}\\,,\\\\\n",
      "\\sum_r[Q_{(r)\\,\\a_1\\da_2},Z^4] & =\n",
      "4Z^3_{\\da_1\\da_2}K^{\\da_1}_{\\a_1}\\,,\n",
      "\n",
      "\\label{2Z234}\n",
      "\\begin{split}\n",
      "\\sum_r[Q_{(r)\\,\\db_1\\b_2},Z^2_{\\da_1\\dg_1}] & =\n",
      "-\\bigl(\\e_{\\db_1\\da_1}Z_{\\dg_1\\dg_2}+\\e_{\\db_1\\dg_1}Z_{\\da_1\\dg_2}\\bigr)K_{\\b_2}^{\\dg_2}\\,,\\\\\n",
      "\\sum_r[Q_{(r)\\,\\db_1\\b_2},Z^2_{\\da_2\\dg_2}] & =\n",
      "K_{\\b_2\\da_2}Z_{\\db_1\\dg_2}+K_{\\b_2\\dg_2}Z_{\\db_1\\da_2}\\,,\\\\\n",
      "\\sum_r\\{Q_{(r)\\,\\db_1\\b_2},Z^3_{\\da_1\\dg_2}\\} & =\n",
      "3Z_{\\db_1\\dg_2}Z_{\\da_1\\dd_2}K^{\\dd_2}_{\\b_2}\\,,\\\\\n",
      "\\sum_r[Q_{(r)\\,\\db_1\\b_2},Z^4] & =\n",
      "4Z^3_{\\db_1\\dg_2}K^{\\dg_2}_{\\b_2}\\,.\n",
      "\n",
      "\n",
      "-4\\frac{\\m\\a}{\\a'}\\e_{\\a_1\\b_1}\\e_{\\da_2\\db_2}\n",
      "\\Bigl(a_{3,0}Y^4+ia_{0,3}Z^4+(a_{3,4}+ia_{4,3})Y^4Z^4\\Bigr)\\,,\\quad\n",
      "\\text{and}\\quad a_{2,1}=ia_{1,2}\\,.\n",
      "\n",
      "\n",
      "2Y_{[\\a_1\\g_2}K^{\\dg_1}_{\\b_1]} = \\e_{\\a_1\\b_1}Y^{\\g_1}_{\\g_2}K^{\\dg_1}_{\\g_1}\\,,\n",
      "\n",
      "\\label{trick}\n",
      "\\begin{pmatrix} b_{n(r)} \\\\ b_{-n(r)} \n",
      "\n",
      "\\begin{split}\n",
      "\\sum_r[Q_{(r)\\,\\a_1\\da_2},K_{\\b_1\\db_1}] & =\n",
      "-4\\frac{\\a}{\\a'}\\e_{\\b_1\\a_1}\\bigl(\\p_{\\t}+\\p_{\\s}\\bigr)Z_{\\db_1\\da_2}\\,,\\\\\n",
      "\\sum_r[Q_{(r)\\,\\da_1\\a_2},K_{\\b_1\\db_1}] & =\n",
      "-4i\\frac{\\a}{\\a'}\\e_{\\db_1\\da_1}\\bigl(\\p_{\\t}+\\p_{\\s}\\bigr)Y_{\\b_1\\a_2}\\,,\n",
      "\n",
      "\n",
      "\\begin{split}\n",
      "\\sum_r[Q_{(r)\\,\\a_1\\da_2},K_{\\b_2\\db_2}] & =\n",
      "-4i\\frac{\\a}{\\a'}\\e_{\\da_2\\db_2}\\bigl(\\p_{\\t}+\\p_{\\s}\\bigr)Y_{\\a_1\\b_2}\\,,\\\\\n",
      "\\sum_r[Q_{(r)\\,\\da_1\\a_2},K_{\\b_2\\db_2}] & =\n",
      "4\\frac{\\a}{\\a'}\\e_{\\a_2\\b_2}\\bigl(\\p_{\\t}+\\p_{\\s}\\bigr)Z_{\\da_1\\db_2}\\,,\n",
      "\n",
      "\\label{dV}\n",
      "\\p_{\\s}|V\\ra = -\\frac{i}{4}\n",
      "\\left[\\frac{\\a'}{\\a}\\bigl(K^IK^I-\\K^I\\K^I\\bigr)-\n",
      "4\\bigl(Y_{\\a_1\\a_2}\\p_{\\t}Y^{\\a_1\\a_2}-Z_{\\da_1\\da_2}\\p_{\\t}Z^{\\da_1\\da_2}\\bigr)\\right]|V\\ra\\,.\n",
      "\n",
      "\n",
      "\\lim_{\\s\\to\\pi\\a_1}Y(\\s)|V\\ra = Y|V\\ra\\,,\\qquad \\lim_{\\s\\to\\pi\\a_1}Z(\\s)|V\\ra = Z|V\\ra\\,.\n",
      "\n",
      "\n",
      "\\lim_{\\s\\to\\pi\\a_1}Y(\\s)|V\\ra = f(\\m)(1-4\\m\\a K)^{-1/2}Y|V\\ra\\,,\n",
      "\n",
      "\n",
      "f(\\m)\\equiv-2\\frac{\\sqrt{-\\a}}{\\a_1}\\lim_{e\\to0}\\e^{1/2}\n",
      "\\sum_{n=1}^{\\infty}(-1)^nn\\cos(n\\e/\\a_1)\\bar{N}^1_n=(1-4\\m\\a K)^{1/2}.\n",
      "\n"
     ]
    }
   ],
   "source": [
    "for this_eq in soup.find_all('equation'):\n",
    "    print(this_eq[0])"
   ]
  },
  {
   "cell_type": "code",
   "execution_count": null,
   "metadata": {},
   "outputs": [],
   "source": []
  }
 ],
 "metadata": {
  "kernelspec": {
   "display_name": "Python 3",
   "language": "python",
   "name": "python3"
  },
  "language_info": {
   "codemirror_mode": {
    "name": "ipython",
    "version": 3
   },
   "file_extension": ".py",
   "mimetype": "text/x-python",
   "name": "python",
   "nbconvert_exporter": "python",
   "pygments_lexer": "ipython3",
   "version": "3.6.7"
  }
 },
 "nbformat": 4,
 "nbformat_minor": 2
}
